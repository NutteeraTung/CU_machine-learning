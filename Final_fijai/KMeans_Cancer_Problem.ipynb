{
 "cells": [
  {
   "cell_type": "markdown",
   "id": "dca9502d",
   "metadata": {},
   "source": [
    "# Final Exam Second Semester 2566 - K-Means (Cancer Patient Problem)\n",
    "\n",
    "\n",
    "This exam problem has an objective to develop a K-Means algorithm to group cancer patient data into k clusters according to 23 features such as age, gender, air pollution, alcohol use, dust, allergy, occupational, hazards, genetic risk, chronic lung disease, etc."
   ]
  },
  {
   "cell_type": "code",
   "execution_count": 2,
   "id": "e1e36d0f",
   "metadata": {},
   "outputs": [],
   "source": [
    "# used for manipulating directory paths\n",
    "import os\n",
    "\n",
    "# Scientific and vector computation for python\n",
    "import numpy as np\n",
    "\n",
    "from sklearn.cluster import KMeans\n",
    "\n",
    "# library written for this exam\n",
    "# import utilsKMeans as utils\n",
    "\n",
    "%load_ext autoreload\n",
    "%autoreload 2\n",
    "\n",
    "# tells matplotlib to embed plots within the notebook\n",
    "%matplotlib inline\n",
    "\n",
    "import random \n",
    "random.seed(10)"
   ]
  },
  {
   "cell_type": "markdown",
   "id": "5a565f5e",
   "metadata": {},
   "source": [
    "### We start the exam by first loading the dataset. "
   ]
  },
  {
   "cell_type": "code",
   "execution_count": 3,
   "id": "889d904c",
   "metadata": {},
   "outputs": [
    {
     "ename": "FileNotFoundError",
     "evalue": "Data\\KMeans_CancerData.txt not found.",
     "output_type": "error",
     "traceback": [
      "\u001b[1;31m---------------------------------------------------------------------------\u001b[0m",
      "\u001b[1;31mFileNotFoundError\u001b[0m                         Traceback (most recent call last)",
      "Cell \u001b[1;32mIn[3], line 2\u001b[0m\n\u001b[0;32m      1\u001b[0m \u001b[38;5;66;03m# Load the dataset into the variable X \u001b[39;00m\n\u001b[1;32m----> 2\u001b[0m data \u001b[38;5;241m=\u001b[39m \u001b[43mnp\u001b[49m\u001b[38;5;241;43m.\u001b[39;49m\u001b[43mloadtxt\u001b[49m\u001b[43m(\u001b[49m\u001b[43mos\u001b[49m\u001b[38;5;241;43m.\u001b[39;49m\u001b[43mpath\u001b[49m\u001b[38;5;241;43m.\u001b[39;49m\u001b[43mjoin\u001b[49m\u001b[43m(\u001b[49m\u001b[38;5;124;43m'\u001b[39;49m\u001b[38;5;124;43mData\u001b[39;49m\u001b[38;5;124;43m'\u001b[39;49m\u001b[43m,\u001b[49m\u001b[43m \u001b[49m\u001b[38;5;124;43m'\u001b[39;49m\u001b[38;5;124;43mKMeans_CancerData.txt\u001b[39;49m\u001b[38;5;124;43m'\u001b[39;49m\u001b[43m)\u001b[49m\u001b[43m)\u001b[49m\n\u001b[0;32m      3\u001b[0m X \u001b[38;5;241m=\u001b[39m data\n\u001b[0;32m      5\u001b[0m m \u001b[38;5;241m=\u001b[39m X\u001b[38;5;241m.\u001b[39mshape[\u001b[38;5;241m0\u001b[39m] \u001b[38;5;66;03m# number of training examples\u001b[39;00m\n",
      "File \u001b[1;32md:\\M.eng\\Machine learning\\env\\Lib\\site-packages\\numpy\\lib\\_npyio_impl.py:1397\u001b[0m, in \u001b[0;36mloadtxt\u001b[1;34m(fname, dtype, comments, delimiter, converters, skiprows, usecols, unpack, ndmin, encoding, max_rows, quotechar, like)\u001b[0m\n\u001b[0;32m   1394\u001b[0m \u001b[38;5;28;01mif\u001b[39;00m \u001b[38;5;28misinstance\u001b[39m(delimiter, \u001b[38;5;28mbytes\u001b[39m):\n\u001b[0;32m   1395\u001b[0m     delimiter \u001b[38;5;241m=\u001b[39m delimiter\u001b[38;5;241m.\u001b[39mdecode(\u001b[38;5;124m'\u001b[39m\u001b[38;5;124mlatin1\u001b[39m\u001b[38;5;124m'\u001b[39m)\n\u001b[1;32m-> 1397\u001b[0m arr \u001b[38;5;241m=\u001b[39m \u001b[43m_read\u001b[49m\u001b[43m(\u001b[49m\u001b[43mfname\u001b[49m\u001b[43m,\u001b[49m\u001b[43m \u001b[49m\u001b[43mdtype\u001b[49m\u001b[38;5;241;43m=\u001b[39;49m\u001b[43mdtype\u001b[49m\u001b[43m,\u001b[49m\u001b[43m \u001b[49m\u001b[43mcomment\u001b[49m\u001b[38;5;241;43m=\u001b[39;49m\u001b[43mcomment\u001b[49m\u001b[43m,\u001b[49m\u001b[43m \u001b[49m\u001b[43mdelimiter\u001b[49m\u001b[38;5;241;43m=\u001b[39;49m\u001b[43mdelimiter\u001b[49m\u001b[43m,\u001b[49m\n\u001b[0;32m   1398\u001b[0m \u001b[43m            \u001b[49m\u001b[43mconverters\u001b[49m\u001b[38;5;241;43m=\u001b[39;49m\u001b[43mconverters\u001b[49m\u001b[43m,\u001b[49m\u001b[43m \u001b[49m\u001b[43mskiplines\u001b[49m\u001b[38;5;241;43m=\u001b[39;49m\u001b[43mskiprows\u001b[49m\u001b[43m,\u001b[49m\u001b[43m \u001b[49m\u001b[43musecols\u001b[49m\u001b[38;5;241;43m=\u001b[39;49m\u001b[43musecols\u001b[49m\u001b[43m,\u001b[49m\n\u001b[0;32m   1399\u001b[0m \u001b[43m            \u001b[49m\u001b[43munpack\u001b[49m\u001b[38;5;241;43m=\u001b[39;49m\u001b[43munpack\u001b[49m\u001b[43m,\u001b[49m\u001b[43m \u001b[49m\u001b[43mndmin\u001b[49m\u001b[38;5;241;43m=\u001b[39;49m\u001b[43mndmin\u001b[49m\u001b[43m,\u001b[49m\u001b[43m \u001b[49m\u001b[43mencoding\u001b[49m\u001b[38;5;241;43m=\u001b[39;49m\u001b[43mencoding\u001b[49m\u001b[43m,\u001b[49m\n\u001b[0;32m   1400\u001b[0m \u001b[43m            \u001b[49m\u001b[43mmax_rows\u001b[49m\u001b[38;5;241;43m=\u001b[39;49m\u001b[43mmax_rows\u001b[49m\u001b[43m,\u001b[49m\u001b[43m \u001b[49m\u001b[43mquote\u001b[49m\u001b[38;5;241;43m=\u001b[39;49m\u001b[43mquotechar\u001b[49m\u001b[43m)\u001b[49m\n\u001b[0;32m   1402\u001b[0m \u001b[38;5;28;01mreturn\u001b[39;00m arr\n",
      "File \u001b[1;32md:\\M.eng\\Machine learning\\env\\Lib\\site-packages\\numpy\\lib\\_npyio_impl.py:1012\u001b[0m, in \u001b[0;36m_read\u001b[1;34m(fname, delimiter, comment, quote, imaginary_unit, usecols, skiplines, max_rows, converters, ndmin, unpack, dtype, encoding)\u001b[0m\n\u001b[0;32m   1010\u001b[0m     fname \u001b[38;5;241m=\u001b[39m os\u001b[38;5;241m.\u001b[39mfspath(fname)\n\u001b[0;32m   1011\u001b[0m \u001b[38;5;28;01mif\u001b[39;00m \u001b[38;5;28misinstance\u001b[39m(fname, \u001b[38;5;28mstr\u001b[39m):\n\u001b[1;32m-> 1012\u001b[0m     fh \u001b[38;5;241m=\u001b[39m \u001b[43mnp\u001b[49m\u001b[38;5;241;43m.\u001b[39;49m\u001b[43mlib\u001b[49m\u001b[38;5;241;43m.\u001b[39;49m\u001b[43m_datasource\u001b[49m\u001b[38;5;241;43m.\u001b[39;49m\u001b[43mopen\u001b[49m\u001b[43m(\u001b[49m\u001b[43mfname\u001b[49m\u001b[43m,\u001b[49m\u001b[43m \u001b[49m\u001b[38;5;124;43m'\u001b[39;49m\u001b[38;5;124;43mrt\u001b[39;49m\u001b[38;5;124;43m'\u001b[39;49m\u001b[43m,\u001b[49m\u001b[43m \u001b[49m\u001b[43mencoding\u001b[49m\u001b[38;5;241;43m=\u001b[39;49m\u001b[43mencoding\u001b[49m\u001b[43m)\u001b[49m\n\u001b[0;32m   1013\u001b[0m     \u001b[38;5;28;01mif\u001b[39;00m encoding \u001b[38;5;129;01mis\u001b[39;00m \u001b[38;5;28;01mNone\u001b[39;00m:\n\u001b[0;32m   1014\u001b[0m         encoding \u001b[38;5;241m=\u001b[39m \u001b[38;5;28mgetattr\u001b[39m(fh, \u001b[38;5;124m'\u001b[39m\u001b[38;5;124mencoding\u001b[39m\u001b[38;5;124m'\u001b[39m, \u001b[38;5;124m'\u001b[39m\u001b[38;5;124mlatin1\u001b[39m\u001b[38;5;124m'\u001b[39m)\n",
      "File \u001b[1;32md:\\M.eng\\Machine learning\\env\\Lib\\site-packages\\numpy\\lib\\_datasource.py:192\u001b[0m, in \u001b[0;36mopen\u001b[1;34m(path, mode, destpath, encoding, newline)\u001b[0m\n\u001b[0;32m    155\u001b[0m \u001b[38;5;250m\u001b[39m\u001b[38;5;124;03m\"\"\"\u001b[39;00m\n\u001b[0;32m    156\u001b[0m \u001b[38;5;124;03mOpen `path` with `mode` and return the file object.\u001b[39;00m\n\u001b[0;32m    157\u001b[0m \n\u001b[1;32m   (...)\u001b[0m\n\u001b[0;32m    188\u001b[0m \n\u001b[0;32m    189\u001b[0m \u001b[38;5;124;03m\"\"\"\u001b[39;00m\n\u001b[0;32m    191\u001b[0m ds \u001b[38;5;241m=\u001b[39m DataSource(destpath)\n\u001b[1;32m--> 192\u001b[0m \u001b[38;5;28;01mreturn\u001b[39;00m \u001b[43mds\u001b[49m\u001b[38;5;241;43m.\u001b[39;49m\u001b[43mopen\u001b[49m\u001b[43m(\u001b[49m\u001b[43mpath\u001b[49m\u001b[43m,\u001b[49m\u001b[43m \u001b[49m\u001b[43mmode\u001b[49m\u001b[43m,\u001b[49m\u001b[43m \u001b[49m\u001b[43mencoding\u001b[49m\u001b[38;5;241;43m=\u001b[39;49m\u001b[43mencoding\u001b[49m\u001b[43m,\u001b[49m\u001b[43m \u001b[49m\u001b[43mnewline\u001b[49m\u001b[38;5;241;43m=\u001b[39;49m\u001b[43mnewline\u001b[49m\u001b[43m)\u001b[49m\n",
      "File \u001b[1;32md:\\M.eng\\Machine learning\\env\\Lib\\site-packages\\numpy\\lib\\_datasource.py:529\u001b[0m, in \u001b[0;36mDataSource.open\u001b[1;34m(self, path, mode, encoding, newline)\u001b[0m\n\u001b[0;32m    526\u001b[0m     \u001b[38;5;28;01mreturn\u001b[39;00m _file_openers[ext](found, mode\u001b[38;5;241m=\u001b[39mmode,\n\u001b[0;32m    527\u001b[0m                               encoding\u001b[38;5;241m=\u001b[39mencoding, newline\u001b[38;5;241m=\u001b[39mnewline)\n\u001b[0;32m    528\u001b[0m \u001b[38;5;28;01melse\u001b[39;00m:\n\u001b[1;32m--> 529\u001b[0m     \u001b[38;5;28;01mraise\u001b[39;00m \u001b[38;5;167;01mFileNotFoundError\u001b[39;00m(\u001b[38;5;124mf\u001b[39m\u001b[38;5;124m\"\u001b[39m\u001b[38;5;132;01m{\u001b[39;00mpath\u001b[38;5;132;01m}\u001b[39;00m\u001b[38;5;124m not found.\u001b[39m\u001b[38;5;124m\"\u001b[39m)\n",
      "\u001b[1;31mFileNotFoundError\u001b[0m: Data\\KMeans_CancerData.txt not found."
     ]
    }
   ],
   "source": [
    "# Load the dataset into the variable X \n",
    "data = np.loadtxt(os.path.join('Data', 'KMeans_CancerData.txt'))\n",
    "X = data\n",
    "\n",
    "m = X.shape[0] # number of training examples"
   ]
  },
  {
   "cell_type": "code",
   "execution_count": 12,
   "id": "5f5c4b48",
   "metadata": {},
   "outputs": [
    {
     "data": {
      "text/plain": [
       "(1000, 23)"
      ]
     },
     "execution_count": 12,
     "metadata": {},
     "output_type": "execute_result"
    }
   ],
   "source": [
    "X.shape"
   ]
  },
  {
   "cell_type": "markdown",
   "id": "5878b9b6",
   "metadata": {},
   "source": [
    "### Set initial centroids"
   ]
  },
  {
   "cell_type": "code",
   "execution_count": 36,
   "id": "d9801bc0",
   "metadata": {},
   "outputs": [],
   "source": [
    "# Initial centroids\n",
    "# For consistency, here we set centroids to specific values\n",
    "# but in practice you should generate them automatically, such as by\n",
    "# settings them to be random examples.\n",
    "\n",
    "initial_centroids = np.array([[44.,  1.,  2.,  1.,  5.,  3.,  2.,  3.,  2.,  4.,  1.,  4.,  2.,\n",
    "         4.,  6.,  7.,  2.,  5.,  8.,  1.,  3.,  2.,  3.],\n",
    "       [35.,  1.,  2.,  1.,  5.,  3.,  2.,  3.,  2.,  4.,  1.,  4.,  2.,\n",
    "         4.,  6.,  7.,  2.,  5.,  8.,  1.,  3.,  2.,  3.],\n",
    "       [54.,  1.,  6.,  7.,  7.,  7.,  7.,  6.,  7.,  7.,  7.,  8.,  7.,\n",
    "         7.,  5.,  3.,  2.,  7.,  8.,  2.,  4.,  5.,  3.],\n",
    "       [62.,  1.,  6.,  8.,  7.,  7.,  7.,  6.,  7.,  7.,  8.,  7.,  7.,\n",
    "         9.,  3.,  2.,  4.,  1.,  4.,  2.,  4.,  2.,  3.],\n",
    "       [24.,  2.,  3.,  2.,  2.,  1.,  1.,  1.,  1.,  1.,  4.,  2.,  3.,\n",
    "         6.,  2.,  1.,  2.,  3.,  4.,  2.,  1.,  1.,  1.]])"
   ]
  },
  {
   "cell_type": "code",
   "execution_count": 37,
   "id": "3a84c1ce",
   "metadata": {},
   "outputs": [],
   "source": [
    "def findClosestCentroids(X, centroids): # step 1\n",
    "    \"\"\"\n",
    "    Computes the centroid memberships for every example.\n",
    "    \n",
    "    Parameters\n",
    "    ----------\n",
    "    X : array_like\n",
    "        The dataset of size (m, n) where each row is a single example. \n",
    "        That is, we have m examples each of n dimensions.\n",
    "        \n",
    "    centroids : array_like\n",
    "        The K-means centroids of size (K, n). K is the number\n",
    "        of clusters, and n is the the data dimension.\n",
    "    \n",
    "    Returns\n",
    "    -------\n",
    "    idx : array_like\n",
    "        A vector of size (m, ) which holds the centroids assignment for each\n",
    "        example (row) in the dataset X.\n",
    "    \n",
    "    Instructions\n",
    "    ------------\n",
    "    Go over every example, find its closest centroid, and store\n",
    "    the index inside `idx` at the appropriate location.\n",
    "    Concretely, idx[i] should contain the index of the centroid\n",
    "    closest to example i. Hence, it should be a value in the \n",
    "    range 0..K-1\n",
    "\n",
    "    Note\n",
    "    ----\n",
    "    You can use a for-loop over the examples to compute this.\n",
    "    \"\"\"\n",
    "    # Set K\n",
    "    K = centroids.shape[0]\n",
    "\n",
    "    # You need to return the following variables correctly.\n",
    "    idx = np.zeros(X.shape[0], dtype=int)\n",
    "\n",
    "    # ====================== YOUR CODE HERE ======================\n",
    "    \n",
    "    for i in range(idx.size):\n",
    "        J = np.sqrt(np.sum(np.square(X[i] - centroids),axis = 1)) #norm เฉยๆ\n",
    "        # we can also set J = np.sum(np.square(X[i] - centroids),axis = 1) #norm กำลังสอง\n",
    "        \n",
    "        idx[i] = np.argmin(J)\n",
    "    \n",
    "    # =============================================================\n",
    "    return idx"
   ]
  },
  {
   "cell_type": "code",
   "execution_count": 38,
   "id": "ed663049",
   "metadata": {},
   "outputs": [
    {
     "name": "stdout",
     "output_type": "stream",
     "text": [
      "[1 4 1 1 2 1 0 4 1 0 2 3 1 1 4 3 4 1 1 4 4 2 3 1 1 3 1 4 1 1 1 0 1 1 4 4 4\n",
      " 4 1 0 4 4 0 4 4 0 4 1 4 1 4 4 4 1 1 0 0 2 0 1 3 3 0 0 1 0 0 1 3 1 0 3 1 1\n",
      " 4 1 4 2 0 1 0 2 0 1 1 1 1 2 1 2 3 2 1 2 1 4 1 1 4 1 2 1 2 1 1 1 1 2 1 4 4\n",
      " 0 4 4 4 1 1 1 4 1 4 2 3 1 1 4 3 4 1 1 4 4 2 3 1 1 3 1 4 1 1 1 0 1 1 4 1 4\n",
      " 4 1 0 4 4 0 4 4 0 0 1 4 1 4 4 4 1 1 0 0 1 0 1 3 3 0 0 1 0 0 1 1 1 0 3 1 1\n",
      " 4 1 4 2 0 4 0 2 0 1 1 1 1 2 1 2 4 2 1 2 1 4 1 1 4 1 2 4 2 1 1 1 1 2 1 4 4\n",
      " 0 1 1 4 1 1 1 4 1 4 2 3 1 0 4 3 4 1 1 4 4 2 3 1 4 3 1 4 1 1 1 0 1 1 4 4 4\n",
      " 4 1 0 4 4 0 4 4 0 0 1 4 1 4 4 4 1 1 0 0 4 0 1 3 3 0 0 1 0 0 1 4 1 0 3 1 1\n",
      " 4 1 4 2 0 0 0 2 0 1 1 1 1 2 1 2 1 2 1 2 1 4 1 1 4 1 2 4 2 1 1 1 1 2 1 4 4\n",
      " 0 4 1 4 1 1 1 4 1 4 2 3 1 4 4 3 4 1 1 4 4 2 3 1 4 3 1 4 1 1 1 0 1 1 4 4 4\n",
      " 4 1 0 4 4 0 4 4 0 1 1 4 4 1 0 0 0 1 0 0 1 0 1 3 3 0 0 1 0 0 1 0 1 0 3 0 1\n",
      " 1 1 4 2 0 0 0 2 0 0 0 1 0 2 1 2 0 3 0 2 1 1 1 1 4 1 2 1 2 1 1 1 1 2 1 1 4\n",
      " 0 2 3 4 1 1 1 4 1 4 2 3 1 3 4 3 4 1 1 4 4 2 3 1 0 3 1 4 1 1 1 0 1 1 4 0 4\n",
      " 4 1 0 4 4 0 4 4 0 1 1 4 1 4 4 4 1 1 0 0 0 0 1 3 3 0 0 1 0 0 1 0 1 0 3 1 1\n",
      " 4 1 4 2 0 1 0 2 0 1 1 1 1 2 1 2 1 2 1 2 1 4 1 1 4 1 2 0 2 1 1 1 1 2 1 4 4\n",
      " 0 3 3 4 1 1 1 4 1 4 2 3 1 1 4 3 4 1 1 4 4 2 3 1 1 3 1 4 1 1 1 0 1 1 4 4 4\n",
      " 4 1 0 4 4 0 4 4 0 1 1 4 1 4 4 4 1 1 0 0 4 0 1 3 3 0 0 1 0 0 1 2 1 0 3 1 1\n",
      " 4 1 4 2 0 0 0 2 0 1 1 1 1 2 1 2 0 2 1 2 1 4 1 1 4 1 2 2 2 1 1 1 1 2 1 4 4\n",
      " 0 1 0 4 1 1 1 4 1 4 2 3 1 1 4 3 4 1 1 4 4 2 3 1 1 3 1 4 1 1 1 0 1 1 4 1 4\n",
      " 4 1 0 4 4 0 4 4 0 1 1 4 1 4 4 4 1 1 0 0 2 0 1 3 3 0 0 1 0 0 1 1 1 0 3 1 1\n",
      " 4 1 4 2 0 2 0 2 0 1 1 1 1 2 1 2 2 2 1 2 1 4 1 1 4 1 2 1 2 1 1 1 1 2 1 4 4\n",
      " 0 4 2 4 1 1 1 4 1 4 2 3 1 1 4 3 4 1 1 4 4 2 3 1 4 3 1 4 1 1 1 0 1 1 4 1 4\n",
      " 4 1 0 4 4 0 4 4 0 1 1 4 1 4 4 4 1 1 0 0 4 0 1 3 3 0 0 1 0 0 1 1 1 0 3 1 1\n",
      " 4 1 4 2 0 2 0 2 0 1 1 1 1 2 1 2 2 2 1 2 1 4 1 1 4 1 2 1 2 1 1 1 1 2 1 4 4\n",
      " 0 3 1 4 1 1 1 4 1 4 2 3 1 1 4 3 4 1 1 4 4 2 3 1 1 3 1 4 1 1 1 0 1 1 4 2 4\n",
      " 4 1 0 4 4 0 4 4 0 1 1 4 1 4 4 4 1 1 0 0 4 0 1 3 3 0 0 1 0 0 1 4 1 0 3 1 1\n",
      " 4 1 4 2 0 0 0 2 0 1 1 1 1 2 1 0 4 0 1 2 1 4 1 1 4 1 2 1 2 1 1 1 1 2 1 4 4\n",
      " 0]\n"
     ]
    }
   ],
   "source": [
    "K = 5   \n",
    "\n",
    "# Find the closest centroids for the examples using the initial_centroids\n",
    "idx = findClosestCentroids(X, initial_centroids)\n",
    "print(idx)"
   ]
  },
  {
   "cell_type": "code",
   "execution_count": 55,
   "id": "021281dd",
   "metadata": {},
   "outputs": [
    {
     "name": "stdout",
     "output_type": "stream",
     "text": [
      "[0.258 0.393 0.288 0.429 0.873]\n"
     ]
    }
   ],
   "source": [
    "for i in range(idx.size):\n",
    "    J = (1/m) * np.sum(np.square(X[i] - initial_centroids),axis = 1)\n",
    "print(J)"
   ]
  },
  {
   "cell_type": "code",
   "execution_count": 50,
   "id": "7965dd10",
   "metadata": {},
   "outputs": [
    {
     "data": {
      "text/plain": [
       "<function utilsKMeans.runkMeans(X, centroids, findClosestCentroids, computeCentroids, max_iters=10, plot_progress=False)>"
      ]
     },
     "execution_count": 50,
     "metadata": {},
     "output_type": "execute_result"
    }
   ],
   "source": [
    "utils.runkMeans"
   ]
  },
  {
   "cell_type": "code",
   "execution_count": 51,
   "id": "bc62601a",
   "metadata": {},
   "outputs": [],
   "source": [
    "def computeCentroids(X, idx, K): # step 2\n",
    "    \"\"\"\n",
    "    Returns the new centroids by computing the means of the data points\n",
    "    assigned to each centroid.\n",
    "    \n",
    "    Parameters\n",
    "    ----------\n",
    "    X : array_like\n",
    "        The datset where each row is a single data point. That is, it \n",
    "        is a matrix of size (m, n) where there are m datapoints each\n",
    "        having n dimensions. \n",
    "    \n",
    "    idx : array_like \n",
    "        A vector (size m) of centroid assignments (i.e. each entry in range [0 ... K-1])\n",
    "        for each example.\n",
    "    \n",
    "    K : int\n",
    "        Number of clusters\n",
    "    \n",
    "    Returns\n",
    "    -------\n",
    "    centroids : array_like\n",
    "        A matrix of size (K, n) where each row is the mean of the data \n",
    "        points assigned to it.\n",
    "    \n",
    "    Instructions\n",
    "    ------------\n",
    "    Go over every centroid and compute mean of all points that\n",
    "    belong to it. Concretely, the row vector centroids[i, :]\n",
    "    should contain the mean of the data points assigned to\n",
    "    cluster i.\n",
    "\n",
    "    Note:\n",
    "    -----\n",
    "    You can use a for-loop over the centroids to compute this.\n",
    "    \"\"\"\n",
    "    # Useful variables\n",
    "    m, n = X.shape\n",
    "    \n",
    "    # You need to return the following variables correctly.\n",
    "    centroids = np.zeros((K, n))\n",
    "\n",
    "\n",
    "    # ====================== YOUR CODE HERE ======================\n",
    "    for i in range(K):\n",
    "        centroids[i] = np.mean(X[idx == i], axis = 0)\n",
    "        \n",
    "    \n",
    "    # =============================================================\n",
    "    return centroids"
   ]
  },
  {
   "cell_type": "code",
   "execution_count": 56,
   "id": "7c33ee92",
   "metadata": {},
   "outputs": [
    {
     "name": "stdout",
     "output_type": "stream",
     "text": [
      "(array([[40.6893617 ,  1.43829787,  2.18297872,  2.05531915,  3.43404255,\n",
      "         2.8       ,  2.30212766,  2.99574468,  2.35319149,  2.78723404,\n",
      "         2.51489362,  2.86382979,  2.32340426,  3.37446809,  3.45531915,\n",
      "         3.4       ,  2.3787234 ,  3.32340426,  4.72340426,  2.37021277,\n",
      "         3.06808511,  2.4893617 ,  3.26382979],\n",
      "       [31.85928144,  1.38023952,  5.16766467,  6.70658683,  6.67664671,\n",
      "         6.56287425,  6.35628743,  5.85628743,  6.3502994 ,  6.07185629,\n",
      "         5.5       ,  5.82335329,  6.38922156,  6.86526946,  4.64071856,\n",
      "         4.2245509 ,  5.24850299,  3.95508982,  3.6257485 ,  4.61976048,\n",
      "         4.15568862,  4.46107784,  3.        ],\n",
      "       [47.24342105,  1.32894737,  4.57236842,  6.15131579,  6.44078947,\n",
      "         6.28289474,  6.03947368,  5.21052632,  5.67763158,  5.75657895,\n",
      "         4.44078947,  5.03289474,  5.44078947,  5.80263158,  4.80921053,\n",
      "         4.86842105,  5.78289474,  4.17763158,  4.15131579,  4.56578947,\n",
      "         3.80921053,  5.09868421,  2.73684211],\n",
      "       [62.78313253,  1.04819277,  4.59036145,  5.42168675,  4.97590361,\n",
      "         4.81927711,  4.8313253 ,  4.57831325,  4.36144578,  4.08433735,\n",
      "         4.60240964,  3.77108434,  4.39759036,  4.56626506,  3.4939759 ,\n",
      "         4.19277108,  4.25301205,  2.97590361,  1.77108434,  4.44578313,\n",
      "         2.69879518,  3.31325301,  2.40963855],\n",
      "       [23.3622449 ,  1.60204082,  2.67857143,  2.32142857,  3.75510204,\n",
      "         3.23979592,  3.04591837,  2.79591837,  3.02040816,  2.89795918,\n",
      "         2.3622449 ,  2.54591837,  2.8877551 ,  2.6122449 ,  2.41326531,\n",
      "         2.84183673,  3.55102041,  4.04591837,  3.30102041,  3.87755102,\n",
      "         3.18367347,  3.71428571,  2.76020408]]), array([0, 4, 1, 1, 2, 1, 0, 4, 1, 0, 2, 3, 1, 1, 4, 3, 4, 1, 1, 4, 1, 2,\n",
      "       3, 1, 1, 3, 0, 4, 1, 4, 1, 2, 1, 0, 4, 4, 4, 1, 1, 2, 4, 4, 0, 4,\n",
      "       4, 0, 1, 0, 4, 0, 4, 4, 4, 0, 0, 0, 0, 2, 0, 0, 3, 3, 3, 0, 1, 0,\n",
      "       0, 1, 3, 1, 0, 3, 0, 0, 4, 0, 4, 2, 2, 1, 0, 2, 2, 0, 4, 0, 1, 2,\n",
      "       1, 2, 3, 2, 1, 2, 1, 1, 1, 1, 1, 1, 1, 0, 2, 1, 1, 1, 1, 2, 1, 1,\n",
      "       1, 2, 4, 4, 1, 1, 1, 0, 4, 1, 4, 2, 3, 1, 1, 4, 3, 4, 1, 1, 4, 1,\n",
      "       2, 3, 1, 4, 3, 0, 4, 1, 4, 1, 2, 1, 0, 4, 1, 4, 1, 1, 2, 4, 4, 0,\n",
      "       4, 4, 0, 2, 0, 4, 0, 4, 4, 4, 0, 0, 0, 0, 1, 0, 0, 3, 3, 3, 0, 1,\n",
      "       0, 0, 1, 0, 1, 0, 3, 0, 0, 4, 0, 4, 2, 2, 4, 0, 2, 2, 0, 4, 0, 1,\n",
      "       2, 1, 2, 4, 2, 1, 2, 1, 1, 1, 1, 1, 1, 1, 1, 2, 1, 1, 1, 1, 2, 1,\n",
      "       1, 1, 2, 1, 1, 1, 1, 1, 0, 4, 1, 4, 2, 3, 1, 2, 4, 3, 4, 1, 1, 4,\n",
      "       1, 2, 3, 1, 4, 3, 0, 4, 1, 4, 1, 2, 1, 0, 4, 4, 4, 1, 1, 2, 4, 4,\n",
      "       0, 4, 4, 0, 0, 0, 4, 0, 4, 4, 4, 0, 0, 0, 0, 4, 0, 0, 3, 3, 3, 0,\n",
      "       1, 0, 0, 1, 4, 1, 0, 3, 0, 0, 4, 0, 4, 2, 2, 0, 0, 2, 2, 0, 4, 0,\n",
      "       1, 2, 1, 2, 0, 2, 1, 2, 1, 1, 1, 1, 1, 1, 1, 4, 2, 1, 1, 1, 1, 2,\n",
      "       1, 1, 1, 2, 4, 0, 1, 1, 1, 0, 4, 1, 4, 2, 3, 1, 4, 4, 3, 4, 1, 1,\n",
      "       4, 1, 2, 3, 1, 4, 3, 0, 4, 1, 4, 1, 2, 1, 0, 4, 4, 4, 1, 1, 2, 4,\n",
      "       4, 0, 4, 4, 0, 0, 0, 4, 4, 0, 0, 0, 3, 0, 0, 0, 0, 0, 0, 3, 3, 3,\n",
      "       0, 1, 0, 0, 1, 0, 1, 0, 3, 0, 0, 1, 0, 4, 2, 2, 0, 0, 2, 2, 0, 2,\n",
      "       0, 2, 2, 1, 2, 0, 3, 2, 2, 1, 1, 1, 1, 1, 2, 1, 0, 2, 1, 1, 1, 1,\n",
      "       2, 1, 1, 1, 2, 2, 3, 1, 1, 1, 0, 4, 1, 4, 2, 3, 1, 3, 4, 3, 4, 1,\n",
      "       1, 4, 1, 2, 3, 1, 3, 3, 0, 4, 1, 4, 1, 2, 1, 0, 4, 0, 4, 1, 1, 2,\n",
      "       4, 4, 0, 4, 4, 0, 1, 0, 4, 0, 4, 4, 4, 0, 0, 0, 0, 0, 0, 0, 3, 3,\n",
      "       3, 0, 1, 0, 0, 1, 0, 1, 0, 3, 0, 0, 4, 0, 4, 2, 2, 1, 0, 2, 2, 0,\n",
      "       4, 0, 1, 2, 1, 2, 1, 2, 1, 2, 1, 1, 1, 1, 1, 1, 1, 0, 2, 1, 1, 1,\n",
      "       1, 2, 1, 1, 1, 2, 3, 3, 1, 1, 1, 0, 4, 1, 4, 2, 3, 1, 0, 4, 3, 4,\n",
      "       1, 1, 4, 1, 2, 3, 1, 0, 3, 0, 4, 1, 4, 1, 2, 1, 0, 4, 4, 4, 1, 1,\n",
      "       2, 4, 4, 0, 4, 4, 0, 0, 0, 4, 0, 4, 4, 4, 0, 0, 0, 0, 4, 0, 0, 3,\n",
      "       3, 3, 0, 1, 0, 0, 1, 2, 1, 0, 3, 0, 0, 4, 0, 4, 2, 2, 2, 0, 2, 2,\n",
      "       0, 4, 0, 1, 2, 1, 2, 0, 2, 1, 2, 1, 1, 1, 1, 1, 1, 1, 2, 2, 1, 1,\n",
      "       1, 1, 2, 1, 1, 1, 2, 1, 2, 1, 1, 1, 0, 4, 1, 4, 2, 3, 1, 0, 4, 3,\n",
      "       4, 1, 1, 4, 1, 2, 3, 1, 4, 3, 0, 4, 1, 4, 1, 2, 1, 0, 4, 0, 4, 1,\n",
      "       1, 2, 4, 4, 0, 4, 4, 0, 1, 0, 4, 0, 4, 4, 4, 0, 0, 0, 0, 2, 0, 0,\n",
      "       3, 3, 3, 0, 1, 0, 0, 1, 1, 1, 0, 3, 0, 0, 4, 0, 4, 2, 2, 2, 0, 2,\n",
      "       2, 0, 4, 0, 1, 2, 1, 2, 2, 2, 1, 2, 1, 1, 1, 1, 1, 1, 1, 1, 2, 1,\n",
      "       1, 1, 1, 2, 1, 1, 1, 2, 4, 2, 1, 1, 1, 0, 4, 1, 4, 2, 3, 1, 1, 4,\n",
      "       3, 4, 1, 1, 4, 1, 2, 3, 1, 1, 3, 0, 4, 1, 4, 1, 2, 1, 0, 4, 1, 4,\n",
      "       1, 1, 2, 4, 4, 0, 4, 4, 0, 1, 0, 4, 0, 4, 4, 4, 0, 0, 0, 0, 1, 0,\n",
      "       0, 3, 3, 3, 0, 1, 0, 0, 1, 1, 1, 0, 3, 0, 0, 4, 0, 4, 2, 2, 1, 0,\n",
      "       2, 2, 0, 4, 0, 1, 2, 1, 2, 2, 2, 1, 2, 1, 1, 1, 1, 1, 1, 1, 1, 2,\n",
      "       1, 1, 1, 1, 2, 1, 1, 1, 2, 3, 1, 1, 1, 1, 0, 4, 1, 4, 2, 3, 1, 1,\n",
      "       4, 3, 4, 1, 1, 4, 1, 2, 3, 1, 1, 3, 0, 4, 1, 4, 1, 2, 1, 0, 4, 2,\n",
      "       4, 1, 1, 2, 4, 4, 0, 4, 4, 0, 1, 0, 4, 0, 4, 4, 4, 0, 0, 0, 0, 1,\n",
      "       0, 0, 3, 3, 3, 0, 1, 0, 0, 1, 1, 1, 0, 3, 0, 0, 4, 0, 4, 2, 2, 2,\n",
      "       0, 2, 2, 0, 4, 0, 1, 2, 0, 0, 1, 3, 1, 2, 1, 4, 0, 1, 1, 1, 1, 1,\n",
      "       2, 1, 1, 1, 1, 2, 1, 1, 1, 2]))\n"
     ]
    }
   ],
   "source": [
    "K = 5\n",
    "p = utils.runkMeans(X, initial_centroids, findClosestCentroids, computeCentroids, max_iters=10)\n",
    "print(p)"
   ]
  },
  {
   "cell_type": "code",
   "execution_count": 57,
   "id": "c396f02c",
   "metadata": {},
   "outputs": [
    {
     "ename": "ValueError",
     "evalue": "setting an array element with a sequence. The requested array has an inhomogeneous shape after 1 dimensions. The detected shape was (2,) + inhomogeneous part.",
     "output_type": "error",
     "traceback": [
      "\u001b[0;31m---------------------------------------------------------------------------\u001b[0m",
      "\u001b[0;31mValueError\u001b[0m                                Traceback (most recent call last)",
      "Cell \u001b[0;32mIn[57], line 2\u001b[0m\n\u001b[1;32m      1\u001b[0m \u001b[38;5;28;01mfor\u001b[39;00m i \u001b[38;5;129;01min\u001b[39;00m \u001b[38;5;28mrange\u001b[39m(idx\u001b[38;5;241m.\u001b[39msize):\n\u001b[0;32m----> 2\u001b[0m     J \u001b[38;5;241m=\u001b[39m (\u001b[38;5;241m1\u001b[39m\u001b[38;5;241m/\u001b[39mm) \u001b[38;5;241m*\u001b[39m np\u001b[38;5;241m.\u001b[39msum(np\u001b[38;5;241m.\u001b[39msquare(X[i] \u001b[38;5;241m-\u001b[39m p),axis \u001b[38;5;241m=\u001b[39m \u001b[38;5;241m1\u001b[39m)\n\u001b[1;32m      3\u001b[0m \u001b[38;5;28mprint\u001b[39m(J)\n",
      "\u001b[0;31mValueError\u001b[0m: setting an array element with a sequence. The requested array has an inhomogeneous shape after 1 dimensions. The detected shape was (2,) + inhomogeneous part."
     ]
    }
   ],
   "source": [
    "for i in range(idx.size):\n",
    "    J = (1/m) * np.sum(np.square(X[i] - p),axis = 1)\n",
    "print(J)"
   ]
  },
  {
   "cell_type": "code",
   "execution_count": null,
   "id": "17fa1d4d",
   "metadata": {},
   "outputs": [],
   "source": []
  },
  {
   "cell_type": "code",
   "execution_count": null,
   "id": "3693da86",
   "metadata": {},
   "outputs": [],
   "source": []
  },
  {
   "cell_type": "code",
   "execution_count": null,
   "id": "12010b6f",
   "metadata": {},
   "outputs": [],
   "source": []
  },
  {
   "cell_type": "code",
   "execution_count": null,
   "id": "4db4377a",
   "metadata": {},
   "outputs": [],
   "source": []
  },
  {
   "cell_type": "code",
   "execution_count": null,
   "id": "606ab103",
   "metadata": {},
   "outputs": [],
   "source": []
  },
  {
   "cell_type": "code",
   "execution_count": null,
   "id": "a9157688",
   "metadata": {},
   "outputs": [],
   "source": []
  },
  {
   "cell_type": "code",
   "execution_count": null,
   "id": "3cc448bd",
   "metadata": {},
   "outputs": [],
   "source": []
  },
  {
   "cell_type": "code",
   "execution_count": null,
   "id": "7578a584",
   "metadata": {},
   "outputs": [],
   "source": []
  },
  {
   "cell_type": "code",
   "execution_count": null,
   "id": "f7b6cacd",
   "metadata": {},
   "outputs": [],
   "source": []
  },
  {
   "cell_type": "code",
   "execution_count": null,
   "id": "4476aea8",
   "metadata": {},
   "outputs": [],
   "source": []
  }
 ],
 "metadata": {
  "kernelspec": {
   "display_name": "env",
   "language": "python",
   "name": "python3"
  },
  "language_info": {
   "codemirror_mode": {
    "name": "ipython",
    "version": 3
   },
   "file_extension": ".py",
   "mimetype": "text/x-python",
   "name": "python",
   "nbconvert_exporter": "python",
   "pygments_lexer": "ipython3",
   "version": "3.12.0"
  }
 },
 "nbformat": 4,
 "nbformat_minor": 5
}
