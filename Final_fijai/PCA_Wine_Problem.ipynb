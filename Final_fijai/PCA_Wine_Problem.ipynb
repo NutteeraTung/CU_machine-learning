{
 "cells": [
  {
   "cell_type": "markdown",
   "id": "cc558573",
   "metadata": {},
   "source": [
    "# Final Exam Second Semester 2566 - Principal Component Analysis (Red Wine Problem)\n",
    "\n",
    "This exam problem has an objective to develop a principal component analysis to reduce the dimension of the attributes of the red wine including\n",
    "1. Tartaric Acid\n",
    "2. Grape Density\n",
    "3. Citric Acid\n",
    "4. Residual Sugar\n",
    "5. Sodium Chloride\t\n",
    "6. Free Sulfur Dioxide\t\n",
    "7. Bound Sulfur Dioxide\t\n",
    "8. Alcohol Density"
   ]
  },
  {
   "cell_type": "code",
   "execution_count": 66,
   "id": "ef800cb6",
   "metadata": {},
   "outputs": [
    {
     "name": "stdout",
     "output_type": "stream",
     "text": [
      "The autoreload extension is already loaded. To reload it, use:\n",
      "  %reload_ext autoreload\n"
     ]
    }
   ],
   "source": [
    "# used for manipulating directory paths\n",
    "import os\n",
    "\n",
    "# Scientific and vector computation for python\n",
    "import numpy as np\n",
    "\n",
    "# library written for this exam\n",
    "import utilsPCA as utils\n",
    "\n",
    "%load_ext autoreload\n",
    "%autoreload 2\n",
    "\n",
    "import random \n",
    "random.seed(10)"
   ]
  },
  {
   "cell_type": "markdown",
   "id": "e8905fd5",
   "metadata": {},
   "source": [
    "### We start the exam by first loading the dataset."
   ]
  },
  {
   "cell_type": "code",
   "execution_count": 67,
   "id": "1e7c275e",
   "metadata": {},
   "outputs": [],
   "source": [
    "# Load the dataset into the variable X \n",
    "data = np.loadtxt(os.path.join('Data', 'PCA_WineData.txt'))\n",
    "X = data\n",
    "\n",
    "m = X.shape[0] # number of training examples"
   ]
  },
  {
   "cell_type": "markdown",
   "id": "f4302976",
   "metadata": {},
   "source": [
    "### Normalize data here\n",
    "#### Hint: Use utils.featureNormalize"
   ]
  },
  {
   "cell_type": "code",
   "execution_count": 68,
   "id": "ce11648e",
   "metadata": {},
   "outputs": [
    {
     "data": {
      "text/plain": [
       "<function utilsPCA.featureNormalize(X)>"
      ]
     },
     "execution_count": 68,
     "metadata": {},
     "output_type": "execute_result"
    }
   ],
   "source": [
    "utils.featureNormalize"
   ]
  },
  {
   "cell_type": "code",
   "execution_count": 69,
   "id": "9fa9deac",
   "metadata": {},
   "outputs": [
    {
     "name": "stdout",
     "output_type": "stream",
     "text": [
      "(array([ 0.03365344, -0.54334881, -0.60363263, -0.44000513, -0.59708753,\n",
      "        0.3436845 ,  2.32443851, -0.51770235]), 7.009225, 11.611739749279606)\n"
     ]
    }
   ],
   "source": [
    "X[0]\n",
    "Xnorm = utils.featureNormalize(X[0])\n",
    "print(Xnorm)"
   ]
  },
  {
   "cell_type": "code",
   "execution_count": 70,
   "id": "78e086d4-247a-4c2e-9ab5-80eab66846d9",
   "metadata": {},
   "outputs": [],
   "source": [
    "X_Norm, mu, sigma = utils.featureNormalize(X)\n",
    "U, S = pca(X_Norm)"
   ]
  },
  {
   "cell_type": "code",
   "execution_count": 71,
   "id": "90c68a0f-653e-4ad0-bd2b-d11901951e76",
   "metadata": {},
   "outputs": [],
   "source": [
    "def pca(X):\n",
    "    \"\"\"\n",
    "    Run principal component analysis.\n",
    "    \n",
    "    Parameters\n",
    "    ----------\n",
    "    X : array_like\n",
    "        The dataset to be used for computing PCA. It has dimensions (m x n)\n",
    "        where m is the number of examples (observations) and n is \n",
    "        the number of features.\n",
    "    \n",
    "    Returns\n",
    "    -------\n",
    "    U : array_like\n",
    "        The eigenvectors, representing the computed principal components\n",
    "        of X. U has dimensions (n x n) where each column is a single \n",
    "        principal component.\n",
    "    \n",
    "    S : array_like\n",
    "        A vector of size n, contaning the singular values for each\n",
    "        principal component. Note this is the diagonal of the matrix we \n",
    "        mentioned in class.\n",
    "    \n",
    "    Instructions\n",
    "    ------------\n",
    "    You should first compute the covariance matrix. Then, you\n",
    "    should use the \"svd\" function to compute the eigenvectors\n",
    "    and eigenvalues of the covariance matrix. \n",
    "\n",
    "    Notes\n",
    "    -----\n",
    "    When computing the covariance matrix, remember to divide by m (the\n",
    "    number of examples).\n",
    "    \n",
    "    \"\"\"\n",
    "    # Useful values\n",
    "    m, n = X.shape\n",
    "\n",
    "    # You need to return the following variables correctly.\n",
    "    U = np.zeros((n,n))\n",
    "    S = np.zeros(n)\n",
    "\n",
    "    # ====================== YOUR CODE HERE ======================\n",
    "    sigma = (1/m) * np.dot(X.T,X)\n",
    "    U,S,V = np.linalg.svd(sigma)\n",
    "    \n",
    "    # ============================================================\n",
    "    return U, S"
   ]
  },
  {
   "cell_type": "code",
   "execution_count": 72,
   "id": "e7840755-8a11-4f2f-a500-7491e01caf14",
   "metadata": {},
   "outputs": [],
   "source": [
    "def projectData(X, U, K):\n",
    "    \"\"\"\n",
    "    Computes the reduced data representation when projecting only \n",
    "    on to the top K eigenvectors.\n",
    "    \n",
    "    Parameters\n",
    "    ----------\n",
    "    X : array_like\n",
    "        The input dataset of shape (m x n). The dataset is assumed to be \n",
    "        normalized.\n",
    "    \n",
    "    U : array_like\n",
    "        The computed eigenvectors using PCA. This is a matrix of \n",
    "        shape (n x n). Each column in the matrix represents a single\n",
    "        eigenvector (or a single principal component).\n",
    "    \n",
    "    K : int\n",
    "        Number of dimensions to project onto. Must be smaller than n.\n",
    "    \n",
    "    Returns\n",
    "    -------\n",
    "    Z : array_like\n",
    "        The projects of the dataset onto the top K eigenvectors. \n",
    "        This will be a matrix of shape (m x k).\n",
    "    \n",
    "    Instructions\n",
    "    ------------\n",
    "    Compute the projection of the data using only the top K \n",
    "    eigenvectors in U (first K columns). \n",
    "    For the i-th example X[i,:], the projection on to the k-th \n",
    "    eigenvector is given as follows:\n",
    "    \n",
    "        x = X[i, :]\n",
    "        projection_k = np.dot(x,  U[:, :k])\n",
    "\n",
    "    \"\"\"\n",
    "    # You need to return the following variables correctly.\n",
    "    Z = np.zeros((X.shape[0], K))\n",
    "\n",
    "    # ====================== YOUR CODE HERE ======================\n",
    "    Z = np.dot(X,U[:,:K])\n",
    "\n",
    "    \n",
    "    # =============================================================\n",
    "    return Z"
   ]
  },
  {
   "cell_type": "code",
   "execution_count": 73,
   "id": "63f4e2c9-3ab0-4f67-884f-dfefa72d4e70",
   "metadata": {},
   "outputs": [
    {
     "name": "stdout",
     "output_type": "stream",
     "text": [
      "[[ 1.17118991 -0.46238533  1.25825924  0.36852371]\n",
      " [ 1.51540804  1.27597417  1.54641923 -0.01856076]\n",
      " [ 1.14882192  0.26134202  1.26477794  0.05092125]\n",
      " ...\n",
      " [ 1.42890224  0.62548711 -0.56209225 -0.03909093]\n",
      " [ 1.94632673  0.89447623 -0.24710565 -0.14883086]\n",
      " [ 0.07803172  0.14456627 -1.51026084  0.20439309]]\n"
     ]
    }
   ],
   "source": [
    "#  Project the data onto K = 1 dimension\n",
    "K = 4\n",
    "Z = projectData(X_Norm, U, K)\n",
    "print(Z)"
   ]
  },
  {
   "cell_type": "code",
   "execution_count": 74,
   "id": "63fba38a",
   "metadata": {},
   "outputs": [],
   "source": [
    "def recoverData(Z, U, K):\n",
    "    \"\"\"\n",
    "    Recovers an approximation of the original data when using the \n",
    "    projected data.\n",
    "    \n",
    "    Parameters\n",
    "    ----------\n",
    "    Z : array_like\n",
    "        The reduced data after applying PCA. This is a matrix\n",
    "        of shape (m x K).\n",
    "    \n",
    "    U : array_like\n",
    "        The eigenvectors (principal components) computed by PCA.\n",
    "        This is a matrix of shape (n x n) where each column represents\n",
    "        a single eigenvector.\n",
    "    \n",
    "    K : int\n",
    "        The number of principal components retained\n",
    "        (should be less than n).\n",
    "    \n",
    "    Returns\n",
    "    -------\n",
    "    X_rec : array_like\n",
    "        The recovered data after transformation back to the original \n",
    "        dataset space. This is a matrix of shape (m x n), where m is \n",
    "        the number of examples and n is the dimensions (number of\n",
    "        features) of original datatset.\n",
    "    \n",
    "    Instructions\n",
    "    ------------\n",
    "    Compute the approximation of the data by projecting back\n",
    "    onto the original space using the top K eigenvectors in U.\n",
    "    For the i-th example Z[i,:], the (approximate)\n",
    "    recovered data for dimension j is given as follows:\n",
    "\n",
    "        v = Z[i, :]\n",
    "        recovered_j = np.dot(v, U[j, :K].T)\n",
    "\n",
    "    Notice that U[j, :K] is a vector of size K.\n",
    "    \"\"\"\n",
    "    # You need to return the following variables correctly.\n",
    "    X_rec = np.zeros((Z.shape[0], U.shape[0]))\n",
    "\n",
    "    # ====================== YOUR CODE HERE ======================\n",
    "    X_rec = np.dot(Z,U[:,:K].T)\n",
    "\n",
    "\n",
    "    # =============================================================\n",
    "    return X_rec"
   ]
  },
  {
   "cell_type": "code",
   "execution_count": 75,
   "id": "84f4b23f",
   "metadata": {},
   "outputs": [
    {
     "name": "stdout",
     "output_type": "stream",
     "text": [
      "[-0.48332697  1.18247251 -1.05409947  0.04647057 -0.15572017 -0.54125759\n",
      " -0.49180637 -0.01727894]\n"
     ]
    }
   ],
   "source": [
    "X_rec  = recoverData(Z, U, K)\n",
    "print(X_rec[0])"
   ]
  },
  {
   "cell_type": "code",
   "execution_count": 78,
   "id": "8dd9f826",
   "metadata": {},
   "outputs": [
    {
     "data": {
      "text/plain": [
       "((8,), (8,))"
      ]
     },
     "execution_count": 78,
     "metadata": {},
     "output_type": "execute_result"
    }
   ],
   "source": []
  },
  {
   "cell_type": "code",
   "execution_count": 83,
   "id": "82e8a911",
   "metadata": {},
   "outputs": [
    {
     "name": "stdout",
     "output_type": "stream",
     "text": [
      "[0.9737527183592682, 0.9929862192177847, 0.9994843258714879, 0.999970648933387, 0.9999922031306003, 0.9999966975912472, 0.9999994694062412, 1.0]\n"
     ]
    }
   ],
   "source": [
    "Sigma = (1/m) * np.dot(X.T, X)\n",
    "U, S, V = np.linalg.svd(Sigma)\n",
    "K = len(S)\n",
    "c = []\n",
    "SumS = np.sum(S)\n",
    "for i in range(K):\n",
    "    s = np.sum(S[:i+1])\n",
    "    a = s/SumS\n",
    "    c.append(a)\n",
    "print(c)"
   ]
  },
  {
   "cell_type": "code",
   "execution_count": null,
   "id": "e028139a",
   "metadata": {},
   "outputs": [],
   "source": []
  },
  {
   "cell_type": "code",
   "execution_count": null,
   "id": "36447408",
   "metadata": {},
   "outputs": [],
   "source": []
  },
  {
   "cell_type": "code",
   "execution_count": null,
   "id": "259d6fb5",
   "metadata": {},
   "outputs": [],
   "source": []
  },
  {
   "cell_type": "code",
   "execution_count": null,
   "id": "958b8dd2",
   "metadata": {},
   "outputs": [],
   "source": []
  },
  {
   "cell_type": "code",
   "execution_count": null,
   "id": "1691a7a4",
   "metadata": {},
   "outputs": [],
   "source": []
  },
  {
   "cell_type": "code",
   "execution_count": null,
   "id": "694751d2",
   "metadata": {},
   "outputs": [],
   "source": []
  },
  {
   "cell_type": "code",
   "execution_count": null,
   "id": "c75e66e7",
   "metadata": {},
   "outputs": [],
   "source": []
  },
  {
   "cell_type": "code",
   "execution_count": null,
   "id": "d8ddf48a",
   "metadata": {},
   "outputs": [],
   "source": []
  },
  {
   "cell_type": "code",
   "execution_count": null,
   "id": "338da47a",
   "metadata": {},
   "outputs": [],
   "source": []
  },
  {
   "cell_type": "markdown",
   "id": "ef2ecdf0-478c-47ff-9335-402b901c97de",
   "metadata": {},
   "source": [
    "### End of Principal Component Analysis Problem"
   ]
  }
 ],
 "metadata": {
  "kernelspec": {
   "display_name": "Python 3 (ipykernel)",
   "language": "python",
   "name": "python3"
  },
  "language_info": {
   "codemirror_mode": {
    "name": "ipython",
    "version": 3
   },
   "file_extension": ".py",
   "mimetype": "text/x-python",
   "name": "python",
   "nbconvert_exporter": "python",
   "pygments_lexer": "ipython3",
   "version": "3.11.5"
  }
 },
 "nbformat": 4,
 "nbformat_minor": 5
}
