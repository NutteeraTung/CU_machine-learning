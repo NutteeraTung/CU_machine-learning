{
 "cells": [
  {
   "cell_type": "markdown",
   "id": "dca9502d",
   "metadata": {},
   "source": [
    "# Final Exam Second Semester 2566 - K-Means (Cancer Patient Problem)\n",
    "\n",
    "\n",
    "This exam problem has an objective to develop a K-Means algorithm to group cancer patient data into k clusters according to 23 features such as age, gender, air pollution, alcohol use, dust, allergy, occupational, hazards, genetic risk, chronic lung disease, etc."
   ]
  },
  {
   "cell_type": "code",
   "execution_count": 1,
   "id": "e1e36d0f",
   "metadata": {},
   "outputs": [],
   "source": [
    "#import library\n",
    "import os\n",
    "import numpy as np\n",
    "import matplotlib.pyplot as plt\n",
    "from sklearn.cluster import KMeans\n",
    "from mpl_toolkits.mplot3d import Axes3D\n",
    "import utils_kmean as utils\n",
    "from scipy import optimize"
   ]
  },
  {
   "cell_type": "markdown",
   "id": "5a565f5e",
   "metadata": {},
   "source": [
    "### We start the exam by first loading the dataset. "
   ]
  },
  {
   "cell_type": "code",
   "execution_count": 2,
   "id": "889d904c",
   "metadata": {},
   "outputs": [],
   "source": [
    "# Load the dataset into the variable X \n",
    "data = np.loadtxt(r'C:\\Users\\panda\\OneDrive\\Desktop\\fifaaa\\Data\\KMeans_CancerData.txt')\n",
    "X = data\n",
    "m = X.shape[0] # number of training examples"
   ]
  },
  {
   "cell_type": "code",
   "execution_count": 3,
   "id": "5f5c4b48",
   "metadata": {},
   "outputs": [
    {
     "data": {
      "text/plain": [
       "(1000, 23)"
      ]
     },
     "execution_count": 3,
     "metadata": {},
     "output_type": "execute_result"
    }
   ],
   "source": [
    "X.shape"
   ]
  },
  {
   "cell_type": "code",
   "execution_count": 4,
   "id": "a2a0c362",
   "metadata": {},
   "outputs": [
    {
     "name": "stdout",
     "output_type": "stream",
     "text": [
      "1000\n"
     ]
    }
   ],
   "source": [
    "print(m)"
   ]
  },
  {
   "cell_type": "markdown",
   "id": "5878b9b6",
   "metadata": {},
   "source": [
    "### Set initial centroids"
   ]
  },
  {
   "cell_type": "code",
   "execution_count": 5,
   "id": "d9801bc0",
   "metadata": {},
   "outputs": [],
   "source": [
    "# Initial centroids\n",
    "# For consistency, here we set centroids to specific values\n",
    "# but in practice you should generate them automatically, such as by\n",
    "# settings them to be random examples.\n",
    "\n",
    "initial_centroids = np.array([[44.,  1.,  2.,  1.,  5.,  3.,  2.,  3.,  2.,  4.,  1.,  4.,  2.,\n",
    "         4.,  6.,  7.,  2.,  5.,  8.,  1.,  3.,  2.,  3.],\n",
    "       [35.,  1.,  2.,  1.,  5.,  3.,  2.,  3.,  2.,  4.,  1.,  4.,  2.,\n",
    "         4.,  6.,  7.,  2.,  5.,  8.,  1.,  3.,  2.,  3.],\n",
    "       [54.,  1.,  6.,  7.,  7.,  7.,  7.,  6.,  7.,  7.,  7.,  8.,  7.,\n",
    "         7.,  5.,  3.,  2.,  7.,  8.,  2.,  4.,  5.,  3.],\n",
    "       [62.,  1.,  6.,  8.,  7.,  7.,  7.,  6.,  7.,  7.,  8.,  7.,  7.,\n",
    "         9.,  3.,  2.,  4.,  1.,  4.,  2.,  4.,  2.,  3.],\n",
    "       [24.,  2.,  3.,  2.,  2.,  1.,  1.,  1.,  1.,  1.,  4.,  2.,  3.,\n",
    "         6.,  2.,  1.,  2.,  3.,  4.,  2.,  1.,  1.,  1.]])"
   ]
  },
  {
   "cell_type": "code",
   "execution_count": 6,
   "id": "3a84c1ce",
   "metadata": {},
   "outputs": [],
   "source": [
    "def findClosestCentroids(X, centroids): \n",
    "    # Set K\n",
    "    K = centroids.shape[0]\n",
    "    idx = np.zeros(X.shape[0], dtype=int)\n",
    "    for i in range(idx.size):\n",
    "        J = np.sqrt(np.sum(np.square(X[i] - centroids),axis = 1))\n",
    "        idx[i] = np.argmin(J)\n",
    "        \n",
    "    return idx"
   ]
  },
  {
   "cell_type": "code",
   "execution_count": 7,
   "id": "ed663049",
   "metadata": {},
   "outputs": [
    {
     "name": "stdout",
     "output_type": "stream",
     "text": [
      "[1 4 1 1 2 1 0 4 1 0 2 3 1 1 4 3 4 1 1 4 4 2 3 1 1 3 1 4 1 1 1 0 1 1 4 4 4\n",
      " 4 1 0 4 4 0 4 4 0 4 1 4 1 4 4 4 1 1 0 0 2 0 1 3 3 0 0 1 0 0 1 3 1 0 3 1 1\n",
      " 4 1 4 2 0 1 0 2 0 1 1 1 1 2 1 2 3 2 1 2 1 4 1 1 4 1 2 1 2 1 1 1 1 2 1 4 4\n",
      " 0 4 4 4 1 1 1 4 1 4 2 3 1 1 4 3 4 1 1 4 4 2 3 1 1 3 1 4 1 1 1 0 1 1 4 1 4\n",
      " 4 1 0 4 4 0 4 4 0 0 1 4 1 4 4 4 1 1 0 0 1 0 1 3 3 0 0 1 0 0 1 1 1 0 3 1 1\n",
      " 4 1 4 2 0 4 0 2 0 1 1 1 1 2 1 2 4 2 1 2 1 4 1 1 4 1 2 4 2 1 1 1 1 2 1 4 4\n",
      " 0 1 1 4 1 1 1 4 1 4 2 3 1 0 4 3 4 1 1 4 4 2 3 1 4 3 1 4 1 1 1 0 1 1 4 4 4\n",
      " 4 1 0 4 4 0 4 4 0 0 1 4 1 4 4 4 1 1 0 0 4 0 1 3 3 0 0 1 0 0 1 4 1 0 3 1 1\n",
      " 4 1 4 2 0 0 0 2 0 1 1 1 1 2 1 2 1 2 1 2 1 4 1 1 4 1 2 4 2 1 1 1 1 2 1 4 4\n",
      " 0 4 1 4 1 1 1 4 1 4 2 3 1 4 4 3 4 1 1 4 4 2 3 1 4 3 1 4 1 1 1 0 1 1 4 4 4\n",
      " 4 1 0 4 4 0 4 4 0 1 1 4 4 1 0 0 0 1 0 0 1 0 1 3 3 0 0 1 0 0 1 0 1 0 3 0 1\n",
      " 1 1 4 2 0 0 0 2 0 0 0 1 0 2 1 2 0 3 0 2 1 1 1 1 4 1 2 1 2 1 1 1 1 2 1 1 4\n",
      " 0 2 3 4 1 1 1 4 1 4 2 3 1 3 4 3 4 1 1 4 4 2 3 1 0 3 1 4 1 1 1 0 1 1 4 0 4\n",
      " 4 1 0 4 4 0 4 4 0 1 1 4 1 4 4 4 1 1 0 0 0 0 1 3 3 0 0 1 0 0 1 0 1 0 3 1 1\n",
      " 4 1 4 2 0 1 0 2 0 1 1 1 1 2 1 2 1 2 1 2 1 4 1 1 4 1 2 0 2 1 1 1 1 2 1 4 4\n",
      " 0 3 3 4 1 1 1 4 1 4 2 3 1 1 4 3 4 1 1 4 4 2 3 1 1 3 1 4 1 1 1 0 1 1 4 4 4\n",
      " 4 1 0 4 4 0 4 4 0 1 1 4 1 4 4 4 1 1 0 0 4 0 1 3 3 0 0 1 0 0 1 2 1 0 3 1 1\n",
      " 4 1 4 2 0 0 0 2 0 1 1 1 1 2 1 2 0 2 1 2 1 4 1 1 4 1 2 2 2 1 1 1 1 2 1 4 4\n",
      " 0 1 0 4 1 1 1 4 1 4 2 3 1 1 4 3 4 1 1 4 4 2 3 1 1 3 1 4 1 1 1 0 1 1 4 1 4\n",
      " 4 1 0 4 4 0 4 4 0 1 1 4 1 4 4 4 1 1 0 0 2 0 1 3 3 0 0 1 0 0 1 1 1 0 3 1 1\n",
      " 4 1 4 2 0 2 0 2 0 1 1 1 1 2 1 2 2 2 1 2 1 4 1 1 4 1 2 1 2 1 1 1 1 2 1 4 4\n",
      " 0 4 2 4 1 1 1 4 1 4 2 3 1 1 4 3 4 1 1 4 4 2 3 1 4 3 1 4 1 1 1 0 1 1 4 1 4\n",
      " 4 1 0 4 4 0 4 4 0 1 1 4 1 4 4 4 1 1 0 0 4 0 1 3 3 0 0 1 0 0 1 1 1 0 3 1 1\n",
      " 4 1 4 2 0 2 0 2 0 1 1 1 1 2 1 2 2 2 1 2 1 4 1 1 4 1 2 1 2 1 1 1 1 2 1 4 4\n",
      " 0 3 1 4 1 1 1 4 1 4 2 3 1 1 4 3 4 1 1 4 4 2 3 1 1 3 1 4 1 1 1 0 1 1 4 2 4\n",
      " 4 1 0 4 4 0 4 4 0 1 1 4 1 4 4 4 1 1 0 0 4 0 1 3 3 0 0 1 0 0 1 4 1 0 3 1 1\n",
      " 4 1 4 2 0 0 0 2 0 1 1 1 1 2 1 0 4 0 1 2 1 4 1 1 4 1 2 1 2 1 1 1 1 2 1 4 4\n",
      " 0]\n"
     ]
    }
   ],
   "source": [
    "K = 3  #number of centroids\n",
    "initial_centroids = initial_centroids\n",
    "# Find the closest centroids for the examples using the initial_centroids\n",
    "idx = findClosestCentroids(X, initial_centroids)\n",
    "print(idx)"
   ]
  },
  {
   "cell_type": "code",
   "execution_count": 8,
   "id": "bc62601a",
   "metadata": {},
   "outputs": [],
   "source": [
    "#computing centroids mean\n",
    "def computeCentroids(X, idx, K): \n",
    "    m, n = X.shape\n",
    "    centroids = np.zeros((K, n))\n",
    "    for i in range(K):\n",
    "        centroids[i] = np.mean(X[idx == i], axis = 0)\n",
    "    return centroids"
   ]
  },
  {
   "cell_type": "code",
   "execution_count": 9,
   "id": "f5c155c7",
   "metadata": {},
   "outputs": [
    {
     "name": "stdout",
     "output_type": "stream",
     "text": [
      "Centroids computed after initial finding of closest centroids:\n",
      "[[46.70348837  1.40116279  2.53488372  2.85465116  3.61046512  3.52906977\n",
      "   3.23255814  3.62209302  3.09302326  3.04069767  3.15697674  3.\n",
      "   3.05232558  3.39534884  3.55232558  4.01744186  3.70348837  3.39534884\n",
      "   4.09883721  4.05232558  3.46511628  3.54651163  3.03488372]\n",
      " [34.21182266  1.42857143  3.93103448  4.99753695  5.70935961  5.19458128\n",
      "   4.88669951  4.62561576  4.92118227  5.00492611  4.10837438  4.7044335\n",
      "   4.74876847  5.36206897  4.31773399  4.30788177  4.52216749  4.13054187\n",
      "   4.25123153  4.1453202   3.99753695  4.07389163  3.03448276]\n",
      " [47.32407407  1.26851852  5.35185185  6.89814815  6.81481481  6.72222222\n",
      "   6.55555556  5.7037037   6.35185185  6.42592593  5.16666667  5.87962963\n",
      "   6.40740741  7.12962963  4.62037037  3.83333333  4.89814815  3.99074074\n",
      "   4.10185185  3.36111111  3.77777778  4.64814815  2.92592593]]\n"
     ]
    }
   ],
   "source": [
    "# Compute means based on the closest centroids found in the previous part.\n",
    "centroids = computeCentroids(X, idx, K)\n",
    "print('Centroids computed after initial finding of closest centroids:')\n",
    "print(centroids)"
   ]
  },
  {
   "cell_type": "code",
   "execution_count": 10,
   "id": "a8597363",
   "metadata": {},
   "outputs": [
    {
     "data": {
      "text/plain": [
       "<matplotlib.animation.FuncAnimation at 0x14df6850170>"
      ]
     },
     "execution_count": 10,
     "metadata": {},
     "output_type": "execute_result"
    },
    {
     "data": {
      "image/png": "[encoded data removed]",
      "text/plain": [
       "<Figure size 640x480 with 1 Axes>"
      ]
     },
     "metadata": {},
     "output_type": "display_data"
    }
   ],
   "source": [
    "#K-means on example dataset\n",
    "# Load an example dataset\n",
    "\n",
    "data = np.loadtxt(r'C:\\Users\\panda\\OneDrive\\Desktop\\fifaaa\\Data\\KMeans_CancerData.txt')\n",
    "X = data\n",
    "# Settings for running K-Means\n",
    "K = 3 #change\n",
    "max_iters = 100 #change\n",
    "\n",
    "# For consistency, here we set centroids to specific values\n",
    "initial_centroids = initial_centroids \n",
    "\n",
    "# Run K-Means algorithm. The 'true' at the end tells our function to plot\n",
    "# the progress of K-Means\n",
    "centroids, idx, anim = utils.runkMeans(X, initial_centroids,\n",
    "                                       findClosestCentroids, computeCentroids, max_iters, True)\n",
    "anim"
   ]
  },
  {
   "cell_type": "code",
   "execution_count": 11,
   "id": "f7b6cacd",
   "metadata": {},
   "outputs": [],
   "source": [
    "#Randomize initialization\n",
    "def kMeansInitCentroids(X, K):\n",
    "    m, n = X.shape\n",
    "    # You should return this values correctly\n",
    "    centroids = np.zeros((K, n))\n",
    "    randidx = np.random.permutation(X.shape[0]) \n",
    "    # Take the first K examples as centroids\n",
    "    centroids = X[randidx[:K], :]\n",
    "    return centroids"
   ]
  },
  {
   "cell_type": "code",
   "execution_count": 13,
   "id": "4476aea8",
   "metadata": {},
   "outputs": [
    {
     "data": {
      "text/plain": [
       "<matplotlib.animation.FuncAnimation at 0x14df7c17200>"
      ]
     },
     "execution_count": 13,
     "metadata": {},
     "output_type": "execute_result"
    },
    {
     "data": {
      "image/png": "[encoded data removed]",
      "text/plain": [
       "<Figure size 640x480 with 1 Axes>"
      ]
     },
     "metadata": {},
     "output_type": "display_data"
    }
   ],
   "source": [
    "#K-means on example dataset\n",
    "# Load an example dataset\n",
    "\n",
    "data = np.loadtxt(r'C:\\Users\\panda\\OneDrive\\Desktop\\fifaaa\\Data\\KMeans_CancerData.txt')\n",
    "X = data\n",
    "# Settings for running K-Means\n",
    "K = 3\n",
    "max_iters = 100\n",
    "\n",
    "centroids, idx, anim = utils.runkMeans(X, centroids,\n",
    "                                       findClosestCentroids, computeCentroids, max_iters, True)\n",
    "anim"
   ]
  },
  {
   "cell_type": "code",
   "execution_count": null,
   "id": "6103392c",
   "metadata": {},
   "outputs": [],
   "source": []
  }
 ],
 "metadata": {
  "kernelspec": {
   "display_name": "env",
   "language": "python",
   "name": "python3"
  },
  "language_info": {
   "codemirror_mode": {
    "name": "ipython",
    "version": 3
   },
   "file_extension": ".py",
   "mimetype": "text/x-python",
   "name": "python",
   "nbconvert_exporter": "python",
   "pygments_lexer": "ipython3",
   "version": "3.12.0"
  }
 },
 "nbformat": 4,
 "nbformat_minor": 5
}
