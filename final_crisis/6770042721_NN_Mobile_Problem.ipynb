{
 "cells": [
  {
   "cell_type": "markdown",
   "metadata": {},
   "source": [
    "# Final Exam Second Semester 2567 - Neural Network (Mobile Price Problem)\n",
    "\n",
    "This exam problem has an objective to develop a neural network model to classify the mobile price as belonging to one out of four classes from 20 features."
   ]
  },
  {
   "cell_type": "code",
   "execution_count": 1,
   "metadata": {},
   "outputs": [],
   "source": [
    "# used for manipulating directory paths\n",
    "import os\n",
    "\n",
    "# Scientific and vector computation for python\n",
    "import numpy as np\n",
    "\n",
    "# Plotting library\n",
    "from matplotlib import pyplot\n",
    "\n",
    "# Optimization module in scipy\n",
    "from scipy import optimize\n",
    "\n",
    "# library written for this exam\n",
    "import utilsNN as utils\n",
    "\n",
    "# tells matplotlib to embed plots within the notebook\n",
    "%matplotlib inline\n",
    "\n",
    "import random \n",
    "random.seed(10)"
   ]
  },
  {
   "cell_type": "markdown",
   "metadata": {},
   "source": [
    "## We start the exam by first loading the dataset. "
   ]
  },
  {
   "cell_type": "code",
   "execution_count": 4,
   "metadata": {},
   "outputs": [
    {
     "name": "stdout",
     "output_type": "stream",
     "text": [
      "Training set: X shape = (1600, 20), y shape = (1600,)\n",
      "Testing set: X_test shape = (400, 20), y_test shape = (400,)\n"
     ]
    }
   ],
   "source": [
    "# Load training dataset\n",
    "\n",
    "# Read tab-separated training data\n",
    "data = np.loadtxt(r'D:\\M.eng\\Machine learning\\final_crisis\\data\\NN_MobileData_Train.txt')\n",
    "\n",
    "# Automatically detect number of features\n",
    "n_features = data.shape[1] - 1  # Total columns - 1 label column\n",
    "\n",
    "# First 20 columns are features, last column is the label\n",
    "X, y = data[:, :20], data[:, 20].astype(int)\n",
    "\n",
    "m = y.size  # Number of training examples\n",
    "\n",
    "# Load testing dataset\n",
    "\n",
    "# Read tab-separated testing data\n",
    "data_test = np.loadtxt(r'D:\\M.eng\\Machine learning\\final_crisis\\data\\NN_MobileData_Test.txt',)\n",
    "\n",
    "# Use the same n_features detected earlier\n",
    "X_test, y_test = data_test[:, :20], data_test[:, 20].astype(int)\n",
    "\n",
    "# Quick check\n",
    "print(f\"Training set: X shape = {X.shape}, y shape = {y.shape}\")\n",
    "print(f\"Testing set: X_test shape = {X_test.shape}, y_test shape = {y_test.shape}\")"
   ]
  },
  {
   "cell_type": "markdown",
   "metadata": {},
   "source": [
    "### Initial parameters to be used in optimize.minimize\n",
    "\n",
    "#### *** Do not initialize parameters by yourself in this exam problem. ***"
   ]
  },
  {
   "cell_type": "markdown",
   "metadata": {},
   "source": [
    "You have been provided with a set of initialized network parameters ($\\Theta^{(1)}, \\Theta^{(2)}$). These are stored in `InitMobileWeight1.txt` and `InitMobileWeight2.txt` which will be loaded in the next cell of this notebook into `Theta1` and `Theta2`. The parameters have dimensions that are sized for a neural network with 30 units in the second layer (hidden layer) and 4 output units (corresponding to 4 mobile phone price groups)."
   ]
  },
  {
   "cell_type": "code",
   "execution_count": 5,
   "metadata": {},
   "outputs": [
    {
     "name": "stdout",
     "output_type": "stream",
     "text": [
      "Shape of Theta1 = (30, 21)\n",
      "Shape of Theta2 = (4, 31)\n"
     ]
    }
   ],
   "source": [
    "# Load initiallized network parameters\n",
    "\n",
    "Theta1 = np.loadtxt(r'D:\\M.eng\\Machine learning\\final_crisis\\data\\InitMobileWeight1.txt')\n",
    "Theta2 = np.loadtxt(r'D:\\M.eng\\Machine learning\\final_crisis\\data\\InitMobileWeight2.txt')\n",
    "print('Shape of Theta1 =', Theta1.shape)\n",
    "print('Shape of Theta2 =', Theta2.shape)\n",
    "\n",
    "# Unroll parameters \n",
    "# To unroll the matrix into vector (1-D array), we use `np.ravel()` \n",
    "nn_params = np.concatenate([np.ravel(Theta1), np.ravel(Theta2)])"
   ]
  },
  {
   "cell_type": "code",
   "execution_count": 6,
   "metadata": {},
   "outputs": [],
   "source": [
    "initial_nn_params = nn_params"
   ]
  },
  {
   "cell_type": "code",
   "execution_count": 7,
   "metadata": {},
   "outputs": [
    {
     "data": {
      "text/plain": [
       "(754,)"
      ]
     },
     "execution_count": 7,
     "metadata": {},
     "output_type": "execute_result"
    }
   ],
   "source": [
    "initial_nn_params.shape"
   ]
  },
  {
   "cell_type": "markdown",
   "metadata": {},
   "source": [
    "### Model representation\n",
    "\n",
    "This neural network has 3 layers - an input layer, a hidden layer and an output layer. \n",
    "\n",
    "The inputs are **20** features of mobile phones.\n",
    "\n",
    "The hidden layer has **30** neurons.\n",
    "\n",
    "The outputs are **4** mobile phone price groups (0 to 3).\n",
    "\n",
    "The training data was loaded into the variables `X` and `y` above."
   ]
  },
  {
   "cell_type": "code",
   "execution_count": 8,
   "metadata": {},
   "outputs": [],
   "source": [
    "# Setup the parameters you will use for this exam\n",
    "input_layer_size  = 20\n",
    "hidden_layer_size = 30\n",
    "num_labels = 4"
   ]
  },
  {
   "cell_type": "markdown",
   "metadata": {},
   "source": [
    "<blockquote>Forward Propagation"
   ]
  },
  {
   "cell_type": "code",
   "execution_count": 9,
   "metadata": {},
   "outputs": [],
   "source": [
    "def sigmoid(z):\n",
    "    z = np.array(z)\n",
    "    g = np.zeros(z.shape)\n",
    "    g = 1 / (1 + np.exp(-z))\n",
    "    return g"
   ]
  },
  {
   "cell_type": "code",
   "execution_count": 10,
   "metadata": {},
   "outputs": [
    {
     "name": "stdout",
     "output_type": "stream",
     "text": [
      "g( 0 ) =  0.5\n"
     ]
    }
   ],
   "source": [
    "# Test the implementation of sigmoid function here\n",
    "z = 0\n",
    "g = sigmoid(z)\n",
    "\n",
    "print('g(',z,') = ', g)"
   ]
  },
  {
   "cell_type": "code",
   "execution_count": 38,
   "metadata": {},
   "outputs": [],
   "source": [
    "#cost function of neural network\n",
    "def nnCostFunction(nn_params,\n",
    "                   input_layer_size,\n",
    "                   hidden_layer_size,\n",
    "                   num_labels,\n",
    "                   X, y, lambda_=0.0):\n",
    "    # Reshape nn_params back into the parameters Theta1 and Theta2, the weight matrices\n",
    "    Theta1 = np.reshape(nn_params[:hidden_layer_size * (input_layer_size + 1)],\n",
    "                        (hidden_layer_size, (input_layer_size + 1)))  \n",
    "\n",
    "    Theta2 = np.reshape(nn_params[(hidden_layer_size * (input_layer_size + 1)):], \n",
    "                        (num_labels, (hidden_layer_size + 1)))  \n",
    "\n",
    "    # Setup some useful variables\n",
    "    m = y.size\n",
    "         \n",
    "    # You need to return the following variables correctly \n",
    "    J = 0\n",
    "    grad = []\n",
    "    Theta1_grad = np.zeros(Theta1.shape) \n",
    "    Theta2_grad = np.zeros(Theta2.shape) \n",
    "\n",
    "    \"\"\" Feed Forward \"\"\"\n",
    "    #let a1 = X and add the bias unit\n",
    "    a1 = np.concatenate([np.ones((m,1)),X],axis = 1) \n",
    "    z2 = np.dot(a1,Theta1.T) \n",
    "    a2 = sigmoid(z2)\n",
    "    a2 = np.concatenate([np.ones((a2.shape[0], 1)), a2],axis=1) \n",
    "    z3 = np.dot(a2,Theta2.T) \n",
    "    a3 = sigmoid(z3)\n",
    "    # h = activation unit values of the last output layer\n",
    "    h = a3 \n",
    "\n",
    "    \"\"\" Cost Function\"\"\"\n",
    "    y_matrix = y\n",
    "    y_matrix = np.eye(num_labels)[y_matrix] #dimen = 5000 x 10\n",
    "    logprobs = np.multiply(np.log(h),y_matrix) + np.multiply(np.log(1-h),1-y_matrix)\n",
    "    J = (-1/m)*np.sum(logprobs)\n",
    "\n",
    "    \"\"\"Regularization term\"\"\"\n",
    "    reg_term = (lambda_ / (2 * m)) * (np.sum(np.square(Theta1[:,1:])) \\\n",
    "                                        + np.sum(np.square(Theta2[:,1:])))\n",
    "    J = J + reg_term\n",
    "    \n",
    "    \"\"\"Back Propagation\"\"\"\n",
    "    delta_3 = h - y_matrix #dimen = 5000 x 10\n",
    "    delta_2 = np.dot(delta_3, Theta2[:,1:]) * sigmoidGradient(z2) #dimen = 5000 x 25\n",
    "    Delta1 = np.dot(delta_2.T, a1) #dimen = 25 x 401\n",
    "    Delta2 = np.dot(delta_3.T, a2) #dimen = 10 x 26\n",
    "    Theta1_grad = (1/m) * Delta1\n",
    "    Theta2_grad = (1/m) * Delta2\n",
    "    grad = np.concatenate([np.ravel(Theta1_grad), np.ravel(Theta2_grad)])\n",
    "    \n",
    "    \"\"\"Regularized to gradient\"\"\"\n",
    "    Theta1_grad[:,1:] = Theta1_grad[:,1:] + (lambda_ /m) * Theta1[:,1:]\n",
    "    Theta2_grad[:,1:] = Theta2_grad[:,1:] + (lambda_ /m) * Theta2[:,1:]\n",
    "    \n",
    "    #update grad with regularization\n",
    "    grad = np.concatenate([np.ravel(Theta1_grad),np.ravel(Theta2_grad)])\n",
    "    \n",
    "    return J, grad\n"
   ]
  },
  {
   "cell_type": "code",
   "execution_count": 15,
   "metadata": {},
   "outputs": [
    {
     "name": "stdout",
     "output_type": "stream",
     "text": [
      "Cost at parameters (loaded from NN_weights): 2.746518 \n"
     ]
    }
   ],
   "source": [
    "#run sigmoid gradient first\n",
    "lambda_ = 0\n",
    "J, _ = nnCostFunction(nn_params, input_layer_size, hidden_layer_size,\n",
    "                   num_labels, X, y, lambda_)\n",
    "print('Cost at parameters (loaded from NN_weights): %.6f ' % J)"
   ]
  },
  {
   "cell_type": "code",
   "execution_count": 16,
   "metadata": {},
   "outputs": [
    {
     "name": "stdout",
     "output_type": "stream",
     "text": [
      "Cost at parameters (loaded from NN_weights): 2.746661 \n"
     ]
    }
   ],
   "source": [
    "#run sigmoid gradient first\n",
    "#ไม่ regularized bias\n",
    "lambda_ = 1\n",
    "J, _ = nnCostFunction(nn_params, input_layer_size, hidden_layer_size,\n",
    "                   num_labels, X, y, lambda_)\n",
    "print('Cost at parameters (loaded from NN_weights): %.6f ' % J)"
   ]
  },
  {
   "cell_type": "markdown",
   "metadata": {},
   "source": [
    "<blockquote>Backward Propagation"
   ]
  },
  {
   "cell_type": "code",
   "execution_count": 14,
   "metadata": {},
   "outputs": [],
   "source": [
    "def sigmoidGradient(z):\n",
    "    g = np.zeros(z.shape)\n",
    "    g = sigmoid(z)*(1-sigmoid(z))\n",
    "    return g"
   ]
  },
  {
   "cell_type": "code",
   "execution_count": 17,
   "metadata": {},
   "outputs": [
    {
     "name": "stdout",
     "output_type": "stream",
     "text": [
      "Sigmoid gradient evaluated at [-1 -0.5 0 0.5 1]:\n",
      "  \n",
      "[0.19661193 0.23500371 0.25       0.23500371 0.19661193]\n"
     ]
    }
   ],
   "source": [
    "z = np.array([-1, -0.5, 0, 0.5, 1])\n",
    "g = sigmoidGradient(z)\n",
    "print('Sigmoid gradient evaluated at [-1 -0.5 0 0.5 1]:\\n  ')\n",
    "print(g)"
   ]
  },
  {
   "cell_type": "code",
   "execution_count": 18,
   "metadata": {},
   "outputs": [
    {
     "data": {
      "text/plain": [
       "<function utilsNN.predict(Theta1, Theta2, X)>"
      ]
     },
     "execution_count": 18,
     "metadata": {},
     "output_type": "execute_result"
    }
   ],
   "source": [
    "utils.predict"
   ]
  },
  {
   "cell_type": "code",
   "execution_count": 19,
   "metadata": {},
   "outputs": [
    {
     "name": "stdout",
     "output_type": "stream",
     "text": [
      "[[-9.27825235e-03 -9.27825236e-03]\n",
      " [-3.04978709e-06 -3.04978914e-06]\n",
      " [-1.75060084e-04 -1.75060082e-04]\n",
      " [-9.62660640e-05 -9.62660620e-05]\n",
      " [ 8.89911959e-03  8.89911960e-03]\n",
      " [ 1.42869450e-05  1.42869443e-05]\n",
      " [ 2.33146358e-04  2.33146357e-04]\n",
      " [ 1.17982666e-04  1.17982666e-04]\n",
      " [-8.36010761e-03 -8.36010762e-03]\n",
      " [-2.59383093e-05 -2.59383100e-05]\n",
      " [-2.87468729e-04 -2.87468729e-04]\n",
      " [-1.37149709e-04 -1.37149706e-04]\n",
      " [ 7.62813550e-03  7.62813551e-03]\n",
      " [ 3.69883257e-05  3.69883234e-05]\n",
      " [ 3.35320351e-04  3.35320347e-04]\n",
      " [ 1.53247082e-04  1.53247082e-04]\n",
      " [-6.74798369e-03 -6.74798370e-03]\n",
      " [-4.68759742e-05 -4.68759769e-05]\n",
      " [-3.76215583e-04 -3.76215587e-04]\n",
      " [-1.66560294e-04 -1.66560294e-04]\n",
      " [ 3.14544970e-01  3.14544970e-01]\n",
      " [ 1.64090819e-01  1.64090819e-01]\n",
      " [ 1.64567932e-01  1.64567932e-01]\n",
      " [ 1.58339334e-01  1.58339334e-01]\n",
      " [ 1.51127527e-01  1.51127527e-01]\n",
      " [ 1.49568335e-01  1.49568335e-01]\n",
      " [ 1.11056588e-01  1.11056588e-01]\n",
      " [ 5.75736494e-02  5.75736493e-02]\n",
      " [ 5.77867378e-02  5.77867378e-02]\n",
      " [ 5.59235296e-02  5.59235296e-02]\n",
      " [ 5.36967009e-02  5.36967009e-02]\n",
      " [ 5.31542052e-02  5.31542052e-02]\n",
      " [ 9.74006970e-02  9.74006970e-02]\n",
      " [ 5.04575855e-02  5.04575855e-02]\n",
      " [ 5.07530173e-02  5.07530173e-02]\n",
      " [ 4.91620841e-02  4.91620841e-02]\n",
      " [ 4.71456249e-02  4.71456249e-02]\n",
      " [ 4.65597186e-02  4.65597186e-02]]\n",
      "The above two columns you get should be very similar.\n",
      "(Left-Your Numerical Gradient, Right-Analytical Gradient)\n",
      "\n",
      "If your backpropagation implementation is correct, then \n",
      "the relative difference will be small (less than 1e-9). \n",
      "Relative Difference: 2.34726e-11\n"
     ]
    }
   ],
   "source": [
    "#Gradient Checking\n",
    "utils.checkNNGradients(nnCostFunction)"
   ]
  },
  {
   "cell_type": "code",
   "execution_count": 43,
   "metadata": {},
   "outputs": [
    {
     "name": "stdout",
     "output_type": "stream",
     "text": [
      "[[-0.00927825 -0.00927825]\n",
      " [-0.00559136 -0.00559136]\n",
      " [-0.02017486 -0.02017486]\n",
      " [-0.00585433 -0.00585433]\n",
      " [ 0.00889912  0.00889912]\n",
      " [ 0.01315402  0.01315402]\n",
      " [-0.01049831 -0.01049831]\n",
      " [-0.01910997 -0.01910997]\n",
      " [-0.00836011 -0.00836011]\n",
      " [ 0.01976123  0.01976123]\n",
      " [ 0.00811587  0.00811587]\n",
      " [-0.01515689 -0.01515689]\n",
      " [ 0.00762814  0.00762814]\n",
      " [ 0.00827936  0.00827936]\n",
      " [ 0.02014747  0.02014747]\n",
      " [ 0.00315079  0.00315079]\n",
      " [-0.00674798 -0.00674798]\n",
      " [-0.0109273  -0.0109273 ]\n",
      " [ 0.01262954  0.01262954]\n",
      " [ 0.01809234  0.01809234]\n",
      " [ 0.31454497  0.31454497]\n",
      " [ 0.14895477  0.14895477]\n",
      " [ 0.17770766  0.17770766]\n",
      " [ 0.14745891  0.14745891]\n",
      " [ 0.15953087  0.15953087]\n",
      " [ 0.14381027  0.14381027]\n",
      " [ 0.11105659  0.11105659]\n",
      " [ 0.03839516  0.03839516]\n",
      " [ 0.0775739   0.0775739 ]\n",
      " [ 0.03592373  0.03592373]\n",
      " [ 0.07350885  0.07350885]\n",
      " [ 0.03392626  0.03392626]\n",
      " [ 0.0974007   0.0974007 ]\n",
      " [ 0.04486928  0.04486928]\n",
      " [ 0.05899539  0.05899539]\n",
      " [ 0.03843063  0.03843063]\n",
      " [ 0.06015138  0.06015138]\n",
      " [ 0.03153997  0.03153997]]\n",
      "The above two columns you get should be very similar.\n",
      "(Left-Your Numerical Gradient, Right-Analytical Gradient)\n",
      "\n",
      "If your backpropagation implementation is correct, then \n",
      "the relative difference will be small (less than 1e-9). \n",
      "Relative Difference: 2.30844e-11\n",
      "\n",
      "\n",
      "Cost at (fixed) debugging parameters (w/ lambda = 1.000000): 0.394747 \n"
     ]
    }
   ],
   "source": [
    "#  Check gradients by running checkNNGradients\n",
    "lambda_ = 1\n",
    "utils.checkNNGradients(nnCostFunction, lambda_)\n",
    "\n",
    "# Also output the costFunction debugging values\n",
    "debug_J, _  = nnCostFunction(nn_params, input_layer_size,\n",
    "                          hidden_layer_size, num_labels, X, y, lambda_)\n",
    "\n",
    "print('\\n\\nCost at (fixed) debugging parameters (w/ lambda = %f): %f ' % (lambda_, debug_J))"
   ]
  },
  {
   "cell_type": "code",
   "execution_count": 44,
   "metadata": {},
   "outputs": [
    {
     "name": "stderr",
     "output_type": "stream",
     "text": [
      "C:\\Users\\panda\\AppData\\Local\\Temp\\ipykernel_19708\\3202094118.py:37: RuntimeWarning: divide by zero encountered in log\n",
      "  logprobs = np.multiply(np.log(h),y_matrix) + np.multiply(np.log(1-h),1-y_matrix)\n",
      "C:\\Users\\panda\\AppData\\Local\\Temp\\ipykernel_19708\\3202094118.py:37: RuntimeWarning: invalid value encountered in multiply\n",
      "  logprobs = np.multiply(np.log(h),y_matrix) + np.multiply(np.log(1-h),1-y_matrix)\n"
     ]
    }
   ],
   "source": [
    "options= {'maxfun':2000} #adjust maxfun\n",
    "#  You should also try different values of lambda\n",
    "lambda_ = 1\n",
    "costFunction = lambda p: nnCostFunction(p, input_layer_size,\n",
    "                                        hidden_layer_size,\n",
    "                                        num_labels, X, y, lambda_)\n",
    "res = optimize.minimize(costFunction,\n",
    "                        initial_nn_params,\n",
    "                        jac=True,\n",
    "                        method='TNC',\n",
    "                        options=options)\n",
    "\n",
    "nn_params = res.x\n",
    "        \n",
    "Theta1 = np.reshape(nn_params[:hidden_layer_size * (input_layer_size + 1)],\n",
    "                    (hidden_layer_size, (input_layer_size + 1)))\n",
    "\n",
    "Theta2 = np.reshape(nn_params[(hidden_layer_size * (input_layer_size + 1)):],\n",
    "                    (num_labels, (hidden_layer_size + 1)))"
   ]
  },
  {
   "cell_type": "code",
   "execution_count": 45,
   "metadata": {},
   "outputs": [
    {
     "name": "stdout",
     "output_type": "stream",
     "text": [
      "Cost function when lambda =  1 is  0.38888254827490243\n"
     ]
    }
   ],
   "source": [
    "print('Cost function when lambda = ', lambda_,'is ', res.fun)"
   ]
  },
  {
   "cell_type": "code",
   "execution_count": 46,
   "metadata": {},
   "outputs": [
    {
     "name": "stdout",
     "output_type": "stream",
     "text": [
      "Training Set Accuracy: 98.687500\n",
      "TestingSet Accuracy: 97.000000\n"
     ]
    }
   ],
   "source": [
    "pred_train = utils.predict(Theta1, Theta2, X)\n",
    "print('Training Set Accuracy: %f' % (np.mean(pred_train == y) * 100))\n",
    "pred_test = utils.predict(Theta1, Theta2, X_test)\n",
    "print('TestingSet Accuracy: %f' % (np.mean(pred_test == y_test) * 100))"
   ]
  },
  {
   "cell_type": "markdown",
   "metadata": {},
   "source": [
    "Scipy.Optimize module"
   ]
  },
  {
   "cell_type": "code",
   "execution_count": 33,
   "metadata": {},
   "outputs": [],
   "source": [
    "import scipy.optimize"
   ]
  },
  {
   "cell_type": "code",
   "execution_count": 37,
   "metadata": {},
   "outputs": [
    {
     "name": "stdout",
     "output_type": "stream",
     "text": [
      "\u001b[1;31mType:\u001b[0m        module\n",
      "\u001b[1;31mString form:\u001b[0m <module 'scipy.optimize' from 'd:\\\\M.eng\\\\Machine learning\\\\env\\\\Lib\\\\site-packages\\\\scipy\\\\optimize\\\\__init__.py'>\n",
      "\u001b[1;31mFile:\u001b[0m        d:\\m.eng\\machine learning\\env\\lib\\site-packages\\scipy\\optimize\\__init__.py\n",
      "\u001b[1;31mSource:\u001b[0m     \n",
      "\u001b[1;34m\"\"\"\n",
      "=====================================================\n",
      "Optimization and root finding (:mod:`scipy.optimize`)\n",
      "=====================================================\n",
      "\n",
      ".. currentmodule:: scipy.optimize\n",
      "\n",
      ".. toctree::\n",
      "   :hidden:\n",
      "\n",
      "   optimize.cython_optimize\n",
      "\n",
      "SciPy ``optimize`` provides functions for minimizing (or maximizing)\n",
      "objective functions, possibly subject to constraints. It includes\n",
      "solvers for nonlinear problems (with support for both local and global\n",
      "optimization algorithms), linear programming, constrained\n",
      "and nonlinear least-squares, root finding, and curve fitting.\n",
      "\n",
      "Common functions and objects, shared across different solvers, are:\n",
      "\n",
      ".. autosummary::\n",
      "   :toctree: generated/\n",
      "\n",
      "   show_options - Show specific options optimization solvers.\n",
      "   OptimizeResult - The optimization result returned by some optimizers.\n",
      "   OptimizeWarning - The optimization encountered problems.\n",
      "\n",
      "\n",
      "Optimization\n",
      "============\n",
      "\n",
      "Scalar functions optimization\n",
      "-----------------------------\n",
      "\n",
      ".. autosummary::\n",
      "   :toctree: generated/\n",
      "\n",
      "   minimize_scalar - Interface for minimizers of univariate functions\n",
      "\n",
      "The `minimize_scalar` function supports the following methods:\n",
      "\n",
      ".. toctree::\n",
      "\n",
      "   optimize.minimize_scalar-brent\n",
      "   optimize.minimize_scalar-bounded\n",
      "   optimize.minimize_scalar-golden\n",
      "\n",
      "Local (multivariate) optimization\n",
      "---------------------------------\n",
      "\n",
      ".. autosummary::\n",
      "   :toctree: generated/\n",
      "\n",
      "   minimize - Interface for minimizers of multivariate functions.\n",
      "\n",
      "The `minimize` function supports the following methods:\n",
      "\n",
      ".. toctree::\n",
      "\n",
      "   optimize.minimize-neldermead\n",
      "   optimize.minimize-powell\n",
      "   optimize.minimize-cg\n",
      "   optimize.minimize-bfgs\n",
      "   optimize.minimize-newtoncg\n",
      "   optimize.minimize-lbfgsb\n",
      "   optimize.minimize-tnc\n",
      "   optimize.minimize-cobyla\n",
      "   optimize.minimize-cobyqa\n",
      "   optimize.minimize-slsqp\n",
      "   optimize.minimize-trustconstr\n",
      "   optimize.minimize-dogleg\n",
      "   optimize.minimize-trustncg\n",
      "   optimize.minimize-trustkrylov\n",
      "   optimize.minimize-trustexact\n",
      "\n",
      "Constraints are passed to `minimize` function as a single object or\n",
      "as a list of objects from the following classes:\n",
      "\n",
      ".. autosummary::\n",
      "   :toctree: generated/\n",
      "\n",
      "   NonlinearConstraint - Class defining general nonlinear constraints.\n",
      "   LinearConstraint - Class defining general linear constraints.\n",
      "\n",
      "Simple bound constraints are handled separately and there is a special class\n",
      "for them:\n",
      "\n",
      ".. autosummary::\n",
      "   :toctree: generated/\n",
      "\n",
      "   Bounds - Bound constraints.\n",
      "\n",
      "Quasi-Newton strategies implementing `HessianUpdateStrategy`\n",
      "interface can be used to approximate the Hessian in `minimize`\n",
      "function (available only for the 'trust-constr' method). Available\n",
      "quasi-Newton methods implementing this interface are:\n",
      "\n",
      ".. autosummary::\n",
      "   :toctree: generated/\n",
      "\n",
      "   BFGS - Broyden-Fletcher-Goldfarb-Shanno (BFGS) Hessian update strategy.\n",
      "   SR1 - Symmetric-rank-1 Hessian update strategy.\n",
      "\n",
      ".. _global_optimization:\n",
      "\n",
      "Global optimization\n",
      "-------------------\n",
      "\n",
      ".. autosummary::\n",
      "   :toctree: generated/\n",
      "\n",
      "   basinhopping - Basinhopping stochastic optimizer.\n",
      "   brute - Brute force searching optimizer.\n",
      "   differential_evolution - Stochastic optimizer using differential evolution.\n",
      "\n",
      "   shgo - Simplicial homology global optimizer.\n",
      "   dual_annealing - Dual annealing stochastic optimizer.\n",
      "   direct - DIRECT (Dividing Rectangles) optimizer.\n",
      "\n",
      "Least-squares and curve fitting\n",
      "===============================\n",
      "\n",
      "Nonlinear least-squares\n",
      "-----------------------\n",
      "\n",
      ".. autosummary::\n",
      "   :toctree: generated/\n",
      "\n",
      "   least_squares - Solve a nonlinear least-squares problem with bounds on the variables.\n",
      "\n",
      "Linear least-squares\n",
      "--------------------\n",
      "\n",
      ".. autosummary::\n",
      "   :toctree: generated/\n",
      "\n",
      "   nnls - Linear least-squares problem with non-negativity constraint.\n",
      "   lsq_linear - Linear least-squares problem with bound constraints.\n",
      "   isotonic_regression - Least squares problem of isotonic regression via PAVA.\n",
      "\n",
      "Curve fitting\n",
      "-------------\n",
      "\n",
      ".. autosummary::\n",
      "   :toctree: generated/\n",
      "\n",
      "   curve_fit -- Fit curve to a set of points.\n",
      "\n",
      "Root finding\n",
      "============\n",
      "\n",
      "Scalar functions\n",
      "----------------\n",
      ".. autosummary::\n",
      "   :toctree: generated/\n",
      "\n",
      "   root_scalar - Unified interface for nonlinear solvers of scalar functions.\n",
      "   brentq - quadratic interpolation Brent method.\n",
      "   brenth - Brent method, modified by Harris with hyperbolic extrapolation.\n",
      "   ridder - Ridder's method.\n",
      "   bisect - Bisection method.\n",
      "   newton - Newton's method (also Secant and Halley's methods).\n",
      "   toms748 - Alefeld, Potra & Shi Algorithm 748.\n",
      "   RootResults - The root finding result returned by some root finders.\n",
      "\n",
      "The `root_scalar` function supports the following methods:\n",
      "\n",
      ".. toctree::\n",
      "\n",
      "   optimize.root_scalar-brentq\n",
      "   optimize.root_scalar-brenth\n",
      "   optimize.root_scalar-bisect\n",
      "   optimize.root_scalar-ridder\n",
      "   optimize.root_scalar-newton\n",
      "   optimize.root_scalar-toms748\n",
      "   optimize.root_scalar-secant\n",
      "   optimize.root_scalar-halley\n",
      "\n",
      "\n",
      "\n",
      "The table below lists situations and appropriate methods, along with\n",
      "*asymptotic* convergence rates per iteration (and per function evaluation)\n",
      "for successful convergence to a simple root(*).\n",
      "Bisection is the slowest of them all, adding one bit of accuracy for each\n",
      "function evaluation, but is guaranteed to converge.\n",
      "The other bracketing methods all (eventually) increase the number of accurate\n",
      "bits by about 50% for every function evaluation.\n",
      "The derivative-based methods, all built on `newton`, can converge quite quickly\n",
      "if the initial value is close to the root.  They can also be applied to\n",
      "functions defined on (a subset of) the complex plane.\n",
      "\n",
      "+-------------+----------+----------+-----------+-------------+-------------+----------------+\n",
      "| Domain of f | Bracket? |    Derivatives?      | Solvers     |        Convergence           |\n",
      "+             +          +----------+-----------+             +-------------+----------------+\n",
      "|             |          | `fprime` | `fprime2` |             | Guaranteed? |  Rate(s)(*)    |\n",
      "+=============+==========+==========+===========+=============+=============+================+\n",
      "| `R`         | Yes      | N/A      | N/A       | - bisection | - Yes       | - 1 \"Linear\"   |\n",
      "|             |          |          |           | - brentq    | - Yes       | - >=1, <= 1.62 |\n",
      "|             |          |          |           | - brenth    | - Yes       | - >=1, <= 1.62 |\n",
      "|             |          |          |           | - ridder    | - Yes       | - 2.0 (1.41)   |\n",
      "|             |          |          |           | - toms748   | - Yes       | - 2.7 (1.65)   |\n",
      "+-------------+----------+----------+-----------+-------------+-------------+----------------+\n",
      "| `R` or `C`  | No       | No       | No        | secant      | No          | 1.62 (1.62)    |\n",
      "+-------------+----------+----------+-----------+-------------+-------------+----------------+\n",
      "| `R` or `C`  | No       | Yes      | No        | newton      | No          | 2.00 (1.41)    |\n",
      "+-------------+----------+----------+-----------+-------------+-------------+----------------+\n",
      "| `R` or `C`  | No       | Yes      | Yes       | halley      | No          | 3.00 (1.44)    |\n",
      "+-------------+----------+----------+-----------+-------------+-------------+----------------+\n",
      "\n",
      ".. seealso::\n",
      "\n",
      "   `scipy.optimize.cython_optimize` -- Typed Cython versions of root finding functions\n",
      "\n",
      "Fixed point finding:\n",
      "\n",
      ".. autosummary::\n",
      "   :toctree: generated/\n",
      "\n",
      "   fixed_point - Single-variable fixed-point solver.\n",
      "\n",
      "Multidimensional\n",
      "----------------\n",
      "\n",
      ".. autosummary::\n",
      "   :toctree: generated/\n",
      "\n",
      "   root - Unified interface for nonlinear solvers of multivariate functions.\n",
      "\n",
      "The `root` function supports the following methods:\n",
      "\n",
      ".. toctree::\n",
      "\n",
      "   optimize.root-hybr\n",
      "   optimize.root-lm\n",
      "   optimize.root-broyden1\n",
      "   optimize.root-broyden2\n",
      "   optimize.root-anderson\n",
      "   optimize.root-linearmixing\n",
      "   optimize.root-diagbroyden\n",
      "   optimize.root-excitingmixing\n",
      "   optimize.root-krylov\n",
      "   optimize.root-dfsane\n",
      "   \n",
      "Elementwise Minimization and Root Finding\n",
      "=========================================\n",
      "\n",
      ".. toctree::\n",
      "   :maxdepth: 3\n",
      "\n",
      "   optimize.elementwise\n",
      "\n",
      "Linear programming / MILP\n",
      "=========================\n",
      "\n",
      ".. autosummary::\n",
      "   :toctree: generated/\n",
      "\n",
      "   milp -- Mixed integer linear programming.\n",
      "   linprog -- Unified interface for minimizers of linear programming problems.\n",
      "\n",
      "The `linprog` function supports the following methods:\n",
      "\n",
      ".. toctree::\n",
      "\n",
      "   optimize.linprog-simplex\n",
      "   optimize.linprog-interior-point\n",
      "   optimize.linprog-revised_simplex\n",
      "   optimize.linprog-highs-ipm\n",
      "   optimize.linprog-highs-ds\n",
      "   optimize.linprog-highs\n",
      "\n",
      "The simplex, interior-point, and revised simplex methods support callback\n",
      "functions, such as:\n",
      "\n",
      ".. autosummary::\n",
      "   :toctree: generated/\n",
      "\n",
      "   linprog_verbose_callback -- Sample callback function for linprog (simplex).\n",
      "\n",
      "Assignment problems\n",
      "===================\n",
      "\n",
      ".. autosummary::\n",
      "   :toctree: generated/\n",
      "\n",
      "   linear_sum_assignment -- Solves the linear-sum assignment problem.\n",
      "   quadratic_assignment -- Solves the quadratic assignment problem.\n",
      "\n",
      "The `quadratic_assignment` function supports the following methods:\n",
      "\n",
      ".. toctree::\n",
      "\n",
      "   optimize.qap-faq\n",
      "   optimize.qap-2opt\n",
      "\n",
      "Utilities\n",
      "=========\n",
      "\n",
      "Finite-difference approximation\n",
      "-------------------------------\n",
      "\n",
      ".. autosummary::\n",
      "   :toctree: generated/\n",
      "\n",
      "   approx_fprime - Approximate the gradient of a scalar function.\n",
      "   check_grad - Check the supplied derivative using finite differences.\n",
      "\n",
      "\n",
      "Line search\n",
      "-----------\n",
      "\n",
      ".. autosummary::\n",
      "   :toctree: generated/\n",
      "\n",
      "   bracket - Bracket a minimum, given two starting points.\n",
      "   line_search - Return a step that satisfies the strong Wolfe conditions.\n",
      "\n",
      "Hessian approximation\n",
      "---------------------\n",
      "\n",
      ".. autosummary::\n",
      "   :toctree: generated/\n",
      "\n",
      "   LbfgsInvHessProduct - Linear operator for L-BFGS approximate inverse Hessian.\n",
      "   HessianUpdateStrategy - Interface for implementing Hessian update strategies\n",
      "\n",
      "Benchmark problems\n",
      "------------------\n",
      "\n",
      ".. autosummary::\n",
      "   :toctree: generated/\n",
      "\n",
      "   rosen - The Rosenbrock function.\n",
      "   rosen_der - The derivative of the Rosenbrock function.\n",
      "   rosen_hess - The Hessian matrix of the Rosenbrock function.\n",
      "   rosen_hess_prod - Product of the Rosenbrock Hessian with a vector.\n",
      "\n",
      "Legacy functions\n",
      "================\n",
      "\n",
      "The functions below are not recommended for use in new scripts;\n",
      "all of these methods are accessible via a newer, more consistent\n",
      "interfaces, provided by the interfaces above.\n",
      "\n",
      "Optimization\n",
      "------------\n",
      "\n",
      "General-purpose multivariate methods:\n",
      "\n",
      ".. autosummary::\n",
      "   :toctree: generated/\n",
      "\n",
      "   fmin - Nelder-Mead Simplex algorithm.\n",
      "   fmin_powell - Powell's (modified) conjugate direction method.\n",
      "   fmin_cg - Non-linear (Polak-Ribiere) conjugate gradient algorithm.\n",
      "   fmin_bfgs - Quasi-Newton method (Broydon-Fletcher-Goldfarb-Shanno).\n",
      "   fmin_ncg - Line-search Newton Conjugate Gradient.\n",
      "\n",
      "Constrained multivariate methods:\n",
      "\n",
      ".. autosummary::\n",
      "   :toctree: generated/\n",
      "\n",
      "   fmin_l_bfgs_b - Zhu, Byrd, and Nocedal's constrained optimizer.\n",
      "   fmin_tnc - Truncated Newton code.\n",
      "   fmin_cobyla - Constrained optimization by linear approximation.\n",
      "   fmin_slsqp - Minimization using sequential least-squares programming.\n",
      "\n",
      "Univariate (scalar) minimization methods:\n",
      "\n",
      ".. autosummary::\n",
      "   :toctree: generated/\n",
      "\n",
      "   fminbound - Bounded minimization of a scalar function.\n",
      "   brent - 1-D function minimization using Brent method.\n",
      "   golden - 1-D function minimization using Golden Section method.\n",
      "\n",
      "Least-squares\n",
      "-------------\n",
      "\n",
      ".. autosummary::\n",
      "   :toctree: generated/\n",
      "\n",
      "   leastsq - Minimize the sum of squares of M equations in N unknowns.\n",
      "\n",
      "Root finding\n",
      "------------\n",
      "\n",
      "General nonlinear solvers:\n",
      "\n",
      ".. autosummary::\n",
      "   :toctree: generated/\n",
      "\n",
      "   fsolve - Non-linear multivariable equation solver.\n",
      "   broyden1 - Broyden's first method.\n",
      "   broyden2 - Broyden's second method.\n",
      "   NoConvergence -  Exception raised when nonlinear solver does not converge.\n",
      "\n",
      "Large-scale nonlinear solvers:\n",
      "\n",
      ".. autosummary::\n",
      "   :toctree: generated/\n",
      "\n",
      "   newton_krylov\n",
      "   anderson\n",
      "\n",
      "   BroydenFirst\n",
      "   InverseJacobian\n",
      "   KrylovJacobian\n",
      "\n",
      "Simple iteration solvers:\n",
      "\n",
      ".. autosummary::\n",
      "   :toctree: generated/\n",
      "\n",
      "   excitingmixing\n",
      "   linearmixing\n",
      "   diagbroyden\n",
      "\n",
      "\"\"\"\u001b[0m  \u001b[1;31m# noqa: E501\u001b[0m\u001b[1;33m\n",
      "\u001b[0m\u001b[1;33m\n",
      "\u001b[0m\u001b[1;32mfrom\u001b[0m \u001b[1;33m.\u001b[0m\u001b[0m_optimize\u001b[0m \u001b[1;32mimport\u001b[0m \u001b[1;33m*\u001b[0m\u001b[1;33m\n",
      "\u001b[0m\u001b[1;32mfrom\u001b[0m \u001b[1;33m.\u001b[0m\u001b[0m_minimize\u001b[0m \u001b[1;32mimport\u001b[0m \u001b[1;33m*\u001b[0m\u001b[1;33m\n",
      "\u001b[0m\u001b[1;32mfrom\u001b[0m \u001b[1;33m.\u001b[0m\u001b[0m_root\u001b[0m \u001b[1;32mimport\u001b[0m \u001b[1;33m*\u001b[0m\u001b[1;33m\n",
      "\u001b[0m\u001b[1;32mfrom\u001b[0m \u001b[1;33m.\u001b[0m\u001b[0m_root_scalar\u001b[0m \u001b[1;32mimport\u001b[0m \u001b[1;33m*\u001b[0m\u001b[1;33m\n",
      "\u001b[0m\u001b[1;32mfrom\u001b[0m \u001b[1;33m.\u001b[0m\u001b[0m_minpack_py\u001b[0m \u001b[1;32mimport\u001b[0m \u001b[1;33m*\u001b[0m\u001b[1;33m\n",
      "\u001b[0m\u001b[1;32mfrom\u001b[0m \u001b[1;33m.\u001b[0m\u001b[0m_zeros_py\u001b[0m \u001b[1;32mimport\u001b[0m \u001b[1;33m*\u001b[0m\u001b[1;33m\n",
      "\u001b[0m\u001b[1;32mfrom\u001b[0m \u001b[1;33m.\u001b[0m\u001b[0m_lbfgsb_py\u001b[0m \u001b[1;32mimport\u001b[0m \u001b[0mfmin_l_bfgs_b\u001b[0m\u001b[1;33m,\u001b[0m \u001b[0mLbfgsInvHessProduct\u001b[0m\u001b[1;33m\n",
      "\u001b[0m\u001b[1;32mfrom\u001b[0m \u001b[1;33m.\u001b[0m\u001b[0m_tnc\u001b[0m \u001b[1;32mimport\u001b[0m \u001b[0mfmin_tnc\u001b[0m\u001b[1;33m\n",
      "\u001b[0m\u001b[1;32mfrom\u001b[0m \u001b[1;33m.\u001b[0m\u001b[0m_cobyla_py\u001b[0m \u001b[1;32mimport\u001b[0m \u001b[0mfmin_cobyla\u001b[0m\u001b[1;33m\n",
      "\u001b[0m\u001b[1;32mfrom\u001b[0m \u001b[1;33m.\u001b[0m\u001b[0m_nonlin\u001b[0m \u001b[1;32mimport\u001b[0m \u001b[1;33m*\u001b[0m\u001b[1;33m\n",
      "\u001b[0m\u001b[1;32mfrom\u001b[0m \u001b[1;33m.\u001b[0m\u001b[0m_slsqp_py\u001b[0m \u001b[1;32mimport\u001b[0m \u001b[0mfmin_slsqp\u001b[0m\u001b[1;33m\n",
      "\u001b[0m\u001b[1;32mfrom\u001b[0m \u001b[1;33m.\u001b[0m\u001b[0m_nnls\u001b[0m \u001b[1;32mimport\u001b[0m \u001b[0mnnls\u001b[0m\u001b[1;33m\n",
      "\u001b[0m\u001b[1;32mfrom\u001b[0m \u001b[1;33m.\u001b[0m\u001b[0m_basinhopping\u001b[0m \u001b[1;32mimport\u001b[0m \u001b[0mbasinhopping\u001b[0m\u001b[1;33m\n",
      "\u001b[0m\u001b[1;32mfrom\u001b[0m \u001b[1;33m.\u001b[0m\u001b[0m_linprog\u001b[0m \u001b[1;32mimport\u001b[0m \u001b[0mlinprog\u001b[0m\u001b[1;33m,\u001b[0m \u001b[0mlinprog_verbose_callback\u001b[0m\u001b[1;33m\n",
      "\u001b[0m\u001b[1;32mfrom\u001b[0m \u001b[1;33m.\u001b[0m\u001b[0m_lsap\u001b[0m \u001b[1;32mimport\u001b[0m \u001b[0mlinear_sum_assignment\u001b[0m\u001b[1;33m\n",
      "\u001b[0m\u001b[1;32mfrom\u001b[0m \u001b[1;33m.\u001b[0m\u001b[0m_differentialevolution\u001b[0m \u001b[1;32mimport\u001b[0m \u001b[0mdifferential_evolution\u001b[0m\u001b[1;33m\n",
      "\u001b[0m\u001b[1;32mfrom\u001b[0m \u001b[1;33m.\u001b[0m\u001b[0m_lsq\u001b[0m \u001b[1;32mimport\u001b[0m \u001b[0mleast_squares\u001b[0m\u001b[1;33m,\u001b[0m \u001b[0mlsq_linear\u001b[0m\u001b[1;33m\n",
      "\u001b[0m\u001b[1;32mfrom\u001b[0m \u001b[1;33m.\u001b[0m\u001b[0m_isotonic\u001b[0m \u001b[1;32mimport\u001b[0m \u001b[0misotonic_regression\u001b[0m\u001b[1;33m\n",
      "\u001b[0m\u001b[1;32mfrom\u001b[0m \u001b[1;33m.\u001b[0m\u001b[0m_constraints\u001b[0m \u001b[1;32mimport\u001b[0m \u001b[1;33m(\u001b[0m\u001b[0mNonlinearConstraint\u001b[0m\u001b[1;33m,\u001b[0m\u001b[1;33m\n",
      "\u001b[0m                           \u001b[0mLinearConstraint\u001b[0m\u001b[1;33m,\u001b[0m\u001b[1;33m\n",
      "\u001b[0m                           \u001b[0mBounds\u001b[0m\u001b[1;33m)\u001b[0m\u001b[1;33m\n",
      "\u001b[0m\u001b[1;32mfrom\u001b[0m \u001b[1;33m.\u001b[0m\u001b[0m_hessian_update_strategy\u001b[0m \u001b[1;32mimport\u001b[0m \u001b[0mHessianUpdateStrategy\u001b[0m\u001b[1;33m,\u001b[0m \u001b[0mBFGS\u001b[0m\u001b[1;33m,\u001b[0m \u001b[0mSR1\u001b[0m\u001b[1;33m\n",
      "\u001b[0m\u001b[1;32mfrom\u001b[0m \u001b[1;33m.\u001b[0m\u001b[0m_shgo\u001b[0m \u001b[1;32mimport\u001b[0m \u001b[0mshgo\u001b[0m\u001b[1;33m\n",
      "\u001b[0m\u001b[1;32mfrom\u001b[0m \u001b[1;33m.\u001b[0m\u001b[0m_dual_annealing\u001b[0m \u001b[1;32mimport\u001b[0m \u001b[0mdual_annealing\u001b[0m\u001b[1;33m\n",
      "\u001b[0m\u001b[1;32mfrom\u001b[0m \u001b[1;33m.\u001b[0m\u001b[0m_qap\u001b[0m \u001b[1;32mimport\u001b[0m \u001b[0mquadratic_assignment\u001b[0m\u001b[1;33m\n",
      "\u001b[0m\u001b[1;32mfrom\u001b[0m \u001b[1;33m.\u001b[0m\u001b[0m_direct_py\u001b[0m \u001b[1;32mimport\u001b[0m \u001b[0mdirect\u001b[0m\u001b[1;33m\n",
      "\u001b[0m\u001b[1;32mfrom\u001b[0m \u001b[1;33m.\u001b[0m\u001b[0m_milp\u001b[0m \u001b[1;32mimport\u001b[0m \u001b[0mmilp\u001b[0m\u001b[1;33m\n",
      "\u001b[0m\u001b[1;33m\n",
      "\u001b[0m\u001b[1;31m# Deprecated namespaces, to be removed in v2.0.0\u001b[0m\u001b[1;33m\n",
      "\u001b[0m\u001b[1;32mfrom\u001b[0m \u001b[1;33m.\u001b[0m \u001b[1;32mimport\u001b[0m \u001b[1;33m(\u001b[0m\u001b[1;33m\n",
      "\u001b[0m    \u001b[0mcobyla\u001b[0m\u001b[1;33m,\u001b[0m \u001b[0mlbfgsb\u001b[0m\u001b[1;33m,\u001b[0m \u001b[0mlinesearch\u001b[0m\u001b[1;33m,\u001b[0m \u001b[0mminpack\u001b[0m\u001b[1;33m,\u001b[0m \u001b[0mminpack2\u001b[0m\u001b[1;33m,\u001b[0m \u001b[0mmoduleTNC\u001b[0m\u001b[1;33m,\u001b[0m \u001b[0mnonlin\u001b[0m\u001b[1;33m,\u001b[0m \u001b[0moptimize\u001b[0m\u001b[1;33m,\u001b[0m\u001b[1;33m\n",
      "\u001b[0m    \u001b[0mslsqp\u001b[0m\u001b[1;33m,\u001b[0m \u001b[0mtnc\u001b[0m\u001b[1;33m,\u001b[0m \u001b[0mzeros\u001b[0m\u001b[1;33m\n",
      "\u001b[0m\u001b[1;33m)\u001b[0m\u001b[1;33m\n",
      "\u001b[0m\u001b[1;33m\n",
      "\u001b[0m\u001b[0m__all__\u001b[0m \u001b[1;33m=\u001b[0m \u001b[1;33m[\u001b[0m\u001b[0ms\u001b[0m \u001b[1;32mfor\u001b[0m \u001b[0ms\u001b[0m \u001b[1;32min\u001b[0m \u001b[0mdir\u001b[0m\u001b[1;33m(\u001b[0m\u001b[1;33m)\u001b[0m \u001b[1;32mif\u001b[0m \u001b[1;32mnot\u001b[0m \u001b[0ms\u001b[0m\u001b[1;33m.\u001b[0m\u001b[0mstartswith\u001b[0m\u001b[1;33m(\u001b[0m\u001b[1;34m'_'\u001b[0m\u001b[1;33m)\u001b[0m\u001b[1;33m]\u001b[0m\u001b[1;33m\n",
      "\u001b[0m\u001b[1;33m\n",
      "\u001b[0m\u001b[1;32mfrom\u001b[0m \u001b[0mscipy\u001b[0m\u001b[1;33m.\u001b[0m\u001b[0m_lib\u001b[0m\u001b[1;33m.\u001b[0m\u001b[0m_testutils\u001b[0m \u001b[1;32mimport\u001b[0m \u001b[0mPytestTester\u001b[0m\u001b[1;33m\n",
      "\u001b[0m\u001b[0mtest\u001b[0m \u001b[1;33m=\u001b[0m \u001b[0mPytestTester\u001b[0m\u001b[1;33m(\u001b[0m\u001b[0m__name__\u001b[0m\u001b[1;33m)\u001b[0m\u001b[1;33m\n",
      "\u001b[0m\u001b[1;32mdel\u001b[0m \u001b[0mPytestTester\u001b[0m\u001b[1;33m\u001b[0m\u001b[1;33m\u001b[0m\u001b[0m"
     ]
    }
   ],
   "source": [
    "scipy.optimize??"
   ]
  },
  {
   "cell_type": "code",
   "execution_count": 39,
   "metadata": {},
   "outputs": [],
   "source": [
    "options= {'maxfun': 2000}\n",
    "\n",
    "#  You should also try different values of lambda\n",
    "lambda_ = 2\n",
    "costFunction = lambda p: nnCostFunction(p, input_layer_size,\n",
    "                                        hidden_layer_size,\n",
    "                                        num_labels, X, y, lambda_)\n",
    "res = optimize.minimize(costFunction,\n",
    "                        initial_nn_params,\n",
    "                        jac=True,\n",
    "                        method='TNC',\n",
    "                        options=options)\n",
    "nn_params = res.x\n",
    "Theta1 = np.reshape(nn_params[:hidden_layer_size * (input_layer_size + 1)],\n",
    "                    (hidden_layer_size, (input_layer_size + 1)))\n",
    "\n",
    "Theta2 = np.reshape(nn_params[(hidden_layer_size * (input_layer_size + 1)):],\n",
    "                    (num_labels, (hidden_layer_size + 1)))"
   ]
  },
  {
   "cell_type": "code",
   "execution_count": 40,
   "metadata": {},
   "outputs": [
    {
     "name": "stdout",
     "output_type": "stream",
     "text": [
      "Cost function when lambda =  2 is  0.538077215951699\n"
     ]
    }
   ],
   "source": [
    "print('Cost function when lambda = ', lambda_,'is ', res.fun)"
   ]
  },
  {
   "cell_type": "code",
   "execution_count": 42,
   "metadata": {},
   "outputs": [
    {
     "name": "stdout",
     "output_type": "stream",
     "text": [
      "Training Set Accuracy: 98.500000\n",
      "Testing Set Accuracy: 97.250000\n"
     ]
    }
   ],
   "source": [
    "pred_train = utils.predict(Theta1, Theta2, X)\n",
    "print('Training Set Accuracy: %f' % (np.mean(pred_train == y) * 100))\n",
    "pred_test = utils.predict(Theta1, Theta2, X_test)\n",
    "print('Testing Set Accuracy: %f' % (np.mean(pred_test == y_test) * 100))"
   ]
  },
  {
   "cell_type": "code",
   "execution_count": 47,
   "metadata": {},
   "outputs": [],
   "source": [
    "options= {'maxfun':2000} #adjust maxfun\n",
    "#  You should also try different values of lambda\n",
    "lambda_ = 3\n",
    "costFunction = lambda p: nnCostFunction(p, input_layer_size,\n",
    "                                        hidden_layer_size,\n",
    "                                        num_labels, X, y, lambda_)\n",
    "res = optimize.minimize(costFunction,\n",
    "                        initial_nn_params,\n",
    "                        jac=True,\n",
    "                        method='TNC',\n",
    "                        options=options)\n",
    "\n",
    "nn_params = res.x\n",
    "        \n",
    "Theta1 = np.reshape(nn_params[:hidden_layer_size * (input_layer_size + 1)],\n",
    "                    (hidden_layer_size, (input_layer_size + 1)))\n",
    "\n",
    "Theta2 = np.reshape(nn_params[(hidden_layer_size * (input_layer_size + 1)):],\n",
    "                    (num_labels, (hidden_layer_size + 1)))"
   ]
  },
  {
   "cell_type": "code",
   "execution_count": 48,
   "metadata": {},
   "outputs": [
    {
     "name": "stdout",
     "output_type": "stream",
     "text": [
      "Cost function when lambda =  3 is  0.6673434348890104\n"
     ]
    }
   ],
   "source": [
    "print('Cost function when lambda = ', lambda_,'is ', res.fun)"
   ]
  },
  {
   "cell_type": "code",
   "execution_count": 49,
   "metadata": {},
   "outputs": [
    {
     "name": "stdout",
     "output_type": "stream",
     "text": [
      "Training Set Accuracy: 98.062500\n",
      "Training Set Accuracy: 97.000000\n"
     ]
    }
   ],
   "source": [
    "pred_train = utils.predict(Theta1, Theta2, X)\n",
    "print('Training Set Accuracy: %f' % (np.mean(pred_train == y) * 100))\n",
    "pred_test = utils.predict(Theta1, Theta2, X_test)\n",
    "print('Training Set Accuracy: %f' % (np.mean(pred_test == y_test) * 100))"
   ]
  },
  {
   "cell_type": "markdown",
   "metadata": {},
   "source": [
    "### End of Neural Network Problem"
   ]
  }
 ],
 "metadata": {
  "kernelspec": {
   "display_name": "env",
   "language": "python",
   "name": "python3"
  },
  "language_info": {
   "codemirror_mode": {
    "name": "ipython",
    "version": 3
   },
   "file_extension": ".py",
   "mimetype": "text/x-python",
   "name": "python",
   "nbconvert_exporter": "python",
   "pygments_lexer": "ipython3",
   "version": "3.12.0"
  }
 },
 "nbformat": 4,
 "nbformat_minor": 4
}
