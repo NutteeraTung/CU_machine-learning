{
 "cells": [
  {
   "cell_type": "markdown",
   "metadata": {},
   "source": [
    "# Module 2 - Python Data Structures"
   ]
  },
  {
   "cell_type": "markdown",
   "metadata": {},
   "source": [
    "In this module, you will learn about\n",
    "1. Tuples\n",
    "2. Lists\n",
    "3. Sets\n",
    "4. Dictionaries"
   ]
  },
  {
   "cell_type": "markdown",
   "metadata": {},
   "source": [
    "## Tuples"
   ]
  },
  {
   "cell_type": "markdown",
   "metadata": {},
   "source": [
    "To create a tuple, we use the **parentheses** `( )`, with your content inside the parentheses and separated by commas. "
   ]
  },
  {
   "cell_type": "markdown",
   "metadata": {},
   "source": [
    "In Python, there are different data types: string, integer, float and boolean. These data types can all be contained in a tuple as follows:"
   ]
  },
  {
   "cell_type": "code",
   "execution_count": 1,
   "metadata": {},
   "outputs": [
    {
     "data": {
      "text/plain": [
       "(24, 4.9, 'Popular', True)"
      ]
     },
     "execution_count": 1,
     "metadata": {},
     "output_type": "execute_result"
    }
   ],
   "source": [
    "# Create your first tuple with integer, float, string, and boolean.\n",
    "\n",
    "tuple1 = (24, 4.9, \"Popular\", True)\n",
    "tuple1"
   ]
  },
  {
   "cell_type": "markdown",
   "metadata": {},
   "source": [
    "The type of variable is a tuple."
   ]
  },
  {
   "cell_type": "code",
   "execution_count": 2,
   "metadata": {},
   "outputs": [
    {
     "data": {
      "text/plain": [
       "tuple"
      ]
     },
     "execution_count": 2,
     "metadata": {},
     "output_type": "execute_result"
    }
   ],
   "source": [
    "# Print the type of the tuple you created\n",
    "\n",
    "type(tuple1)"
   ]
  },
  {
   "cell_type": "markdown",
   "metadata": {},
   "source": [
    "### Indexing"
   ]
  },
  {
   "cell_type": "markdown",
   "metadata": {},
   "source": [
    "Each element of a tuple can be accessed via an index. The following table represents the relationship between the index and the items in the tuple. Each element can be obtained by the name of the tuple followed by a square bracket with the index number:"
   ]
  },
  {
   "attachments": {
    "Tuple1-1.png": {
     "image/png": "[encoded data removed]"
    }
   },
   "cell_type": "markdown",
   "metadata": {},
   "source": [
    "![Tuple1-1.png](attachment:Tuple1-1.png)"
   ]
  },
  {
   "cell_type": "markdown",
   "metadata": {},
   "source": [
    "We can print out each value in the tuple:"
   ]
  },
  {
   "cell_type": "code",
   "execution_count": 3,
   "metadata": {},
   "outputs": [
    {
     "name": "stdout",
     "output_type": "stream",
     "text": [
      "24\n",
      "4.9\n",
      "Popular\n",
      "True\n"
     ]
    }
   ],
   "source": [
    "# Print the variable on each index\n",
    "\n",
    "print(tuple1[0])\n",
    "print(tuple1[1])\n",
    "print(tuple1[2])\n",
    "print(tuple1[3])"
   ]
  },
  {
   "cell_type": "markdown",
   "metadata": {},
   "source": [
    "We can print out the type of each value in the tuple:"
   ]
  },
  {
   "cell_type": "code",
   "execution_count": 4,
   "metadata": {},
   "outputs": [
    {
     "name": "stdout",
     "output_type": "stream",
     "text": [
      "<class 'int'>\n",
      "<class 'float'>\n",
      "<class 'str'>\n",
      "<class 'bool'>\n"
     ]
    }
   ],
   "source": [
    "# Print the type of value on each index\n",
    "\n",
    "print(type(tuple1[0]))\n",
    "print(type(tuple1[1]))\n",
    "print(type(tuple1[2]))\n",
    "print(type(tuple1[3]))"
   ]
  },
  {
   "cell_type": "code",
   "execution_count": 5,
   "metadata": {},
   "outputs": [
    {
     "ename": "TypeError",
     "evalue": "'tuple' object does not support item assignment",
     "output_type": "error",
     "traceback": [
      "\u001b[1;31m---------------------------------------------------------------------------\u001b[0m",
      "\u001b[1;31mTypeError\u001b[0m                                 Traceback (most recent call last)",
      "Cell \u001b[1;32mIn[5], line 1\u001b[0m\n\u001b[1;32m----> 1\u001b[0m \u001b[43mtuple1\u001b[49m\u001b[43m[\u001b[49m\u001b[38;5;241;43m1\u001b[39;49m\u001b[43m]\u001b[49m \u001b[38;5;241m=\u001b[39m \u001b[38;5;124m'\u001b[39m\u001b[38;5;124meiei\u001b[39m\u001b[38;5;124m'\u001b[39m\n",
      "\u001b[1;31mTypeError\u001b[0m: 'tuple' object does not support item assignment"
     ]
    }
   ],
   "source": [
    "tuple1[1] = 'eiei'\n",
    "#tuple ไม่สามารถเปลี่ยนค่าได้!!"
   ]
  },
  {
   "cell_type": "markdown",
   "metadata": {},
   "source": [
    "We can also use negative indexing. We use the same table above with corresponding negative values:"
   ]
  },
  {
   "attachments": {
    "Tuple2-1.png": {
     "image/png": "[encoded data removed]"
    }
   },
   "cell_type": "markdown",
   "metadata": {},
   "source": [
    "![Tuple2-1.png](attachment:Tuple2-1.png)"
   ]
  },
  {
   "cell_type": "markdown",
   "metadata": {},
   "source": [
    "Use negative index to get the value of each element:"
   ]
  },
  {
   "cell_type": "code",
   "execution_count": 6,
   "metadata": {},
   "outputs": [
    {
     "data": {
      "text/plain": [
       "True"
      ]
     },
     "execution_count": 6,
     "metadata": {},
     "output_type": "execute_result"
    }
   ],
   "source": [
    "# Use negative index to get the value of the last element\n",
    "\n",
    "tuple1[-1]"
   ]
  },
  {
   "cell_type": "code",
   "execution_count": 7,
   "metadata": {},
   "outputs": [
    {
     "data": {
      "text/plain": [
       "'Popular'"
      ]
     },
     "execution_count": 7,
     "metadata": {},
     "output_type": "execute_result"
    }
   ],
   "source": [
    "# Use negative index to get the value of the second last element\n",
    "\n",
    "tuple1[-2]"
   ]
  },
  {
   "cell_type": "code",
   "execution_count": 8,
   "metadata": {},
   "outputs": [
    {
     "data": {
      "text/plain": [
       "4.9"
      ]
     },
     "execution_count": 8,
     "metadata": {},
     "output_type": "execute_result"
    }
   ],
   "source": [
    "# Use negative index to get the value of the third last element\n",
    "\n",
    "tuple1[-3]"
   ]
  },
  {
   "cell_type": "code",
   "execution_count": 9,
   "metadata": {},
   "outputs": [
    {
     "data": {
      "text/plain": [
       "24"
      ]
     },
     "execution_count": 9,
     "metadata": {},
     "output_type": "execute_result"
    }
   ],
   "source": [
    "# Use negative index to get the value of the fourth last element\n",
    "\n",
    "tuple1[-4]"
   ]
  },
  {
   "cell_type": "markdown",
   "metadata": {},
   "source": [
    "**Tuples are immutable**. It means we cannot update values in the tuple."
   ]
  },
  {
   "cell_type": "markdown",
   "metadata": {},
   "source": [
    "If we try to update values in the tuple, you will see the error."
   ]
  },
  {
   "cell_type": "code",
   "execution_count": 10,
   "metadata": {},
   "outputs": [
    {
     "ename": "TypeError",
     "evalue": "'tuple' object does not support item assignment",
     "output_type": "error",
     "traceback": [
      "\u001b[1;31m---------------------------------------------------------------------------\u001b[0m",
      "\u001b[1;31mTypeError\u001b[0m                                 Traceback (most recent call last)",
      "Cell \u001b[1;32mIn[10], line 3\u001b[0m\n\u001b[0;32m      1\u001b[0m \u001b[38;5;66;03m# Try to update value in tuple\u001b[39;00m\n\u001b[1;32m----> 3\u001b[0m \u001b[43mtuple1\u001b[49m\u001b[43m[\u001b[49m\u001b[38;5;241;43m0\u001b[39;49m\u001b[43m]\u001b[49m \u001b[38;5;241m=\u001b[39m \u001b[38;5;241m100\u001b[39m\n",
      "\u001b[1;31mTypeError\u001b[0m: 'tuple' object does not support item assignment"
     ]
    }
   ],
   "source": [
    "# Try to update value in tuple\n",
    "\n",
    "tuple1[0] = 100"
   ]
  },
  {
   "cell_type": "markdown",
   "metadata": {},
   "source": [
    "### Concatenate Tuples"
   ]
  },
  {
   "cell_type": "markdown",
   "metadata": {},
   "source": [
    "We can concatenate or combine tuples by using an operator `+`:"
   ]
  },
  {
   "cell_type": "code",
   "execution_count": 11,
   "metadata": {},
   "outputs": [
    {
     "data": {
      "text/plain": [
       "(24, 4.9, 'Popular', True, 15, 'Black Pink')"
      ]
     },
     "execution_count": 11,
     "metadata": {},
     "output_type": "execute_result"
    }
   ],
   "source": [
    "# Concatenate two tuples\n",
    "\n",
    "tuple2 = tuple1 + (15, \"Black Pink\")\n",
    "tuple2"
   ]
  },
  {
   "cell_type": "markdown",
   "metadata": {},
   "source": [
    "### Slicing"
   ]
  },
  {
   "cell_type": "markdown",
   "metadata": {},
   "source": [
    "We can slice tuples obtaining multiple values."
   ]
  },
  {
   "attachments": {
    "Tuple3-1.png": {
     "image/png": "[encoded data removed]"
    }
   },
   "cell_type": "markdown",
   "metadata": {},
   "source": [
    "![Tuple3-1.png](attachment:Tuple3-1.png)"
   ]
  },
  {
   "cell_type": "markdown",
   "metadata": {},
   "source": [
    "We can slice tuples, obtaining new tuples with the corresponding elements:"
   ]
  },
  {
   "cell_type": "code",
   "execution_count": 12,
   "metadata": {},
   "outputs": [
    {
     "data": {
      "text/plain": [
       "(24, 4.9, 'Popular')"
      ]
     },
     "execution_count": 12,
     "metadata": {},
     "output_type": "execute_result"
    }
   ],
   "source": [
    "# Slice from index 0 to index 2\n",
    "\n",
    "tuple2[0:3]"
   ]
  },
  {
   "cell_type": "markdown",
   "metadata": {},
   "source": [
    "We can obtain the length of a tuple using the length command `len()`:"
   ]
  },
  {
   "cell_type": "code",
   "execution_count": 13,
   "metadata": {},
   "outputs": [
    {
     "data": {
      "text/plain": [
       "6"
      ]
     },
     "execution_count": 13,
     "metadata": {},
     "output_type": "execute_result"
    }
   ],
   "source": [
    "# Get the length of tuple\n",
    "\n",
    "len(tuple2)"
   ]
  },
  {
   "cell_type": "markdown",
   "metadata": {},
   "source": [
    "### Sorting"
   ]
  },
  {
   "cell_type": "markdown",
   "metadata": {},
   "source": [
    "Consider the following tuple:"
   ]
  },
  {
   "cell_type": "code",
   "execution_count": 14,
   "metadata": {},
   "outputs": [
    {
     "data": {
      "text/plain": [
       "(50, 89, 12, 74, 36, 68, 24, 55, 91, 8)"
      ]
     },
     "execution_count": 14,
     "metadata": {},
     "output_type": "execute_result"
    }
   ],
   "source": [
    "# A sample tuple\n",
    "\n",
    "Speed = (50, 89, 12, 74, 36, 68, 24, 55, 91, 8)\n",
    "Speed"
   ]
  },
  {
   "cell_type": "markdown",
   "metadata": {},
   "source": [
    "We can sort the values in a tuple by using `sorted()` and it will return the **sorted list**:"
   ]
  },
  {
   "cell_type": "code",
   "execution_count": 15,
   "metadata": {},
   "outputs": [
    {
     "data": {
      "text/plain": [
       "[8, 12, 24, 36, 50, 55, 68, 74, 89, 91]"
      ]
     },
     "execution_count": 15,
     "metadata": {},
     "output_type": "execute_result"
    }
   ],
   "source": [
    "# Sort the tuple\n",
    "\n",
    "SpeedSorted = sorted(Speed)\n",
    "SpeedSorted"
   ]
  },
  {
   "cell_type": "markdown",
   "metadata": {},
   "source": [
    "### Nested Tuple"
   ]
  },
  {
   "cell_type": "markdown",
   "metadata": {},
   "source": [
    "A tuple can contain another tuple as well as other more complex data types. This process is called '**nesting**'. Consider the following tuple with several elements:"
   ]
  },
  {
   "cell_type": "code",
   "execution_count": 16,
   "metadata": {},
   "outputs": [
    {
     "data": {
      "text/plain": [
       "(1, 2, ('Lisa', 'Black Pink'), (10, 11, 12), ('BNK48', (8, 9)))"
      ]
     },
     "execution_count": 16,
     "metadata": {},
     "output_type": "execute_result"
    }
   ],
   "source": [
    "# Create a nested tuple\n",
    "#tuple ซ้อน tuple\n",
    "\n",
    "NT = (1, 2, (\"Lisa\", \"Black Pink\"), (10, 11, 12), (\"BNK48\", (8, 9)))\n",
    "NT"
   ]
  },
  {
   "cell_type": "markdown",
   "metadata": {},
   "source": [
    "Each element in the tuple including other tuples can be obtained via an index as shown in the figure:"
   ]
  },
  {
   "attachments": {
    "Tuple4-1.png": {
     "image/png": "[encoded data removed]"
    }
   },
   "cell_type": "markdown",
   "metadata": {},
   "source": [
    "![Tuple4-1.png](attachment:Tuple4-1.png)"
   ]
  },
  {
   "cell_type": "code",
   "execution_count": 17,
   "metadata": {},
   "outputs": [
    {
     "name": "stdout",
     "output_type": "stream",
     "text": [
      "Element 0 of Tuple:  1\n",
      "Element 1 of Tuple:  2\n",
      "Element 2 of Tuple:  ('Lisa', 'Black Pink')\n",
      "Element 3 of Tuple:  (10, 11, 12)\n",
      "Element 4 of Tuple:  ('BNK48', (8, 9))\n"
     ]
    }
   ],
   "source": [
    "# Print element on each index\n",
    "\n",
    "print(\"Element 0 of Tuple: \", NT[0])\n",
    "print(\"Element 1 of Tuple: \", NT[1])\n",
    "print(\"Element 2 of Tuple: \", NT[2])\n",
    "print(\"Element 3 of Tuple: \", NT[3])\n",
    "print(\"Element 4 of Tuple: \", NT[4])"
   ]
  },
  {
   "cell_type": "code",
   "execution_count": 22,
   "metadata": {},
   "outputs": [
    {
     "data": {
      "text/plain": [
       "'Black Pink'"
      ]
     },
     "execution_count": 22,
     "metadata": {},
     "output_type": "execute_result"
    }
   ],
   "source": [
    "#call subindex in subtuble\n",
    "NT[2]\n",
    "NT[2][1]"
   ]
  },
  {
   "cell_type": "markdown",
   "metadata": {},
   "source": [
    "We can use the second index to access other tuples as demonstrated in the figure:"
   ]
  },
  {
   "attachments": {
    "Tuple5-1.png": {
     "image/png": "[encoded data removed]"
    }
   },
   "cell_type": "markdown",
   "metadata": {},
   "source": [
    "![Tuple5-1.png](attachment:Tuple5-1.png)"
   ]
  },
  {
   "cell_type": "markdown",
   "metadata": {},
   "source": [
    "We can access the nested tuples:"
   ]
  },
  {
   "cell_type": "code",
   "execution_count": 24,
   "metadata": {},
   "outputs": [
    {
     "name": "stdout",
     "output_type": "stream",
     "text": [
      "Element 2, 0 of Tuple:  Lisa\n",
      "Element 2, 1 of Tuple:  Black Pink\n",
      "Element 3, 0 of Tuple:  10\n",
      "Element 3, 1 of Tuple:  11\n",
      "Element 3, 2 of Tuple:  12\n",
      "Element 4, 0 of Tuple:  BNK48\n",
      "Element 4, 1 of Tuple:  (8, 9)\n"
     ]
    }
   ],
   "source": [
    "# Print element on each index, including nest indexes\n",
    "\n",
    "print(\"Element 2, 0 of Tuple: \", NT[2][0])\n",
    "print(\"Element 2, 1 of Tuple: \", NT[2][1])\n",
    "print(\"Element 3, 0 of Tuple: \", NT[3][0])\n",
    "print(\"Element 3, 1 of Tuple: \", NT[3][1])\n",
    "print(\"Element 3, 2 of Tuple: \", NT[3][2])\n",
    "print(\"Element 4, 0 of Tuple: \", NT[4][0])\n",
    "print(\"Element 4, 1 of Tuple: \", NT[4][1])"
   ]
  },
  {
   "cell_type": "markdown",
   "metadata": {},
   "source": [
    "We can access elements in the second nested tuples using a third index:"
   ]
  },
  {
   "cell_type": "code",
   "execution_count": 25,
   "metadata": {},
   "outputs": [
    {
     "data": {
      "text/plain": [
       "'B'"
      ]
     },
     "execution_count": 25,
     "metadata": {},
     "output_type": "execute_result"
    }
   ],
   "source": [
    "# Print the first element in the second nested tuples\n",
    "\n",
    "NT[2][1][0]"
   ]
  },
  {
   "cell_type": "markdown",
   "metadata": {},
   "source": [
    "### Exercise : Tuple"
   ]
  },
  {
   "cell_type": "markdown",
   "metadata": {},
   "source": [
    "Consider the following tuple:"
   ]
  },
  {
   "cell_type": "code",
   "execution_count": 26,
   "metadata": {},
   "outputs": [
    {
     "data": {
      "text/plain": [
       "('Thailand',\n",
       " 'Japan',\n",
       " 'Singapore',\n",
       " 'India',\n",
       " 'China',\n",
       " 'Maldives',\n",
       " 'Argentina',\n",
       " 'Belgium',\n",
       " 'New Zealand',\n",
       " 'Brazil',\n",
       " 'Canada',\n",
       " 'Pakistan',\n",
       " 'Qatar',\n",
       " 'Djibouti',\n",
       " 'Equatorial Guinea',\n",
       " 'Switzerland',\n",
       " 'Georgia',\n",
       " 'Hungary',\n",
       " 'United Arab Emirates',\n",
       " 'Liechtenstein',\n",
       " 'Luxembourg',\n",
       " 'Kyrgyzstan',\n",
       " 'Trinidad and Tobago',\n",
       " 'Portugal',\n",
       " 'Burkina Faso ',\n",
       " 'Bosnia and Herzegovina')"
      ]
     },
     "execution_count": 26,
     "metadata": {},
     "output_type": "execute_result"
    }
   ],
   "source": [
    "# sample tuple\n",
    "\n",
    "country_tuple = ('Thailand', 'Japan', 'Singapore', 'India', 'China', 'Maldives', 'Argentina', 'Belgium', \\\n",
    "                 'New Zealand', 'Brazil', 'Canada', 'Pakistan', 'Qatar', 'Djibouti', 'Equatorial Guinea', \\\n",
    "                 'Switzerland', 'Georgia', 'Hungary', 'United Arab Emirates', 'Liechtenstein', 'Luxembourg', \\\n",
    "                 'Kyrgyzstan', 'Trinidad and Tobago', 'Portugal', 'Burkina Faso ', 'Bosnia and Herzegovina')\n",
    "\n",
    "country_tuple"
   ]
  },
  {
   "cell_type": "markdown",
   "metadata": {},
   "source": [
    "Find the length of the country_tuple:"
   ]
  },
  {
   "cell_type": "code",
   "execution_count": 27,
   "metadata": {},
   "outputs": [
    {
     "data": {
      "text/plain": [
       "26"
      ]
     },
     "execution_count": 27,
     "metadata": {},
     "output_type": "execute_result"
    }
   ],
   "source": [
    "# Write your code below and press Shift+Enter to execute\n",
    "len(country_tuple)\n"
   ]
  },
  {
   "cell_type": "markdown",
   "metadata": {},
   "source": [
    "Access the element, with respect to index 5:"
   ]
  },
  {
   "cell_type": "code",
   "execution_count": 28,
   "metadata": {},
   "outputs": [
    {
     "data": {
      "text/plain": [
       "'Maldives'"
      ]
     },
     "execution_count": 28,
     "metadata": {},
     "output_type": "execute_result"
    }
   ],
   "source": [
    "# Write your code below and press Shift+Enter to execute\n",
    "\n",
    "country_tuple[5]"
   ]
  },
  {
   "cell_type": "markdown",
   "metadata": {},
   "source": [
    "Use slicing to obtain indexes 5, 6 and 7:"
   ]
  },
  {
   "cell_type": "code",
   "execution_count": 29,
   "metadata": {},
   "outputs": [
    {
     "data": {
      "text/plain": [
       "('Maldives', 'Argentina', 'Belgium')"
      ]
     },
     "execution_count": 29,
     "metadata": {},
     "output_type": "execute_result"
    }
   ],
   "source": [
    "# Write your code below and press Shift+Enter to execute\n",
    "country_tuple[5:8]\n"
   ]
  },
  {
   "cell_type": "markdown",
   "metadata": {},
   "source": [
    "Find the index of \"Trinidad and Tobago\":"
   ]
  },
  {
   "cell_type": "code",
   "execution_count": 41,
   "metadata": {},
   "outputs": [
    {
     "data": {
      "text/plain": [
       "1"
      ]
     },
     "execution_count": 41,
     "metadata": {},
     "output_type": "execute_result"
    }
   ],
   "source": [
    "country_tuple.index(\"Trinidad and Tobago\")"
   ]
  },
  {
   "cell_type": "markdown",
   "metadata": {},
   "source": [
    "Generate a sorted list from the country_tuple:"
   ]
  },
  {
   "cell_type": "code",
   "execution_count": 36,
   "metadata": {},
   "outputs": [
    {
     "name": "stdout",
     "output_type": "stream",
     "text": [
      "['Argentina', 'Belgium', 'Bosnia and Herzegovina', 'Brazil', 'Burkina Faso ', 'Canada', 'China', 'Djibouti', 'Equatorial Guinea', 'Georgia', 'Hungary', 'India', 'Japan', 'Kyrgyzstan', 'Liechtenstein', 'Luxembourg', 'Maldives', 'New Zealand', 'Pakistan', 'Portugal', 'Qatar', 'Singapore', 'Switzerland', 'Thailand', 'Trinidad and Tobago', 'United Arab Emirates']\n"
     ]
    }
   ],
   "source": [
    "# Write your code below and press Shift+Enter to execute\n",
    "country_tuple = sorted(country_tuple)\n",
    "print(country_tuple)\n"
   ]
  },
  {
   "cell_type": "code",
   "execution_count": 37,
   "metadata": {},
   "outputs": [
    {
     "name": "stdout",
     "output_type": "stream",
     "text": [
      "['United Arab Emirates', 'Trinidad and Tobago', 'Thailand', 'Switzerland', 'Singapore', 'Qatar', 'Portugal', 'Pakistan', 'New Zealand', 'Maldives', 'Luxembourg', 'Liechtenstein', 'Kyrgyzstan', 'Japan', 'India', 'Hungary', 'Georgia', 'Equatorial Guinea', 'Djibouti', 'China', 'Canada', 'Burkina Faso ', 'Brazil', 'Bosnia and Herzegovina', 'Belgium', 'Argentina']\n"
     ]
    }
   ],
   "source": [
    "# To sort with the reverse order, use the argument: reverse = True\n",
    "country_tuple = sorted(country_tuple,reverse=True)\n",
    "print(country_tuple)\n"
   ]
  },
  {
   "cell_type": "markdown",
   "metadata": {},
   "source": [
    "<hr>"
   ]
  },
  {
   "cell_type": "markdown",
   "metadata": {},
   "source": [
    "## Lists"
   ]
  },
  {
   "cell_type": "markdown",
   "metadata": {},
   "source": [
    "A list is a sequenced collection of different objects such as integers, strings, booleans, and other lists as well."
   ]
  },
  {
   "cell_type": "markdown",
   "metadata": {},
   "source": [
    "List is very similar to tuple, except that **list is mutable**."
   ]
  },
  {
   "cell_type": "markdown",
   "metadata": {},
   "source": [
    "To create a list, type the list within **square brackets** `[ ]`, with your content inside the square brackets and separated by commas. "
   ]
  },
  {
   "cell_type": "code",
   "execution_count": 44,
   "metadata": {},
   "outputs": [
    {
     "data": {
      "text/plain": [
       "[2025, 12.1, 'Moodeng', False]"
      ]
     },
     "execution_count": 44,
     "metadata": {},
     "output_type": "execute_result"
    }
   ],
   "source": [
    "# Create a list\n",
    "\n",
    "List = [2025, 12.1, \"Moodeng\", False]\n",
    "List"
   ]
  },
  {
   "cell_type": "markdown",
   "metadata": {},
   "source": [
    "### Indexing"
   ]
  },
  {
   "cell_type": "markdown",
   "metadata": {},
   "source": [
    "The address of each element within a list is called an **index**. An index is used to access and refer to items within a list as shown in the figures:"
   ]
  },
  {
   "attachments": {
    "List1-1.png": {
     "image/png": "[encoded data removed]"
    }
   },
   "cell_type": "markdown",
   "metadata": {},
   "source": [
    "![List1-1.png](attachment:List1-1.png)"
   ]
  },
  {
   "attachments": {
    "List2.png": {
     "image/png": "[encoded data removed]"
    }
   },
   "cell_type": "markdown",
   "metadata": {},
   "source": [
    "![List2.png](attachment:List2.png)"
   ]
  },
  {
   "cell_type": "markdown",
   "metadata": {},
   "source": [
    "We can use negative and regular indexing with a list :"
   ]
  },
  {
   "attachments": {
    "List3-3.jpg": {
     "image/jpeg": "[encoded data removed]"
    }
   },
   "cell_type": "markdown",
   "metadata": {},
   "source": [
    "![List3-3.jpg](attachment:List3-3.jpg)"
   ]
  },
  {
   "cell_type": "code",
   "execution_count": 45,
   "metadata": {},
   "outputs": [
    {
     "name": "stdout",
     "output_type": "stream",
     "text": [
      "the same element using negative and positive indexing:\n",
      " Postive: 2025 \n",
      " Negative: 2025\n",
      "the same element using negative and positive indexing:\n",
      " Postive: 12.1 \n",
      " Negative: 12.1\n",
      "the same element using negative and positive indexing:\n",
      " Postive: Moodeng \n",
      " Negative: Moodeng\n",
      "the same element using negative and positive indexing:\n",
      " Postive: False \n",
      " Negative: False\n"
     ]
    }
   ],
   "source": [
    "# Print the elements on each index\n",
    "\n",
    "print('the same element using negative and positive indexing:\\n Postive:',List[0],\n",
    "'\\n Negative:' , List[-4] )\n",
    "print('the same element using negative and positive indexing:\\n Postive:',List[1],\n",
    "'\\n Negative:' , List[-3] )\n",
    "print('the same element using negative and positive indexing:\\n Postive:',List[2],\n",
    "'\\n Negative:' , List[-2] )\n",
    "print('the same element using negative and positive indexing:\\n Postive:',List[3],\n",
    "'\\n Negative:' , List[-1] )"
   ]
  },
  {
   "cell_type": "markdown",
   "metadata": {},
   "source": [
    "### List Content"
   ]
  },
  {
   "cell_type": "markdown",
   "metadata": {},
   "source": [
    "Lists can contain strings, floats, integers and booleans. We can nest other lists, and we can also nest tuples and other data structures. The same indexing conventions apply for nesting:"
   ]
  },
  {
   "cell_type": "code",
   "execution_count": 46,
   "metadata": {},
   "outputs": [
    {
     "data": {
      "text/plain": [
       "['Moo Deng', 1.11, 2568, True, [1, 2, 3], (0.5, 'XXX', 100)]"
      ]
     },
     "execution_count": 46,
     "metadata": {},
     "output_type": "execute_result"
    }
   ],
   "source": [
    "# Sample List\n",
    "\n",
    "[\"Moo Deng\", 1.11, 2568, True, [1, 2, 3], (0.5, \"XXX\", 100)]"
   ]
  },
  {
   "cell_type": "markdown",
   "metadata": {},
   "source": [
    "### List Operations"
   ]
  },
  {
   "cell_type": "markdown",
   "metadata": {},
   "source": [
    "We can also perform slicing in lists. For example, if we want the last three elements, we use the following command:"
   ]
  },
  {
   "cell_type": "code",
   "execution_count": 47,
   "metadata": {},
   "outputs": [
    {
     "data": {
      "text/plain": [
       "[15, 30.1, 2025, 'Deepal', 2.5, 'Xpeng']"
      ]
     },
     "execution_count": 47,
     "metadata": {},
     "output_type": "execute_result"
    }
   ],
   "source": [
    "# Sample List\n",
    "\n",
    "List2 = [15, 30.1, 2025, \"Deepal\", 2.5, \"Xpeng\"]\n",
    "List2"
   ]
  },
  {
   "attachments": {
    "List4-2.jpg": {
     "image/jpeg": "[encoded data removed]"
    }
   },
   "cell_type": "markdown",
   "metadata": {},
   "source": [
    "![List4-2.jpg](attachment:List4-2.jpg)"
   ]
  },
  {
   "cell_type": "code",
   "execution_count": 48,
   "metadata": {},
   "outputs": [
    {
     "data": {
      "text/plain": [
       "['Deepal', 2.5, 'Xpeng']"
      ]
     },
     "execution_count": 48,
     "metadata": {},
     "output_type": "execute_result"
    }
   ],
   "source": [
    "# List slicing\n",
    "\n",
    "List2[3:6]"
   ]
  },
  {
   "cell_type": "markdown",
   "metadata": {},
   "source": [
    "We can use the `extend()` method  to add new elements to the list:"
   ]
  },
  {
   "cell_type": "code",
   "execution_count": 49,
   "metadata": {},
   "outputs": [
    {
     "data": {
      "text/plain": [
       "[15, 30.1, 2025, 'Deepal', 2.5, 'Xpeng', 'Leapmotor', 46.2, 50]"
      ]
     },
     "execution_count": 49,
     "metadata": {},
     "output_type": "execute_result"
    }
   ],
   "source": [
    "# Use extend to add elements to list\n",
    "\n",
    "List2 = [15, 30.1, 2025, \"Deepal\", 2.5, \"Xpeng\"]\n",
    "List2.extend([\"Leapmotor\", 46.2, 50])\n",
    "List2"
   ]
  },
  {
   "cell_type": "markdown",
   "metadata": {},
   "source": [
    "Another similar method is `append()`. If we apply `append` instead of `extend`, we add **one element** to the list:"
   ]
  },
  {
   "cell_type": "code",
   "execution_count": 50,
   "metadata": {},
   "outputs": [
    {
     "data": {
      "text/plain": [
       "[15, 30.1, 2025, 'Deepal', 2.5, 'Xpeng', ['Leapmotor', 46.2, 50]]"
      ]
     },
     "execution_count": 50,
     "metadata": {},
     "output_type": "execute_result"
    }
   ],
   "source": [
    "# Use append to add element to list\n",
    "\n",
    "List2 = [15, 30.1, 2025, \"Deepal\", 2.5, \"Xpeng\"]\n",
    "List2.append([\"Leapmotor\", 46.2, 50])\n",
    "List2"
   ]
  },
  {
   "cell_type": "markdown",
   "metadata": {},
   "source": [
    "We can use the `insert()` method to insert a new element at a specified index:"
   ]
  },
  {
   "cell_type": "code",
   "execution_count": 51,
   "metadata": {},
   "outputs": [
    {
     "data": {
      "text/plain": [
       "[15, 30.1, 2025, 'BYD', 'Deepal', 2.5, 'Xpeng', ['Leapmotor', 46.2, 50]]"
      ]
     },
     "execution_count": 51,
     "metadata": {},
     "output_type": "execute_result"
    }
   ],
   "source": [
    "List2.insert(3, 'BYD')\n",
    "List2"
   ]
  },
  {
   "cell_type": "markdown",
   "metadata": {},
   "source": [
    "We can combine or concatenate lists using an opertor `+`:"
   ]
  },
  {
   "cell_type": "code",
   "execution_count": 52,
   "metadata": {},
   "outputs": [
    {
     "name": "stdout",
     "output_type": "stream",
     "text": [
      "List_C = ['EV', 'ICE', 'Hybrid', 'Tesla', 'Mazda', 'Toyota']\n",
      "\n",
      "List_A = ['EV', 'ICE', 'Hybrid']\n",
      "List_B = ['Tesla', 'Mazda', 'Toyota']\n"
     ]
    }
   ],
   "source": [
    "List_A = ['EV', 'ICE', 'Hybrid']\n",
    "List_B = ['Tesla', 'Mazda', 'Toyota']\n",
    "List_C = List_A + List_B\n",
    "print('List_C =', List_C)\n",
    "\n",
    "print('')\n",
    "\n",
    "# An operator + does not affect original lists\n",
    "print('List_A =', List_A)\n",
    "print('List_B =', List_B)"
   ]
  },
  {
   "cell_type": "markdown",
   "metadata": {},
   "source": [
    "As lists are **mutable**, we can change them. For example, we can change the first element as follows:"
   ]
  },
  {
   "cell_type": "code",
   "execution_count": 53,
   "metadata": {},
   "outputs": [
    {
     "name": "stdout",
     "output_type": "stream",
     "text": [
      "Before change: ['Toyota', 10, 21.7]\n",
      "After change: ['Honda', 10, 21.7]\n"
     ]
    }
   ],
   "source": [
    "# Change the element based on the index\n",
    "\n",
    "X = [\"Toyota\", 10, 21.7]\n",
    "print('Before change:', X)\n",
    "X[0] = 'Honda'\n",
    "print('After change:', X)"
   ]
  },
  {
   "cell_type": "markdown",
   "metadata": {},
   "source": [
    "We can use the `del()` command to delete an element of a list by index (or slice):"
   ]
  },
  {
   "cell_type": "code",
   "execution_count": 54,
   "metadata": {},
   "outputs": [
    {
     "name": "stdout",
     "output_type": "stream",
     "text": [
      "Before delete: ['Honda', 10, 21.7]\n",
      "After delete: ['Honda', 21.7]\n"
     ]
    }
   ],
   "source": [
    "# Delete the element based on the index\n",
    "\n",
    "print('Before delete:', X)\n",
    "del(X[1])  # or we can write del X[1]\n",
    "print('After delete:', X)"
   ]
  },
  {
   "cell_type": "markdown",
   "metadata": {},
   "source": [
    "If we want to delete an element by value, we can use the `remove()` method:"
   ]
  },
  {
   "cell_type": "code",
   "execution_count": 55,
   "metadata": {},
   "outputs": [
    {
     "name": "stdout",
     "output_type": "stream",
     "text": [
      "Before delete: ['Deepal', 'BYD', 'Xpeng', 'Leapmotor']\n",
      "After delete: ['Deepal', 'BYD', 'Xpeng']\n"
     ]
    }
   ],
   "source": [
    "Z = ['Deepal', 'BYD', 'Xpeng', 'Leapmotor']\n",
    "print('Before delete:', Z)\n",
    "Z.remove('Leapmotor')\n",
    "print('After delete:', Z)"
   ]
  },
  {
   "cell_type": "markdown",
   "metadata": {},
   "source": [
    "We can convert a string to a list using `split()`. For example, the method split translates every group of characters separated by a **space** into an element in a list:"
   ]
  },
  {
   "cell_type": "code",
   "execution_count": 56,
   "metadata": {},
   "outputs": [
    {
     "data": {
      "text/plain": [
       "['Python', 'Basics']"
      ]
     },
     "execution_count": 56,
     "metadata": {},
     "output_type": "execute_result"
    }
   ],
   "source": [
    "# Split the string, default is by space\n",
    "\n",
    "'Python Basics'.split()"
   ]
  },
  {
   "cell_type": "markdown",
   "metadata": {},
   "source": [
    "We can use the split function to separate strings on a specific character. We pass the character we would like to split on into the argument, which in this case is a **comma**. The result is a list, and each element corresponds to a set of characters that have been separated by a comma:"
   ]
  },
  {
   "cell_type": "code",
   "execution_count": 57,
   "metadata": {},
   "outputs": [
    {
     "data": {
      "text/plain": [
       "['a', ' b', ' c', ' d', ' e', ' f', ' g and h']"
      ]
     },
     "execution_count": 57,
     "metadata": {},
     "output_type": "execute_result"
    }
   ],
   "source": [
    "# Split the string by comma\n",
    "\n",
    "'a, b, c, d, e, f, g and h'.split(',')"
   ]
  },
  {
   "cell_type": "markdown",
   "metadata": {},
   "source": [
    "### Copy and Clone List"
   ]
  },
  {
   "cell_type": "markdown",
   "metadata": {},
   "source": [
    "When we set one variable Y equal to X; both X and Y are referencing the same list in memory:"
   ]
  },
  {
   "cell_type": "code",
   "execution_count": 58,
   "metadata": {},
   "outputs": [
    {
     "name": "stdout",
     "output_type": "stream",
     "text": [
      "X: ['Toyota', 10, 21.7]\n",
      "Y: ['Toyota', 10, 21.7]\n"
     ]
    }
   ],
   "source": [
    "# Copy (copy by reference) the list X\n",
    "\n",
    "X = [\"Toyota\", 10, 21.7]\n",
    "Y = X\n",
    "print('X:', X)\n",
    "print('Y:', Y)"
   ]
  },
  {
   "attachments": {
    "List5-1.png": {
     "image/png": "[encoded data removed]"
    }
   },
   "cell_type": "markdown",
   "metadata": {},
   "source": [
    "![List5-1.png](attachment:List5-1.png)"
   ]
  },
  {
   "cell_type": "markdown",
   "metadata": {},
   "source": [
    "Initially, the value of the first element in Y is set as Toyota. If we change the first element in X to Honda, we get an unexpected side effect. As X and Y are referencing the same list, if we change list X, then list Y also changes. If we check the first element of Y, we get Honda instead of Toyota:"
   ]
  },
  {
   "cell_type": "code",
   "execution_count": 59,
   "metadata": {},
   "outputs": [
    {
     "name": "stdout",
     "output_type": "stream",
     "text": [
      "Before change List X, Y[0]: Toyota\n",
      "After change List X, Y[0]: Honda\n"
     ]
    }
   ],
   "source": [
    "# Examine the copy by reference\n",
    "\n",
    "print('Before change List X, Y[0]:', Y[0])\n",
    "X[0] = \"Honda\"\n",
    "\n",
    "print('After change List X, Y[0]:', Y[0])"
   ]
  },
  {
   "cell_type": "markdown",
   "metadata": {},
   "source": [
    "This is demonstrated in the following figure:"
   ]
  },
  {
   "attachments": {
    "List6-1.png": {
     "image/png": "[encoded data removed]"
    }
   },
   "cell_type": "markdown",
   "metadata": {},
   "source": [
    "![List6-1.png](attachment:List6-1.png)"
   ]
  },
  {
   "cell_type": "markdown",
   "metadata": {},
   "source": [
    "You can **clone** list X by using the following syntax:"
   ]
  },
  {
   "cell_type": "code",
   "execution_count": 60,
   "metadata": {},
   "outputs": [
    {
     "data": {
      "text/plain": [
       "['Toyota', 10, 21.7]"
      ]
     },
     "execution_count": 60,
     "metadata": {},
     "output_type": "execute_result"
    }
   ],
   "source": [
    "# Clone (clone by value) the list X\n",
    "\n",
    "X = [\"Toyota\", 10, 21.7]\n",
    "Y = X[:]\n",
    "Y"
   ]
  },
  {
   "cell_type": "markdown",
   "metadata": {},
   "source": [
    "Variable Y references a new copy or clone of the original list; this is demonstrated in the following figure:"
   ]
  },
  {
   "attachments": {
    "List7-1.png": {
     "image/png": "[encoded data removed]"
    }
   },
   "cell_type": "markdown",
   "metadata": {},
   "source": [
    "![List7-1.png](attachment:List7-1.png)"
   ]
  },
  {
   "cell_type": "markdown",
   "metadata": {},
   "source": [
    "Now if you change X, Y will not change since they are referencing different lists:"
   ]
  },
  {
   "cell_type": "code",
   "execution_count": 61,
   "metadata": {},
   "outputs": [
    {
     "name": "stdout",
     "output_type": "stream",
     "text": [
      "Before change List X, Y[0]: Toyota\n",
      "After change List X, Y[0]: Toyota\n"
     ]
    }
   ],
   "source": [
    "# Examine the clone by value\n",
    "\n",
    "print('Before change List X, Y[0]:', Y[0])\n",
    "X[0] = \"Honda\"\n",
    "print('After change List X, Y[0]:', Y[0])"
   ]
  },
  {
   "attachments": {
    "List8.png": {
     "image/png": "[encoded data removed]"
    }
   },
   "cell_type": "markdown",
   "metadata": {},
   "source": [
    "![List8.png](attachment:List8.png)"
   ]
  },
  {
   "cell_type": "markdown",
   "metadata": {},
   "source": [
    "### Exercise : Lists"
   ]
  },
  {
   "cell_type": "markdown",
   "metadata": {},
   "source": [
    "Create a list **new_list**, with the following elements: 5.9, [1, 2, 3], cool, (2, 3, 4) and True."
   ]
  },
  {
   "cell_type": "code",
   "execution_count": 111,
   "metadata": {},
   "outputs": [],
   "source": [
    "# Write your code below and press Shift+Enter to execute\n",
    "new_list = [5.9, [1, 2, 3], 'cool', (2, 3, 4),True]"
   ]
  },
  {
   "cell_type": "markdown",
   "metadata": {},
   "source": [
    "Find the value stored at index 2 of **new_list**."
   ]
  },
  {
   "cell_type": "code",
   "execution_count": 112,
   "metadata": {},
   "outputs": [
    {
     "data": {
      "text/plain": [
       "'cool'"
      ]
     },
     "execution_count": 112,
     "metadata": {},
     "output_type": "execute_result"
    }
   ],
   "source": [
    "# Write your code below and press Shift+Enter to execute\n",
    "new_list[2]"
   ]
  },
  {
   "cell_type": "markdown",
   "metadata": {},
   "source": [
    "Retrieve the elements stored at index 3 and 4 of **new_list**."
   ]
  },
  {
   "cell_type": "code",
   "execution_count": 113,
   "metadata": {},
   "outputs": [
    {
     "data": {
      "text/plain": [
       "[(2, 3, 4), True]"
      ]
     },
     "execution_count": 113,
     "metadata": {},
     "output_type": "execute_result"
    }
   ],
   "source": [
    "# Write your code below and press Shift+Enter to execute\n",
    "\n",
    "new_list[3:5]"
   ]
  },
  {
   "cell_type": "markdown",
   "metadata": {},
   "source": [
    "Concatenate the following lists **a = [3.4, 'Huawei']** and **b = [2023, 2.4, 'Apple']**:"
   ]
  },
  {
   "cell_type": "code",
   "execution_count": 114,
   "metadata": {},
   "outputs": [
    {
     "name": "stdout",
     "output_type": "stream",
     "text": [
      "[3.4, 'Huawei', 2023, 2.4, 'Apple']\n"
     ]
    }
   ],
   "source": [
    "# Write your code below and press Shift+Enter to execute\n",
    "a = [3.4, 'Huawei']\n",
    "b = [2023, 2.4, 'Apple']\n",
    "print(a+b)\n"
   ]
  },
  {
   "cell_type": "markdown",
   "metadata": {},
   "source": [
    "Add new elements **['Oppo', 'Samsung']** to the list **mobile_list = ['Apple', 'Huawei', 'Mi']**:"
   ]
  },
  {
   "cell_type": "code",
   "execution_count": 115,
   "metadata": {},
   "outputs": [
    {
     "data": {
      "text/plain": [
       "['Apple', 'Huawei', 'Mi', 'Oppo', 'Samsung']"
      ]
     },
     "execution_count": 115,
     "metadata": {},
     "output_type": "execute_result"
    }
   ],
   "source": [
    "# Write your code below and press Shift+Enter to execute\n",
    "\n",
    "mobile_list = ['Apple', 'Huawei', 'Mi']\n",
    "mobile_list.extend(['Oppo', 'Samsung'])\n",
    "mobile_list"
   ]
  },
  {
   "cell_type": "markdown",
   "metadata": {},
   "source": [
    "Delete **Huawei** from the **mobile_list**:"
   ]
  },
  {
   "cell_type": "code",
   "execution_count": 118,
   "metadata": {},
   "outputs": [],
   "source": [
    "# Write your code below and press Shift+Enter to execute\n",
    "mobile_list\n",
    "mobile_list.remove('Huawei')\n"
   ]
  },
  {
   "cell_type": "code",
   "execution_count": 119,
   "metadata": {},
   "outputs": [
    {
     "data": {
      "text/plain": [
       "['Apple', 'Mi', 'Oppo', 'Samsung']"
      ]
     },
     "execution_count": 119,
     "metadata": {},
     "output_type": "execute_result"
    }
   ],
   "source": [
    "mobile_list"
   ]
  },
  {
   "cell_type": "markdown",
   "metadata": {},
   "source": [
    "Clone **mobile_list** to a new list **brand_list**:"
   ]
  },
  {
   "cell_type": "code",
   "execution_count": 120,
   "metadata": {},
   "outputs": [
    {
     "name": "stdout",
     "output_type": "stream",
     "text": [
      "['Apple', 'Mi', 'Oppo', 'Samsung']\n"
     ]
    }
   ],
   "source": [
    "# Write your code below and press Shift+Enter to execute\n",
    "brand_list = mobile_list[:]\n",
    "print(brand_list)"
   ]
  },
  {
   "cell_type": "markdown",
   "metadata": {},
   "source": [
    "Change the element **Apple** in **mobile_list** to **Wiko** and print **mobile_list** and **brand_list**. Do they have the same elements?"
   ]
  },
  {
   "cell_type": "code",
   "execution_count": 121,
   "metadata": {},
   "outputs": [
    {
     "name": "stdout",
     "output_type": "stream",
     "text": [
      "['Wiko', 'Mi', 'Oppo', 'Samsung']  : mobile_list\n",
      "['Apple', 'Mi', 'Oppo', 'Samsung']  : brand_list\n"
     ]
    }
   ],
   "source": [
    "# Write your code below and press Shift+Enter to execute\n",
    "mobile_list[0]='Wiko'\n",
    "print(mobile_list,' : mobile_list')\n",
    "print(brand_list,' : brand_list')"
   ]
  },
  {
   "cell_type": "markdown",
   "metadata": {},
   "source": [
    "<hr>"
   ]
  },
  {
   "cell_type": "markdown",
   "metadata": {},
   "source": [
    "## Sets"
   ]
  },
  {
   "cell_type": "markdown",
   "metadata": {},
   "source": [
    "### Set Content"
   ]
  },
  {
   "cell_type": "markdown",
   "metadata": {},
   "source": [
    "A set is a **unique** collection of objects in Python. You can denote a set with **curly brackets** or **curly braces** `{}` or `set( )`. Python will automatically **remove duplicate items**:"
   ]
  },
  {
   "cell_type": "code",
   "execution_count": 122,
   "metadata": {},
   "outputs": [
    {
     "data": {
      "text/plain": [
       "{'Honda', 'Isuzu', 'Mazda', 'Mitsubishi', 'Nissan', 'Toyota'}"
      ]
     },
     "execution_count": 122,
     "metadata": {},
     "output_type": "execute_result"
    }
   ],
   "source": [
    "# Create a set\n",
    "\n",
    "Set = {\"Toyota\", \"Honda\", \"Mazda\", \"Nissan\", \"Honda\", \"Mitsubishi\", \"Toyota\", \"Honda\", \"Isuzu\"}\n",
    "Set"
   ]
  },
  {
   "cell_type": "markdown",
   "metadata": {},
   "source": [
    "The process of mapping is illustrated in the figure:"
   ]
  },
  {
   "attachments": {
    "set1-1.png": {
     "image/png": "[encoded data removed]"
    }
   },
   "cell_type": "markdown",
   "metadata": {},
   "source": [
    "![set1-1.png](attachment:set1-1.png)"
   ]
  },
  {
   "cell_type": "markdown",
   "metadata": {},
   "source": [
    "You can also create a set from a list as follows:"
   ]
  },
  {
   "cell_type": "code",
   "execution_count": 123,
   "metadata": {},
   "outputs": [
    {
     "data": {
      "text/plain": [
       "{1,\n",
       " 2,\n",
       " 2959,\n",
       " 3,\n",
       " 3716,\n",
       " 3998,\n",
       " 4,\n",
       " 5,\n",
       " 5766,\n",
       " 6243,\n",
       " 'Honda',\n",
       " 'Isuzu',\n",
       " 'Mazda',\n",
       " 'Mitsubishi',\n",
       " 'Toyota'}"
      ]
     },
     "execution_count": 123,
     "metadata": {},
     "output_type": "execute_result"
    }
   ],
   "source": [
    "# Convert list to set\n",
    "\n",
    "motor_expo_list = [\"Toyota\", 1, 6243, \"Honda\", 2, 5766, \"Mazda\", 3, 3998, \\\n",
    "                    \"Isuzu\", 4, 3716, \"Mitsubishi\", 5, 2959]\n",
    "motor_expo_set = set(motor_expo_list)             \n",
    "motor_expo_set"
   ]
  },
  {
   "cell_type": "markdown",
   "metadata": {},
   "source": [
    "### Set Operations"
   ]
  },
  {
   "cell_type": "code",
   "execution_count": 124,
   "metadata": {},
   "outputs": [
    {
     "data": {
      "text/plain": [
       "{'Altis', 'Camry', 'Yaris'}"
      ]
     },
     "execution_count": 124,
     "metadata": {},
     "output_type": "execute_result"
    }
   ],
   "source": [
    "# Sample set\n",
    "\n",
    "model = set([\"Camry\", \"Altis\", \"Yaris\"])\n",
    "model"
   ]
  },
  {
   "cell_type": "markdown",
   "metadata": {},
   "source": [
    "We can add an element to a set using the `add()` method:"
   ]
  },
  {
   "cell_type": "code",
   "execution_count": 125,
   "metadata": {},
   "outputs": [
    {
     "data": {
      "text/plain": [
       "{'Altis', 'Camry', 'Fortuner', 'Yaris'}"
      ]
     },
     "execution_count": 125,
     "metadata": {},
     "output_type": "execute_result"
    }
   ],
   "source": [
    "# Add element to set\n",
    "\n",
    "model.add(\"Fortuner\")\n",
    "model"
   ]
  },
  {
   "cell_type": "markdown",
   "metadata": {},
   "source": [
    "If we add the same element twice, nothing will happen as there can be no duplicates in a set:"
   ]
  },
  {
   "cell_type": "code",
   "execution_count": 126,
   "metadata": {},
   "outputs": [
    {
     "data": {
      "text/plain": [
       "{'Altis', 'Camry', 'Fortuner', 'Yaris'}"
      ]
     },
     "execution_count": 126,
     "metadata": {},
     "output_type": "execute_result"
    }
   ],
   "source": [
    "# Try to add duplicate element to the set\n",
    "\n",
    "model.add(\"Fortuner\")\n",
    "model"
   ]
  },
  {
   "cell_type": "markdown",
   "metadata": {},
   "source": [
    "We can remove an item from a set using the `remove()` method:"
   ]
  },
  {
   "cell_type": "code",
   "execution_count": 127,
   "metadata": {},
   "outputs": [
    {
     "data": {
      "text/plain": [
       "{'Altis', 'Camry', 'Yaris'}"
      ]
     },
     "execution_count": 127,
     "metadata": {},
     "output_type": "execute_result"
    }
   ],
   "source": [
    "# Remove the element from set\n",
    "\n",
    "model.remove(\"Fortuner\")\n",
    "model"
   ]
  },
  {
   "cell_type": "markdown",
   "metadata": {},
   "source": [
    "We can verify if an element is in the set using the `in` command:"
   ]
  },
  {
   "cell_type": "code",
   "execution_count": 128,
   "metadata": {},
   "outputs": [
    {
     "data": {
      "text/plain": [
       "True"
      ]
     },
     "execution_count": 128,
     "metadata": {},
     "output_type": "execute_result"
    }
   ],
   "source": [
    "# Verify if the element is in the set\n",
    "\n",
    "\"Altis\" in model"
   ]
  },
  {
   "cell_type": "markdown",
   "metadata": {},
   "source": [
    "### Sets Logic Operations"
   ]
  },
  {
   "cell_type": "markdown",
   "metadata": {},
   "source": [
    "Remember that with sets you can check the difference between sets, as well as the symmetric difference, intersection, and union:\n",
    "\n",
    "Consider the following two sets:"
   ]
  },
  {
   "cell_type": "code",
   "execution_count": 129,
   "metadata": {},
   "outputs": [
    {
     "name": "stdout",
     "output_type": "stream",
     "text": [
      "model_set1 = {'Yaris', 'Altis', 'Veloz', 'Camry'}\n",
      "model_set2 = {'Fortuner', 'Altis', 'Hilux', 'Veloz'}\n"
     ]
    }
   ],
   "source": [
    "# Sample Sets\n",
    "\n",
    "model_set1 = set([\"Yaris\", \"Veloz\", \"Camry\", \"Altis\"])\n",
    "model_set2 = set([\"Fortuner\", \"Altis\", \"Hilux\", \"Veloz\"])\n",
    "\n",
    "# Print two sets\n",
    "\n",
    "print('model_set1 =', model_set1)\n",
    "print('model_set2 =', model_set2)"
   ]
  },
  {
   "attachments": {
    "ba01feb2-c5d1-4e0b-b83c-ac4db6ada832.png": {
     "image/png": "[encoded data removed]"
    }
   },
   "cell_type": "markdown",
   "metadata": {},
   "source": [
    "![set2-1.png](attachment:ba01feb2-c5d1-4e0b-b83c-ac4db6ada832.png)"
   ]
  },
  {
   "cell_type": "markdown",
   "metadata": {},
   "source": [
    "As both sets contain Altis and Veloz, we represent these common elements with the intersection of two circles."
   ]
  },
  {
   "attachments": {
    "3e093766-8f65-4199-8cf5-3a802e2fd872.png": {
     "image/png": "[encoded data removed]"
    }
   },
   "cell_type": "markdown",
   "metadata": {},
   "source": [
    "![set3-1.png](attachment:3e093766-8f65-4199-8cf5-3a802e2fd872.png)"
   ]
  },
  {
   "cell_type": "markdown",
   "metadata": {},
   "source": [
    "You can find the intersect of two sets by using `&`:"
   ]
  },
  {
   "cell_type": "code",
   "execution_count": 130,
   "metadata": {},
   "outputs": [
    {
     "data": {
      "text/plain": [
       "{'Altis', 'Veloz'}"
      ]
     },
     "execution_count": 130,
     "metadata": {},
     "output_type": "execute_result"
    }
   ],
   "source": [
    "# Find the intersections\n",
    "\n",
    "intersection = model_set1 & model_set2\n",
    "intersection"
   ]
  },
  {
   "cell_type": "markdown",
   "metadata": {},
   "source": [
    "You can also find the intersection of model_set1 and model_set2, using the `intersection()` method:"
   ]
  },
  {
   "cell_type": "code",
   "execution_count": 131,
   "metadata": {},
   "outputs": [
    {
     "data": {
      "text/plain": [
       "{'Altis', 'Veloz'}"
      ]
     },
     "execution_count": 131,
     "metadata": {},
     "output_type": "execute_result"
    }
   ],
   "source": [
    "# Use intersection method to find the intersection of model_set1 and model_set2\n",
    "\n",
    "model_set1.intersection(model_set2)   "
   ]
  },
  {
   "cell_type": "markdown",
   "metadata": {},
   "source": [
    "You can find all the elements that are only contained in model_set1 using the `difference()` method:"
   ]
  },
  {
   "cell_type": "code",
   "execution_count": 132,
   "metadata": {},
   "outputs": [
    {
     "data": {
      "text/plain": [
       "{'Camry', 'Yaris'}"
      ]
     },
     "execution_count": 132,
     "metadata": {},
     "output_type": "execute_result"
    }
   ],
   "source": [
    "# Find the difference in set1 but not set2\n",
    "\n",
    "model_set1.difference(model_set2)  "
   ]
  },
  {
   "cell_type": "markdown",
   "metadata": {},
   "source": [
    "You can use an operator `-` instead of the `difference()` method."
   ]
  },
  {
   "cell_type": "code",
   "execution_count": 133,
   "metadata": {},
   "outputs": [
    {
     "data": {
      "text/plain": [
       "{'Camry', 'Yaris'}"
      ]
     },
     "execution_count": 133,
     "metadata": {},
     "output_type": "execute_result"
    }
   ],
   "source": [
    "# Find the difference in set1 but not set2\n",
    "\n",
    "model_set1 - model_set2"
   ]
  },
  {
   "cell_type": "markdown",
   "metadata": {},
   "source": [
    "You only need to consider elements in model_set1; all elements in model_set2, including the intersection, are not included."
   ]
  },
  {
   "attachments": {
    "23d69fee-2dae-42bb-81d0-6258a6c62df5.png": {
     "image/png": "[encoded data removed]"
    }
   },
   "cell_type": "markdown",
   "metadata": {},
   "source": [
    "![set4-1.png](attachment:23d69fee-2dae-42bb-81d0-6258a6c62df5.png)"
   ]
  },
  {
   "cell_type": "markdown",
   "metadata": {},
   "source": [
    "The elements in model_set2 but not in model_set1 is given by:"
   ]
  },
  {
   "cell_type": "code",
   "execution_count": 134,
   "metadata": {},
   "outputs": [
    {
     "data": {
      "text/plain": [
       "{'Fortuner', 'Hilux'}"
      ]
     },
     "execution_count": 134,
     "metadata": {},
     "output_type": "execute_result"
    }
   ],
   "source": [
    "model_set2.difference(model_set1)"
   ]
  },
  {
   "cell_type": "code",
   "execution_count": 135,
   "metadata": {},
   "outputs": [
    {
     "data": {
      "text/plain": [
       "{'Fortuner', 'Hilux'}"
      ]
     },
     "execution_count": 135,
     "metadata": {},
     "output_type": "execute_result"
    }
   ],
   "source": [
    "model_set2 - model_set1"
   ]
  },
  {
   "attachments": {
    "e7112f69-cd60-4aff-88ee-0ea0ee78b608.png": {
     "image/png": "[encoded data removed]"
    }
   },
   "cell_type": "markdown",
   "metadata": {},
   "source": [
    "![set5-1.png](attachment:e7112f69-cd60-4aff-88ee-0ea0ee78b608.png)"
   ]
  },
  {
   "cell_type": "markdown",
   "metadata": {},
   "source": [
    "The `union()` corresponds to all elements in both sets, which is represented by coloring both circles:"
   ]
  },
  {
   "attachments": {
    "0d979051-7fd5-4e58-a4e2-b6208a5f338c.png": {
     "image/png": "[encoded data removed]"
    }
   },
   "cell_type": "markdown",
   "metadata": {},
   "source": [
    "![set6-1.png](attachment:0d979051-7fd5-4e58-a4e2-b6208a5f338c.png)"
   ]
  },
  {
   "cell_type": "code",
   "execution_count": 136,
   "metadata": {},
   "outputs": [
    {
     "data": {
      "text/plain": [
       "{'Altis', 'Camry', 'Fortuner', 'Hilux', 'Veloz', 'Yaris'}"
      ]
     },
     "execution_count": 136,
     "metadata": {},
     "output_type": "execute_result"
    }
   ],
   "source": [
    "# Find the union of two sets\n",
    "\n",
    "model_set1.union(model_set2)"
   ]
  },
  {
   "cell_type": "markdown",
   "metadata": {},
   "source": [
    "You can also use `|` to union two sets."
   ]
  },
  {
   "cell_type": "code",
   "execution_count": 137,
   "metadata": {},
   "outputs": [
    {
     "data": {
      "text/plain": [
       "{'Altis', 'Camry', 'Fortuner', 'Hilux', 'Veloz', 'Yaris'}"
      ]
     },
     "execution_count": 137,
     "metadata": {},
     "output_type": "execute_result"
    }
   ],
   "source": [
    "model_set1 | model_set2"
   ]
  },
  {
   "cell_type": "markdown",
   "metadata": {},
   "source": [
    "You can check if a set is a **superset** of another set by using `issuperset()` or `>=`:"
   ]
  },
  {
   "cell_type": "code",
   "execution_count": 138,
   "metadata": {},
   "outputs": [
    {
     "data": {
      "text/plain": [
       "False"
      ]
     },
     "execution_count": 138,
     "metadata": {},
     "output_type": "execute_result"
    }
   ],
   "source": [
    "# Check if superset\n",
    "\n",
    "model_set1.issuperset(model_set2)"
   ]
  },
  {
   "cell_type": "code",
   "execution_count": 139,
   "metadata": {},
   "outputs": [
    {
     "data": {
      "text/plain": [
       "False"
      ]
     },
     "execution_count": 139,
     "metadata": {},
     "output_type": "execute_result"
    }
   ],
   "source": [
    "# Check if superset\n",
    "\n",
    "model_set1 >= model_set2"
   ]
  },
  {
   "cell_type": "markdown",
   "metadata": {},
   "source": [
    "You can check if a set is a **subset** of another set by using `issubset()` or `<=`:"
   ]
  },
  {
   "cell_type": "code",
   "execution_count": 140,
   "metadata": {},
   "outputs": [
    {
     "data": {
      "text/plain": [
       "False"
      ]
     },
     "execution_count": 140,
     "metadata": {},
     "output_type": "execute_result"
    }
   ],
   "source": [
    "# Check if subset\n",
    "\n",
    "model_set2.issubset(model_set1) "
   ]
  },
  {
   "cell_type": "code",
   "execution_count": 141,
   "metadata": {},
   "outputs": [
    {
     "data": {
      "text/plain": [
       "False"
      ]
     },
     "execution_count": 141,
     "metadata": {},
     "output_type": "execute_result"
    }
   ],
   "source": [
    "# Check if subset\n",
    "\n",
    "model_set2 <= model_set1  "
   ]
  },
  {
   "cell_type": "markdown",
   "metadata": {},
   "source": [
    "These are examples where **issubset()** and **issuperset()** return true:"
   ]
  },
  {
   "cell_type": "code",
   "execution_count": 142,
   "metadata": {},
   "outputs": [
    {
     "data": {
      "text/plain": [
       "True"
      ]
     },
     "execution_count": 142,
     "metadata": {},
     "output_type": "execute_result"
    }
   ],
   "source": [
    "# Check if subset\n",
    "\n",
    "set({\"Yaris\", \"Altis\"}).issubset(model_set1) "
   ]
  },
  {
   "cell_type": "code",
   "execution_count": 143,
   "metadata": {},
   "outputs": [
    {
     "data": {
      "text/plain": [
       "True"
      ]
     },
     "execution_count": 143,
     "metadata": {},
     "output_type": "execute_result"
    }
   ],
   "source": [
    "# Check if superset\n",
    "\n",
    "model_set2.issuperset({\"Hilux\", \"Veloz\"}) "
   ]
  },
  {
   "cell_type": "markdown",
   "metadata": {},
   "source": [
    "Symmetric difference"
   ]
  },
  {
   "cell_type": "code",
   "execution_count": 144,
   "metadata": {},
   "outputs": [
    {
     "data": {
      "text/plain": [
       "{'Camry', 'Fortuner', 'Hilux', 'Yaris'}"
      ]
     },
     "execution_count": 144,
     "metadata": {},
     "output_type": "execute_result"
    }
   ],
   "source": [
    "model_set1 ^ model_set2"
   ]
  },
  {
   "cell_type": "markdown",
   "metadata": {},
   "source": [
    "If you want to determine that one set is a **proper** superset of the other set, you use `>`:\n",
    "\n",
    "Note: A proper superset of a set 𝐴 is a set that contains all elements of 𝐴, plus at least one additional element."
   ]
  },
  {
   "cell_type": "code",
   "execution_count": 145,
   "metadata": {},
   "outputs": [
    {
     "data": {
      "text/plain": [
       "True"
      ]
     },
     "execution_count": 145,
     "metadata": {},
     "output_type": "execute_result"
    }
   ],
   "source": [
    "# It is true that the set is a superset of itself:\n",
    "\n",
    "model_set1 >= model_set1"
   ]
  },
  {
   "cell_type": "markdown",
   "metadata": {},
   "source": [
    "super set ของ A จะใหญ่กว่า A และมีเซ็ตอื่นๆเพิ่ม"
   ]
  },
  {
   "cell_type": "code",
   "execution_count": 146,
   "metadata": {},
   "outputs": [
    {
     "data": {
      "text/plain": [
       "False"
      ]
     },
     "execution_count": 146,
     "metadata": {},
     "output_type": "execute_result"
    }
   ],
   "source": [
    "# It is false that the set is a proper superset of itself:\n",
    "\n",
    "model_set1 > model_set1"
   ]
  },
  {
   "cell_type": "code",
   "execution_count": 147,
   "metadata": {},
   "outputs": [
    {
     "data": {
      "text/plain": [
       "True"
      ]
     },
     "execution_count": 147,
     "metadata": {},
     "output_type": "execute_result"
    }
   ],
   "source": [
    "# It is true in this case:\n",
    "\n",
    "model_set2 > {\"Hilux\", \"Veloz\"} "
   ]
  },
  {
   "cell_type": "markdown",
   "metadata": {},
   "source": [
    "Similarly, if you want to determine that one set is a **proper** subset of the other set, you use `<`:\n",
    "\n",
    "Note: A proper subset of a set 𝐴 is a subset that contains some (but not all) elements of 𝐴, and it must not be equal to \n",
    "𝐴."
   ]
  },
  {
   "cell_type": "code",
   "execution_count": 148,
   "metadata": {},
   "outputs": [
    {
     "data": {
      "text/plain": [
       "True"
      ]
     },
     "execution_count": 148,
     "metadata": {},
     "output_type": "execute_result"
    }
   ],
   "source": [
    "# It is true that the set is a subset of itself:\n",
    "\n",
    "model_set1 <= model_set1"
   ]
  },
  {
   "cell_type": "code",
   "execution_count": 149,
   "metadata": {},
   "outputs": [
    {
     "data": {
      "text/plain": [
       "False"
      ]
     },
     "execution_count": 149,
     "metadata": {},
     "output_type": "execute_result"
    }
   ],
   "source": [
    "# It is false that the set is a proper subset of itself:\n",
    "\n",
    "model_set1 < model_set1"
   ]
  },
  {
   "cell_type": "code",
   "execution_count": 150,
   "metadata": {},
   "outputs": [
    {
     "data": {
      "text/plain": [
       "True"
      ]
     },
     "execution_count": 150,
     "metadata": {},
     "output_type": "execute_result"
    }
   ],
   "source": [
    "# It is true in this case:\n",
    "\n",
    "{\"Yaris\", \"Altis\"} < model_set1"
   ]
  },
  {
   "cell_type": "markdown",
   "metadata": {},
   "source": [
    "### Exercise : Sets"
   ]
  },
  {
   "cell_type": "markdown",
   "metadata": {},
   "source": [
    "Convert the list **['Accord','Civic','City', 'Jazz', 'Civic']** to a set:"
   ]
  },
  {
   "cell_type": "code",
   "execution_count": 152,
   "metadata": {},
   "outputs": [
    {
     "name": "stdout",
     "output_type": "stream",
     "text": [
      "{'Jazz', 'City', 'Accord', 'Civic'}\n"
     ]
    }
   ],
   "source": [
    "# Write your code below and press Shift+Enter to execute\n",
    "\n",
    "ex_list = ['Accord','Civic','City', 'Jazz', 'Civic']\n",
    "ex_set = set(['Accord','Civic','City', 'Jazz', 'Civic'])\n",
    "print(ex_set)"
   ]
  },
  {
   "cell_type": "markdown",
   "metadata": {},
   "source": [
    "Consider the list **A = [2, 3, 4, 3]** and set **B = set([2, 3, 4, 3])**, does sum(A) = sum(B)?"
   ]
  },
  {
   "cell_type": "code",
   "execution_count": 154,
   "metadata": {},
   "outputs": [
    {
     "name": "stdout",
     "output_type": "stream",
     "text": [
      "12\n",
      "9\n"
     ]
    }
   ],
   "source": [
    "# Write your code below and press Shift+Enter to execute\n",
    "A = [2, 3, 4, 3]\n",
    "B = set([2, 3, 4, 3])\n",
    "print(sum(A))\n",
    "print(sum(B))"
   ]
  },
  {
   "cell_type": "markdown",
   "metadata": {},
   "source": [
    "Create a new set **model_set3** that is the union of **model_set1** and **model_set2** where\n",
    "\n",
    "model_set1 = set([\"HR-V\", \"Civic\", \"City\", \"BR-V\"])\n",
    "\n",
    "model_set2 = set([\"Accord\", \"HR-V\", \"WR-V\", \"City\"])"
   ]
  },
  {
   "cell_type": "code",
   "execution_count": 158,
   "metadata": {},
   "outputs": [
    {
     "name": "stdout",
     "output_type": "stream",
     "text": [
      "{'HR-V', 'City', 'BR-V', 'Civic', 'WR-V', 'Accord'}\n"
     ]
    }
   ],
   "source": [
    "# Write your code below and press Shift+Enter to execute\n",
    "model_set1 = set([\"HR-V\", \"Civic\", \"City\", \"BR-V\"])\n",
    "model_set2 = set([\"Accord\", \"HR-V\", \"WR-V\", \"City\"])\n",
    "model_set3 = model_set1|model_set2\n",
    "print(model_set3)"
   ]
  },
  {
   "cell_type": "markdown",
   "metadata": {},
   "source": [
    "Find out if **model_set1** is a subset of **model_set3**:"
   ]
  },
  {
   "cell_type": "code",
   "execution_count": 159,
   "metadata": {},
   "outputs": [
    {
     "data": {
      "text/plain": [
       "True"
      ]
     },
     "execution_count": 159,
     "metadata": {},
     "output_type": "execute_result"
    }
   ],
   "source": [
    "# Write your code below and press Shift+Enter to execute\n",
    "model_set3 >= model_set1\n",
    "# model_set1.issubset(model_set3)"
   ]
  },
  {
   "cell_type": "markdown",
   "metadata": {},
   "source": [
    "<hr>"
   ]
  },
  {
   "cell_type": "markdown",
   "metadata": {},
   "source": [
    "## Dictionaries"
   ]
  },
  {
   "cell_type": "markdown",
   "metadata": {},
   "source": [
    "A dictionary consists of keys and values. It is helpful to compare a dictionary to a list. Instead of the numerical indexes such as a list, dictionaries have keys. These keys are the keys used to access values within a dictionary."
   ]
  },
  {
   "attachments": {
    "Dic1.png": {
     "image/png": "[encoded data removed]"
    }
   },
   "cell_type": "markdown",
   "metadata": {},
   "source": [
    "![Dic1.png](attachment:Dic1.png)"
   ]
  },
  {
   "cell_type": "markdown",
   "metadata": {},
   "source": [
    "To create a dictionary, we use the **curry brackets** `{ }`."
   ]
  },
  {
   "cell_type": "markdown",
   "metadata": {},
   "source": [
    "An example of a dictionary:"
   ]
  },
  {
   "cell_type": "code",
   "execution_count": 160,
   "metadata": {},
   "outputs": [
    {
     "data": {
      "text/plain": [
       "{'key1': 100,\n",
       " 'key2': 'Chula',\n",
       " 'key3': [5, 5, 5, 5],\n",
       " 'ID': (1, 2, 3),\n",
       " 'key5': 'Element 5',\n",
       " (1, 2, 3): 6.7}"
      ]
     },
     "execution_count": 160,
     "metadata": {},
     "output_type": "execute_result"
    }
   ],
   "source": [
    "# Create the dictionary\n",
    "\n",
    "Dict = {\"key1\": 100, \"key2\": \"Chula\", \"key3\": [5, 5, 5, 5], \"ID\": (1, 2, 3), ('key5'): \"Element 5\", (1, 2, 3): 6.7}\n",
    "Dict"
   ]
  },
  {
   "cell_type": "markdown",
   "metadata": {},
   "source": [
    "The keys can be strings:"
   ]
  },
  {
   "cell_type": "code",
   "execution_count": 161,
   "metadata": {},
   "outputs": [
    {
     "data": {
      "text/plain": [
       "100"
      ]
     },
     "execution_count": 161,
     "metadata": {},
     "output_type": "execute_result"
    }
   ],
   "source": [
    "# Access to the value by the key\n",
    "\n",
    "Dict[\"key1\"]"
   ]
  },
  {
   "cell_type": "markdown",
   "metadata": {},
   "source": [
    "Keys can also be any *immutable object* such as a tuple:"
   ]
  },
  {
   "cell_type": "code",
   "execution_count": 162,
   "metadata": {},
   "outputs": [
    {
     "data": {
      "text/plain": [
       "6.7"
      ]
     },
     "execution_count": 162,
     "metadata": {},
     "output_type": "execute_result"
    }
   ],
   "source": [
    "# Access to the value by the key\n",
    "\n",
    "Dict[(1, 2, 3)]"
   ]
  },
  {
   "cell_type": "markdown",
   "metadata": {},
   "source": [
    "Each key is separated from its value by a colon \"`:`\". Commas separate the items, and the whole dictionary is enclosed in curly braces. An empty dictionary without any items is written with just two curly braces, like this \"`{}`\"."
   ]
  },
  {
   "cell_type": "code",
   "execution_count": 164,
   "metadata": {},
   "outputs": [
    {
     "data": {
      "text/plain": [
       "{'Australia': '26 January',\n",
       " 'Netherlands': '27 April',\n",
       " 'United Kingdom': '16 June',\n",
       " 'Canada': '1 July',\n",
       " 'United States of America': '4 July',\n",
       " 'Switzerland': '1 August',\n",
       " 'India': '15 August',\n",
       " 'Malaysia': '31 August',\n",
       " 'China': '1 October',\n",
       " 'Germany': '3 October',\n",
       " 'Thailand': '5 December',\n",
       " 'Japan': '23 December'}"
      ]
     },
     "execution_count": 164,
     "metadata": {},
     "output_type": "execute_result"
    }
   ],
   "source": [
    "# Create a sample dictionary\n",
    "\n",
    "national_days_dict = {\"Australia\": \"26 January\", \"Netherlands\": \"27 April\", \"United Kingdom\": \"16 June\", \\\n",
    "                      \"Canada\": \"1 July\", \"United States of America\": \"4 July\", \"Switzerland\": \"1 August\", \\\n",
    "                      \"India\": \"15 August\", \"Malaysia\": \"31 August\", \"China\": \"1 October\", \\\n",
    "                      \"Germany\": \"3 October\", \"Thailand\": \"5 December\", \"Japan\": \"23 December\"}\n",
    "\n",
    "national_days_dict"
   ]
  },
  {
   "cell_type": "markdown",
   "metadata": {},
   "source": [
    "In summary, like a list, a dictionary holds a sequence of elements. Each element is represented by a key and its corresponding value. Dictionaries are created with two curly braces containing keys and values separated by a colon. For every key, there can only be one single value, however, multiple keys can hold the same value. Keys can only be strings, numbers, or tuples, but values can be any data type."
   ]
  },
  {
   "cell_type": "markdown",
   "metadata": {},
   "source": [
    "It is helpful to visualize the dictionary as a table, as in the following image. The first column represents the keys, the second column represents the values."
   ]
  },
  {
   "attachments": {
    "fc8f337f-4f3a-4714-b6e7-3d7b775fe314.png": {
     "image/png": "[encoded data removed]"
    }
   },
   "cell_type": "markdown",
   "metadata": {},
   "source": [
    "![Dic4-1.png](attachment:fc8f337f-4f3a-4714-b6e7-3d7b775fe314.png)"
   ]
  },
  {
   "cell_type": "markdown",
   "metadata": {},
   "source": [
    "### Keys"
   ]
  },
  {
   "cell_type": "markdown",
   "metadata": {},
   "source": [
    "You can retrieve the values based on the names:"
   ]
  },
  {
   "cell_type": "code",
   "execution_count": 165,
   "metadata": {},
   "outputs": [
    {
     "data": {
      "text/plain": [
       "'4 July'"
      ]
     },
     "execution_count": 165,
     "metadata": {},
     "output_type": "execute_result"
    }
   ],
   "source": [
    "# Get value by keys\n",
    "\n",
    "national_days_dict['United States of America'] "
   ]
  },
  {
   "cell_type": "markdown",
   "metadata": {},
   "source": [
    "Now let you retrieve the keys of the dictionary using the method `keys()`:"
   ]
  },
  {
   "cell_type": "code",
   "execution_count": 166,
   "metadata": {},
   "outputs": [
    {
     "data": {
      "text/plain": [
       "dict_keys(['Australia', 'Netherlands', 'United Kingdom', 'Canada', 'United States of America', 'Switzerland', 'India', 'Malaysia', 'China', 'Germany', 'Thailand', 'Japan'])"
      ]
     },
     "execution_count": 166,
     "metadata": {},
     "output_type": "execute_result"
    }
   ],
   "source": [
    "# Get all the keys in dictionary\n",
    "\n",
    "national_days_dict.keys() "
   ]
  },
  {
   "cell_type": "markdown",
   "metadata": {},
   "source": [
    "You can retrieve the values using the method `values()`:"
   ]
  },
  {
   "cell_type": "code",
   "execution_count": 167,
   "metadata": {},
   "outputs": [
    {
     "data": {
      "text/plain": [
       "dict_values(['26 January', '27 April', '16 June', '1 July', '4 July', '1 August', '15 August', '31 August', '1 October', '3 October', '5 December', '23 December'])"
      ]
     },
     "execution_count": 167,
     "metadata": {},
     "output_type": "execute_result"
    }
   ],
   "source": [
    "# Get all the values in dictionary\n",
    "\n",
    "national_days_dict.values() "
   ]
  },
  {
   "cell_type": "markdown",
   "metadata": {},
   "source": [
    "We can add an entry:"
   ]
  },
  {
   "cell_type": "code",
   "execution_count": 168,
   "metadata": {},
   "outputs": [
    {
     "data": {
      "text/plain": [
       "{'Australia': '26 January',\n",
       " 'Netherlands': '27 April',\n",
       " 'United Kingdom': '16 June',\n",
       " 'Canada': '1 July',\n",
       " 'United States of America': '4 July',\n",
       " 'Switzerland': '1 August',\n",
       " 'India': '15 August',\n",
       " 'Malaysia': '31 August',\n",
       " 'China': '1 October',\n",
       " 'Germany': '3 October',\n",
       " 'Thailand': '5 December',\n",
       " 'Japan': '23 December',\n",
       " 'Brazil': '7 September'}"
      ]
     },
     "execution_count": 168,
     "metadata": {},
     "output_type": "execute_result"
    }
   ],
   "source": [
    "# Append value with key into dictionary\n",
    "\n",
    "national_days_dict['Brazil'] = '7 September'\n",
    "national_days_dict"
   ]
  },
  {
   "cell_type": "markdown",
   "metadata": {},
   "source": [
    "We can delete an entry:"
   ]
  },
  {
   "cell_type": "code",
   "execution_count": 169,
   "metadata": {},
   "outputs": [
    {
     "data": {
      "text/plain": [
       "{'Australia': '26 January',\n",
       " 'Netherlands': '27 April',\n",
       " 'United Kingdom': '16 June',\n",
       " 'Canada': '1 July',\n",
       " 'United States of America': '4 July',\n",
       " 'Switzerland': '1 August',\n",
       " 'Malaysia': '31 August',\n",
       " 'China': '1 October',\n",
       " 'Thailand': '5 December',\n",
       " 'Japan': '23 December',\n",
       " 'Brazil': '7 September'}"
      ]
     },
     "execution_count": 169,
     "metadata": {},
     "output_type": "execute_result"
    }
   ],
   "source": [
    "# Delete entries by key\n",
    "\n",
    "del(national_days_dict['India'])\n",
    "del national_days_dict['Germany']\n",
    "national_days_dict"
   ]
  },
  {
   "cell_type": "markdown",
   "metadata": {},
   "source": [
    "We can verify if an element is in the dictionary:"
   ]
  },
  {
   "cell_type": "code",
   "execution_count": 170,
   "metadata": {},
   "outputs": [
    {
     "data": {
      "text/plain": [
       "True"
      ]
     },
     "execution_count": 170,
     "metadata": {},
     "output_type": "execute_result"
    }
   ],
   "source": [
    "# Verify the key is in the dictionary\n",
    "\n",
    "'Malaysia' in national_days_dict"
   ]
  },
  {
   "cell_type": "code",
   "execution_count": 171,
   "metadata": {},
   "outputs": [
    {
     "data": {
      "text/plain": [
       "False"
      ]
     },
     "execution_count": 171,
     "metadata": {},
     "output_type": "execute_result"
    }
   ],
   "source": [
    "# Verify the key is in the dictionary\n",
    "\n",
    "'Republic of Korea' in national_days_dict"
   ]
  },
  {
   "cell_type": "markdown",
   "metadata": {},
   "source": [
    "### Exercise : Dictionaries"
   ]
  },
  {
   "cell_type": "markdown",
   "metadata": {},
   "source": [
    "You will need this dictionary for the next two questions:"
   ]
  },
  {
   "cell_type": "code",
   "execution_count": 172,
   "metadata": {},
   "outputs": [
    {
     "data": {
      "text/plain": [
       "{\"New Year's Day\": '1 January',\n",
       " 'Coronation Day': '4 May',\n",
       " 'Constitution Day': '10 December'}"
      ]
     },
     "execution_count": 172,
     "metadata": {},
     "output_type": "execute_result"
    }
   ],
   "source": [
    "# Question sample dictionary\n",
    "\n",
    "public_holiday_dict = {\"New Year's Day\": \"1 January\", \"Coronation Day\": \"4 May\", \"Constitution Day\": \"10 December\"}\n",
    "public_holiday_dict"
   ]
  },
  {
   "cell_type": "markdown",
   "metadata": {},
   "source": [
    "1) In the dictionary public_holiday_dict, what are the keys ?"
   ]
  },
  {
   "cell_type": "code",
   "execution_count": 173,
   "metadata": {},
   "outputs": [
    {
     "data": {
      "text/plain": [
       "dict_keys([\"New Year's Day\", 'Coronation Day', 'Constitution Day'])"
      ]
     },
     "execution_count": 173,
     "metadata": {},
     "output_type": "execute_result"
    }
   ],
   "source": [
    "# Write your code below and press Shift+Enter to execute\n",
    "\n",
    "public_holiday_dict.keys()"
   ]
  },
  {
   "cell_type": "markdown",
   "metadata": {},
   "source": [
    "2) In the dictionary public_holiday_dict, what are the values ?"
   ]
  },
  {
   "cell_type": "code",
   "execution_count": 174,
   "metadata": {},
   "outputs": [
    {
     "data": {
      "text/plain": [
       "dict_values(['1 January', '4 May', '10 December'])"
      ]
     },
     "execution_count": 174,
     "metadata": {},
     "output_type": "execute_result"
    }
   ],
   "source": [
    "# Write your code below and press Shift+Enter to execute\n",
    "\n",
    "public_holiday_dict.values()"
   ]
  },
  {
   "cell_type": "markdown",
   "metadata": {},
   "source": [
    "You will need this dictionary for the following questions:"
   ]
  },
  {
   "cell_type": "markdown",
   "metadata": {},
   "source": [
    "The countries **Belgium**, **United Arab Emirates** and **Kazakhstan** have the following capital cities: **Brussels**, **Abu Dhabi** and **Astana**, respectively."
   ]
  },
  {
   "cell_type": "markdown",
   "metadata": {},
   "source": [
    "1) Create a dictionary, **capital_city_dict**, where the keys are the country names, and the values are the corresponding capital city names."
   ]
  },
  {
   "cell_type": "code",
   "execution_count": 175,
   "metadata": {},
   "outputs": [],
   "source": [
    "# Write your code below and press Shift+Enter to execute\n",
    "capital_city_dict = {'Belgium':'Brussels',\n",
    "                     'United Arab Emirates':'Abu Dhabi',\n",
    "                     'Kazakhstan':'Astana'}\n"
   ]
  },
  {
   "cell_type": "markdown",
   "metadata": {},
   "source": [
    "2) Use the dictionary to find the capital city of **United Arab Emirates**:"
   ]
  },
  {
   "cell_type": "code",
   "execution_count": 180,
   "metadata": {},
   "outputs": [
    {
     "data": {
      "text/plain": [
       "'Abu Dhabi'"
      ]
     },
     "execution_count": 180,
     "metadata": {},
     "output_type": "execute_result"
    }
   ],
   "source": [
    "# Write your code below and press Shift+Enter to execute\n",
    "capital_city_dict['United Arab Emirates']\n"
   ]
  },
  {
   "cell_type": "markdown",
   "metadata": {},
   "source": [
    "3) Find the names of the countries from the dictionary:"
   ]
  },
  {
   "cell_type": "code",
   "execution_count": 178,
   "metadata": {},
   "outputs": [
    {
     "name": "stdout",
     "output_type": "stream",
     "text": [
      "Name of the countries\n"
     ]
    },
    {
     "data": {
      "text/plain": [
       "dict_values(['Brussels', 'Abu Dhabi', 'Astana'])"
      ]
     },
     "execution_count": 178,
     "metadata": {},
     "output_type": "execute_result"
    }
   ],
   "source": [
    "# Write your code below and press Shift+Enter to execute\n",
    "print('Name of the countries')\n",
    "capital_city_dict.keys()"
   ]
  },
  {
   "cell_type": "markdown",
   "metadata": {},
   "source": [
    "4) Find the capital cities from the dictionary:"
   ]
  },
  {
   "cell_type": "code",
   "execution_count": 179,
   "metadata": {},
   "outputs": [
    {
     "name": "stdout",
     "output_type": "stream",
     "text": [
      "Name of the capital cities\n"
     ]
    },
    {
     "data": {
      "text/plain": [
       "dict_values(['Brussels', 'Abu Dhabi', 'Astana'])"
      ]
     },
     "execution_count": 179,
     "metadata": {},
     "output_type": "execute_result"
    }
   ],
   "source": [
    "# Write your code below and press Shift+Enter to execute\n",
    "print('Name of the capital cities')\n",
    "capital_city_dict.values()\n"
   ]
  },
  {
   "cell_type": "markdown",
   "metadata": {},
   "source": [
    "<hr>"
   ]
  },
  {
   "cell_type": "markdown",
   "metadata": {},
   "source": [
    "## Comparison of main data structures"
   ]
  },
  {
   "attachments": {
    "Comparison.png": {
     "image/png": "[encoded data removed]"
    }
   },
   "cell_type": "markdown",
   "metadata": {},
   "source": [
    "![Comparison.png](attachment:Comparison.png)"
   ]
  },
  {
   "cell_type": "markdown",
   "metadata": {},
   "source": [
    "## End of Module 2"
   ]
  },
  {
   "cell_type": "markdown",
   "metadata": {},
   "source": [
    "<hr>"
   ]
  }
 ],
 "metadata": {
  "kernelspec": {
   "display_name": "env",
   "language": "python",
   "name": "python3"
  },
  "language_info": {
   "codemirror_mode": {
    "name": "ipython",
    "version": 3
   },
   "file_extension": ".py",
   "mimetype": "text/x-python",
   "name": "python",
   "nbconvert_exporter": "python",
   "pygments_lexer": "ipython3",
   "version": "3.11.3"
  }
 },
 "nbformat": 4,
 "nbformat_minor": 4
}
